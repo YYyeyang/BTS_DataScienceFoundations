{
 "cells": [
  {
   "cell_type": "code",
   "execution_count": 2,
   "metadata": {},
   "outputs": [
    {
     "name": "stdout",
     "output_type": "stream",
     "text": [
      "333\n",
      "data 333 is stored\n"
     ]
    }
   ],
   "source": [
    "traffic_data={\"2013\":[2144,343,455,1223,111,6644,765],\n",
    "              \"2014\":[4324,654,7543,321,566,777,4334],\n",
    "              \"2015\":[5454,432,666,4333,765,432,876],\n",
    "              \"2016\":[4324,565,333,777,888,444,555],\n",
    "              \"2017\":[333,444,555,666,777,888,999]}\n",
    "\n",
    "mini=min(traffic_data[\"2016\"])\n",
    "\n",
    "if mini > 200:\n",
    "    \"store {0}\".format(mini)\n",
    "\n",
    "else:\n",
    "    print(\"nothing is stored\")"
   ]
  },
  {
   "cell_type": "code",
   "execution_count": 3,
   "metadata": {},
   "outputs": [
    {
     "data": {
      "text/plain": [
       "'store 333'"
      ]
     },
     "execution_count": 3,
     "metadata": {},
     "output_type": "execute_result"
    }
   ],
   "source": []
  },
  {
   "cell_type": "code",
   "execution_count": null,
   "metadata": {
    "collapsed": true
   },
   "outputs": [],
   "source": []
  }
 ],
 "metadata": {
  "kernelspec": {
   "display_name": "Python 3",
   "language": "python",
   "name": "python3"
  },
  "language_info": {
   "codemirror_mode": {
    "name": "ipython",
    "version": 3
   },
   "file_extension": ".py",
   "mimetype": "text/x-python",
   "name": "python",
   "nbconvert_exporter": "python",
   "pygments_lexer": "ipython3",
   "version": "3.6.1"
  }
 },
 "nbformat": 4,
 "nbformat_minor": 2
}

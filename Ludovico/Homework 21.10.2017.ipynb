{
 "cells": [
  {
   "cell_type": "code",
   "execution_count": 38,
   "metadata": {},
   "outputs": [],
   "source": [
    "from nltk import word_tokenize"
   ]
  },
  {
   "cell_type": "code",
   "execution_count": 39,
   "metadata": {},
   "outputs": [],
   "source": [
    "with open('Song1.txt', 'r') as myfile:\n",
    "    Song1=myfile.read().replace('\\n','. ')"
   ]
  },
  {
   "cell_type": "code",
   "execution_count": 40,
   "metadata": {
    "collapsed": true
   },
   "outputs": [],
   "source": [
    "with open('Song2.txt', 'r') as myfile:\n",
    "    Song2=myfile.read().replace('\\n','. ')"
   ]
  },
  {
   "cell_type": "code",
   "execution_count": 41,
   "metadata": {
    "collapsed": true
   },
   "outputs": [],
   "source": [
    "with open('Song3.txt', 'r') as myfile:\n",
    "    Song3=myfile.read().replace('\\n','. ')"
   ]
  },
  {
   "cell_type": "code",
   "execution_count": 42,
   "metadata": {
    "collapsed": true
   },
   "outputs": [],
   "source": [
    "with open('Song4.txt', 'r') as myfile:\n",
    "    Song4=myfile.read().replace('\\n','. ')"
   ]
  },
  {
   "cell_type": "code",
   "execution_count": 43,
   "metadata": {
    "collapsed": true
   },
   "outputs": [],
   "source": [
    "with open('Song5.txt', 'r') as myfile:\n",
    "    Song5=myfile.read().replace('\\n','. ')"
   ]
  },
  {
   "cell_type": "code",
   "execution_count": 44,
   "metadata": {
    "collapsed": true
   },
   "outputs": [],
   "source": [
    "with open('Song6.txt', 'r') as myfile:\n",
    "    Song6=myfile.read().replace('\\n','. ')"
   ]
  },
  {
   "cell_type": "code",
   "execution_count": 45,
   "metadata": {
    "collapsed": true
   },
   "outputs": [],
   "source": [
    "with open('Song7.txt', 'r') as myfile:\n",
    "    Song7=myfile.read().replace('\\n','. ')"
   ]
  },
  {
   "cell_type": "code",
   "execution_count": 46,
   "metadata": {
    "collapsed": true
   },
   "outputs": [],
   "source": [
    "with open('Song8.txt', 'r') as myfile:\n",
    "    Song8=myfile.read().replace('\\n','. ')"
   ]
  },
  {
   "cell_type": "code",
   "execution_count": 47,
   "metadata": {
    "collapsed": true
   },
   "outputs": [],
   "source": [
    "with open('Song9.txt', 'r') as myfile:\n",
    "    Song9=myfile.read().replace('\\n','. ')"
   ]
  },
  {
   "cell_type": "code",
   "execution_count": 48,
   "metadata": {
    "collapsed": true
   },
   "outputs": [],
   "source": [
    "with open('Song10.txt', 'r') as myfile:\n",
    "    Song10=myfile.read().replace('\\n','. ')"
   ]
  },
  {
   "cell_type": "code",
   "execution_count": 49,
   "metadata": {},
   "outputs": [],
   "source": [
    "all_songs=[Song1,Song2,Song3,Song4,Song5,Song6,Song7,Song8,Song9,Song10]"
   ]
  },
  {
   "cell_type": "code",
   "execution_count": 50,
   "metadata": {
    "collapsed": true
   },
   "outputs": [
    {
     "name": "stdout",
     "output_type": "stream",
     "text": [
      "{'am', 'meet', 'weirdo..', 'high', 'knife', 'those', 'notice', 'playing', 'She', 'dress', '.', 'other', 'he', 'zay-zoo-za-ze-zo-zay', 'Because', 'too', 'do', 'baby', 'around', 'float', 'If', 'darned', 'dust', 'heart', 'on', 'need', 'wear', 'fingers', 'into', 'When', 'loving', 'ba-be-do', 'Who', 'You', 'kiss', 'woolworth', 'for', 'Like', 'spend', 'weepy', 'leaf', 'ca', 'beautiful', 'because', 'weirdo', 'Baby', 'places', 'sweet', 'more', 'dynamite', 'not', 'time', 'turtle', 'move', 'the', 'Oh', 'beauty', 'off', 'hurts', \"'ve\", 'Lullaby', 'why', 'weave', 'plenty', 'ain', 'elevator', 'but', 'hell', 'care', 'are', 'And', 'ya', 'lips', 'perfect', 'anything', 'With', 'hear', 'tight', 'if', 'magic', 'name', 'rover', 'sigh', 'night', 'Flying', 'really', 'think', 'Always', 'list', 'step', 'enough', 'away', 'something', 'before', 'silicone', 'dream', 'street', 'scheme', 'than', 'walk', 'every', 'junk', 'guess', 'The', 'pray', 'then', 'tingle', 'hey', 'sip', 'fuckin', 'fate', 'Why', 'along', 'have', 'spin', 'He', 'you', 'many', 'ever', 'pieces', 'in', 'Taught', 'haunt', 'is', \"'d\", 'booty', 'Gee', 'busted', 'inch', 'running', 'lucky', 'blues', 'Just', 'run', 'ba-be-oh', 'No', 'Goody', 'My', 'clear', 'above', 'body', \"'s\", 'dreaming', 'there', 'Barbie', 'boys', 'now', 'foolish', 'pillow', 'Till', 'Rover', \"n't\", 'sure', 'look', 'babe', 'feather', 'be', 'scheming', 'Inside', 'goody', 'skinny', 'burning', 'until', 'Down', 'crazy', 'afreaid', 'tell', 'eyes', 'Hey', 'don', 'Caught', 'find', 'will', 'shake', 'like', 'as', 'real', 'road', 'na', 'kind', 'one', 'so', 'coat', 'bitches', 'go', 'All', 'oh', 'had', 'were', 'got', 'fat', 'keep', 'skin', 'angel', \"'Bout\", 'Happiness', 'Still', 'wish', 'spine', 'Then', 'plays', 'bringing', 'willow', 'things', 'chance', 'barrel', 'Come', 'ba-be-bo-ba-bay', 'doing', 'bumpy', 'face', 'Bill', 'can', 'Photoshop', 'Rock-e-fellow', 'wan', 'old', ',', 'coo', 'knows', 'tune', 'right', 'permission', 'ba-ba-bo', 'special', 'grand', 'We', \"'em\", 'that', '’', 'should', 'them', 'learn', 'Nobody', 'side', 'world', 'down', 'Know', 'long', 'round', 'nobody', 'here..', 'soul', 'Get', 'Scheme', 'tea', 'life', 'class', 'swell', 'Cus', 'cent', 'boom', 'Leave', 'give', 'size', 'ahead', 'afraid', 'doorstep', 'rich', 'Exactly', 'song', 'little', 'reveal', 'music', 'cry', 'i', '!', 'see', 'again', 'take', 'waited', 'cares', 'stick-figure', 'tide', 'Such', 'shade', 'created', 'Icy', 'some', 'what', 'few', 'downtown', 'd', 'danced', 'pretty', 't', 'doves', 'make', 'gave', 'feel', 'momma', 'does', 'Life', \"'ll\", 'There', 'ay', 'words', 'eye', 'feel..', 'awake', 'romance', 'key', 'sway', 'raise', 'get', 'memory', 'money', 'mother', 'looking', 'to', 'gold', 'From', 'our', 'act', 'how', 'way', 'groove', 'all', 'pined', \"'m\", 'was', 'Aflame', \"'bout\", 'never', 'creep', 'black', 'bottom', 'rascal', 'whisper', 'know', 'swing', 'Every', 'listen', '?', 'used', 'parade', 'has', 'no', 'heard', 'Whatever', 'phrase', 'shut', 'singin', 'Under', 'each', 'who', 'she', 'low', 'dreams', 'here', 'my', 'wo', 'ai', 'chase', 'they', 'sky', 'heels', 'lullaby', 'matter', \"'\", 'In', 'hold', 'Hooray', 'Yeah', 'stop', 'been', 'me', 'drive', 'needs', 'dance', 'feels', 'What', 'thing', 'fire', 'satisfied', 'from', 'ride', 'crossed', 'want', 'meant', 'belong', 'only', 'beams', 'we', 'hallelujah', 'magazines', 'hope', 'called', 'last', 'worry', 'pitter-pat', 'I', \"'Cause\", 'him', 'starts', 'sunny', 'aflame', 'always', 'sell', 'someone', 'it', 'witchcraft', 'likes', 'same', 'Grab', 'Have', 'So', 'Diamond', 'Never', 'doll', 'bracelets', 'working', \"'re\", 'Birdland', 'shit', 'feet', 'when', 'mine', 'On', 'farewell', 'Ca', 'better', 'just', 'woodland', 'themes', 'May', 'smile', 'coming', 'put', 'well', 'goodbye', 'its', 'a', 'control', 'could', 'changed', 'your', 'supposed', 'about', 'But', 'top', 'met', 'and', 'desire', 'makes', 'told', 'stay', 'of', 'bit', 'up', 'slow', 'joint', 'blue', 'bass', 'while', 'mate', 'day', 'says', 'love', 'Your', 'set', 'hat', 'at', 'bike', 'with', 'true', 'direct', 'sing', 'lover', 'over', 'three', 'treble', 'Kiss', 'two', 'That', 'an', 'broke', 'out', 'exactly', 'Go', 'frame', 'worries', 'show', 'back', 'happy', 'or', 'spell', 'Could', 'lie', 'understand', 'may'}\n"
     ]
    }
   ],
   "source": [
    "tokenized_songs=[word_tokenize(d) for d in all_songs]\n",
    "all_tokens_set=set([item for sublist in tokenized_songs for item in sublist])\n",
    "print(all_tokens_set)"
   ]
  },
  {
   "cell_type": "code",
   "execution_count": 91,
   "metadata": {
    "collapsed": true
   },
   "outputs": [],
   "source": [
    "def term_frequency(term,document):\n",
    "    return document.count(term)\n",
    "\n",
    "def sublinear_term_frequency(term,tokenized_document):\n",
    "    return 1 + math.log(tokenized_document.count(term))\n",
    "\n",
    "def augmented_term_frequency(term,tokenized_document):\n",
    "    max_count= max([term_frequency(t, tokenized_document) for t in tokenized_document])\n",
    "    return (0.5+((0.5*term_frequency(term, tokenized_document))/max_count)) "
   ]
  },
  {
   "cell_type": "markdown",
   "metadata": {},
   "source": [
    "# 1. Provide 5 examples of salient words"
   ]
  },
  {
   "cell_type": "code",
   "execution_count": 51,
   "metadata": {
    "collapsed": true
   },
   "outputs": [],
   "source": [
    "import math\n",
    "\n",
    "def inverse_document_frequencies(tokenized_documents):\n",
    "    idf_values = {}\n",
    "    all_tokens_set = set([item for sublist in tokenized_documents for item in sublist])\n",
    "    \n",
    "    for tkn in all_tokens_set:\n",
    "         contains_token = map(lambda doc: tkn in doc, tokenized_documents) \n",
    "             idf_values[tkn] = 1 + math.log(len(tokenized_documents)/sum(contains_token))\n",
    "    return idf_values"
   ]
  },
  {
   "cell_type": "code",
   "execution_count": 92,
   "metadata": {},
   "outputs": [],
   "source": [
    "idf_values=inverse_document_frequencies(tokenized_songs)"
   ]
  },
  {
   "cell_type": "code",
   "execution_count": 115,
   "metadata": {
    "collapsed": true
   },
   "outputs": [
    {
     "data": {
      "text/plain": [
       "{'!': 2.6094379124341005,\n",
       " \"'\": 2.6094379124341005,\n",
       " \"'Bout\": 3.302585092994046,\n",
       " \"'Cause\": 3.302585092994046,\n",
       " \"'bout\": 3.302585092994046,\n",
       " \"'d\": 2.203972804325936,\n",
       " \"'em\": 3.302585092994046,\n",
       " \"'ll\": 2.203972804325936,\n",
       " \"'m\": 1.6931471805599454,\n",
       " \"'re\": 1.6931471805599454,\n",
       " \"'s\": 1.3566749439387324,\n",
       " \"'ve\": 2.203972804325936,\n",
       " ',': 1.1053605156578263,\n",
       " '.': 1.0,\n",
       " '?': 1.916290731874155,\n",
       " 'Aflame': 3.302585092994046,\n",
       " 'All': 1.916290731874155,\n",
       " 'Always': 3.302585092994046,\n",
       " 'And': 1.5108256237659907,\n",
       " 'Baby': 2.6094379124341005,\n",
       " 'Barbie': 3.302585092994046,\n",
       " 'Because': 3.302585092994046,\n",
       " 'Bill': 3.302585092994046,\n",
       " 'Birdland': 3.302585092994046,\n",
       " 'But': 2.203972804325936,\n",
       " 'Ca': 3.302585092994046,\n",
       " 'Caught': 3.302585092994046,\n",
       " 'Come': 3.302585092994046,\n",
       " 'Could': 3.302585092994046,\n",
       " 'Cus': 3.302585092994046,\n",
       " 'Diamond': 3.302585092994046,\n",
       " 'Down': 3.302585092994046,\n",
       " 'Every': 2.6094379124341005,\n",
       " 'Exactly': 3.302585092994046,\n",
       " 'Flying': 3.302585092994046,\n",
       " 'From': 3.302585092994046,\n",
       " 'Gee': 3.302585092994046,\n",
       " 'Get': 3.302585092994046,\n",
       " 'Go': 3.302585092994046,\n",
       " 'Goody': 3.302585092994046,\n",
       " 'Grab': 3.302585092994046,\n",
       " 'Happiness': 3.302585092994046,\n",
       " 'Have': 3.302585092994046,\n",
       " 'He': 2.6094379124341005,\n",
       " 'Hey': 3.302585092994046,\n",
       " 'Hooray': 3.302585092994046,\n",
       " 'I': 1.0,\n",
       " 'Icy': 3.302585092994046,\n",
       " 'If': 2.203972804325936,\n",
       " 'In': 2.203972804325936,\n",
       " 'Inside': 3.302585092994046,\n",
       " 'Just': 3.302585092994046,\n",
       " 'Kiss': 3.302585092994046,\n",
       " 'Know': 3.302585092994046,\n",
       " 'Leave': 3.302585092994046,\n",
       " 'Life': 3.302585092994046,\n",
       " 'Like': 3.302585092994046,\n",
       " 'Lullaby': 3.302585092994046,\n",
       " 'May': 3.302585092994046,\n",
       " 'My': 2.203972804325936,\n",
       " 'Never': 3.302585092994046,\n",
       " 'No': 2.203972804325936,\n",
       " 'Nobody': 3.302585092994046,\n",
       " 'Oh': 2.6094379124341005,\n",
       " 'On': 2.6094379124341005,\n",
       " 'Photoshop': 3.302585092994046,\n",
       " 'Rock-e-fellow': 3.302585092994046,\n",
       " 'Rover': 3.302585092994046,\n",
       " 'Scheme': 3.302585092994046,\n",
       " 'She': 2.203972804325936,\n",
       " 'So': 2.203972804325936,\n",
       " 'Still': 3.302585092994046,\n",
       " 'Such': 3.302585092994046,\n",
       " 'Taught': 3.302585092994046,\n",
       " 'That': 1.916290731874155,\n",
       " 'The': 2.6094379124341005,\n",
       " 'Then': 3.302585092994046,\n",
       " 'There': 3.302585092994046,\n",
       " 'Till': 3.302585092994046,\n",
       " 'Under': 3.302585092994046,\n",
       " 'We': 1.916290731874155,\n",
       " 'What': 3.302585092994046,\n",
       " 'Whatever': 3.302585092994046,\n",
       " 'When': 2.203972804325936,\n",
       " 'Who': 3.302585092994046,\n",
       " 'Why': 3.302585092994046,\n",
       " 'With': 3.302585092994046,\n",
       " 'Yeah': 3.302585092994046,\n",
       " 'You': 1.6931471805599454,\n",
       " 'Your': 3.302585092994046,\n",
       " 'a': 1.0,\n",
       " 'about': 2.6094379124341005,\n",
       " 'above': 3.302585092994046,\n",
       " 'act': 3.302585092994046,\n",
       " 'aflame': 3.302585092994046,\n",
       " 'afraid': 3.302585092994046,\n",
       " 'afreaid': 3.302585092994046,\n",
       " 'again': 2.6094379124341005,\n",
       " 'ahead': 3.302585092994046,\n",
       " 'ai': 3.302585092994046,\n",
       " 'ain': 3.302585092994046,\n",
       " 'all': 1.6931471805599454,\n",
       " 'along': 3.302585092994046,\n",
       " 'always': 2.6094379124341005,\n",
       " 'am': 3.302585092994046,\n",
       " 'an': 3.302585092994046,\n",
       " 'and': 1.5108256237659907,\n",
       " 'angel': 3.302585092994046,\n",
       " 'anything': 3.302585092994046,\n",
       " 'are': 2.6094379124341005,\n",
       " 'around': 2.6094379124341005,\n",
       " 'as': 2.6094379124341005,\n",
       " 'at': 2.6094379124341005,\n",
       " 'awake': 3.302585092994046,\n",
       " 'away': 2.203972804325936,\n",
       " 'ay': 3.302585092994046,\n",
       " 'ba-ba-bo': 3.302585092994046,\n",
       " 'ba-be-bo-ba-bay': 3.302585092994046,\n",
       " 'ba-be-do': 3.302585092994046,\n",
       " 'ba-be-oh': 3.302585092994046,\n",
       " 'babe': 3.302585092994046,\n",
       " 'baby': 1.916290731874155,\n",
       " 'back': 2.6094379124341005,\n",
       " 'barrel': 3.302585092994046,\n",
       " 'bass': 3.302585092994046,\n",
       " 'be': 1.916290731874155,\n",
       " 'beams': 3.302585092994046,\n",
       " 'beautiful': 3.302585092994046,\n",
       " 'beauty': 3.302585092994046,\n",
       " 'because': 3.302585092994046,\n",
       " 'been': 3.302585092994046,\n",
       " 'before': 3.302585092994046,\n",
       " 'belong': 3.302585092994046,\n",
       " 'better': 3.302585092994046,\n",
       " 'bike': 3.302585092994046,\n",
       " 'bit': 3.302585092994046,\n",
       " 'bitches': 3.302585092994046,\n",
       " 'black': 3.302585092994046,\n",
       " 'blue': 3.302585092994046,\n",
       " 'blues': 2.6094379124341005,\n",
       " 'body': 3.302585092994046,\n",
       " 'boom': 3.302585092994046,\n",
       " 'booty': 3.302585092994046,\n",
       " 'bottom': 3.302585092994046,\n",
       " 'boys': 3.302585092994046,\n",
       " 'bracelets': 3.302585092994046,\n",
       " 'bringing': 3.302585092994046,\n",
       " 'broke': 3.302585092994046,\n",
       " 'bumpy': 3.302585092994046,\n",
       " 'burning': 3.302585092994046,\n",
       " 'busted': 3.302585092994046,\n",
       " 'but': 1.916290731874155,\n",
       " 'ca': 2.6094379124341005,\n",
       " 'called': 3.302585092994046,\n",
       " 'can': 1.916290731874155,\n",
       " 'care': 3.302585092994046,\n",
       " 'cares': 3.302585092994046,\n",
       " 'cent': 3.302585092994046,\n",
       " 'chance': 3.302585092994046,\n",
       " 'changed': 3.302585092994046,\n",
       " 'chase': 3.302585092994046,\n",
       " 'class': 3.302585092994046,\n",
       " 'clear': 3.302585092994046,\n",
       " 'coat': 3.302585092994046,\n",
       " 'coming': 3.302585092994046,\n",
       " 'control': 3.302585092994046,\n",
       " 'coo': 3.302585092994046,\n",
       " 'could': 3.302585092994046,\n",
       " 'crazy': 3.302585092994046,\n",
       " 'created': 3.302585092994046,\n",
       " 'creep': 3.302585092994046,\n",
       " 'crossed': 3.302585092994046,\n",
       " 'cry': 2.6094379124341005,\n",
       " 'd': 3.302585092994046,\n",
       " 'dance': 3.302585092994046,\n",
       " 'danced': 3.302585092994046,\n",
       " 'darned': 3.302585092994046,\n",
       " 'day': 3.302585092994046,\n",
       " 'desire': 3.302585092994046,\n",
       " 'direct': 3.302585092994046,\n",
       " 'do': 1.916290731874155,\n",
       " 'does': 3.302585092994046,\n",
       " 'doing': 3.302585092994046,\n",
       " 'doll': 3.302585092994046,\n",
       " 'don': 3.302585092994046,\n",
       " 'doorstep': 3.302585092994046,\n",
       " 'doves': 3.302585092994046,\n",
       " 'down': 2.6094379124341005,\n",
       " 'downtown': 3.302585092994046,\n",
       " 'dream': 2.6094379124341005,\n",
       " 'dreaming': 3.302585092994046,\n",
       " 'dreams': 3.302585092994046,\n",
       " 'dress': 3.302585092994046,\n",
       " 'drive': 3.302585092994046,\n",
       " 'dust': 3.302585092994046,\n",
       " 'dynamite': 3.302585092994046,\n",
       " 'each': 3.302585092994046,\n",
       " 'elevator': 3.302585092994046,\n",
       " 'enough': 3.302585092994046,\n",
       " 'ever': 3.302585092994046,\n",
       " 'every': 2.6094379124341005,\n",
       " 'exactly': 3.302585092994046,\n",
       " 'eye': 3.302585092994046,\n",
       " 'eyes': 3.302585092994046,\n",
       " 'face': 3.302585092994046,\n",
       " 'farewell': 3.302585092994046,\n",
       " 'fat': 3.302585092994046,\n",
       " 'fate': 3.302585092994046,\n",
       " 'feather': 3.302585092994046,\n",
       " 'feel': 2.6094379124341005,\n",
       " 'feel..': 3.302585092994046,\n",
       " 'feels': 3.302585092994046,\n",
       " 'feet': 3.302585092994046,\n",
       " 'few': 3.302585092994046,\n",
       " 'find': 3.302585092994046,\n",
       " 'fingers': 3.302585092994046,\n",
       " 'fire': 3.302585092994046,\n",
       " 'float': 3.302585092994046,\n",
       " 'foolish': 3.302585092994046,\n",
       " 'for': 1.916290731874155,\n",
       " 'frame': 3.302585092994046,\n",
       " 'from': 2.203972804325936,\n",
       " 'fuckin': 3.302585092994046,\n",
       " 'gave': 3.302585092994046,\n",
       " 'get': 3.302585092994046,\n",
       " 'give': 2.203972804325936,\n",
       " 'go': 1.916290731874155,\n",
       " 'gold': 3.302585092994046,\n",
       " 'goodbye': 3.302585092994046,\n",
       " 'goody': 3.302585092994046,\n",
       " 'got': 2.6094379124341005,\n",
       " 'grand': 3.302585092994046,\n",
       " 'groove': 3.302585092994046,\n",
       " 'guess': 3.302585092994046,\n",
       " 'had': 2.6094379124341005,\n",
       " 'hallelujah': 3.302585092994046,\n",
       " 'happy': 2.6094379124341005,\n",
       " 'has': 3.302585092994046,\n",
       " 'hat': 2.6094379124341005,\n",
       " 'haunt': 3.302585092994046,\n",
       " 'have': 2.6094379124341005,\n",
       " 'he': 2.6094379124341005,\n",
       " 'hear': 2.6094379124341005,\n",
       " 'heard': 2.6094379124341005,\n",
       " 'heart': 3.302585092994046,\n",
       " 'heels': 3.302585092994046,\n",
       " 'hell': 3.302585092994046,\n",
       " 'here': 2.203972804325936,\n",
       " 'here..': 3.302585092994046,\n",
       " 'hey': 3.302585092994046,\n",
       " 'high': 3.302585092994046,\n",
       " 'him': 2.6094379124341005,\n",
       " 'hold': 2.203972804325936,\n",
       " 'hope': 3.302585092994046,\n",
       " 'how': 2.6094379124341005,\n",
       " 'hurts': 3.302585092994046,\n",
       " 'i': 2.6094379124341005,\n",
       " 'if': 2.203972804325936,\n",
       " 'in': 1.5108256237659907,\n",
       " 'inch': 3.302585092994046,\n",
       " 'into': 3.302585092994046,\n",
       " 'is': 2.203972804325936,\n",
       " 'it': 1.6931471805599454,\n",
       " 'its': 3.302585092994046,\n",
       " 'joint': 3.302585092994046,\n",
       " 'junk': 3.302585092994046,\n",
       " 'just': 1.916290731874155,\n",
       " 'keep': 3.302585092994046,\n",
       " 'key': 3.302585092994046,\n",
       " 'kind': 3.302585092994046,\n",
       " 'kiss': 2.6094379124341005,\n",
       " 'knife': 3.302585092994046,\n",
       " 'know': 1.916290731874155,\n",
       " 'knows': 3.302585092994046,\n",
       " 'last': 3.302585092994046,\n",
       " 'leaf': 3.302585092994046,\n",
       " 'learn': 3.302585092994046,\n",
       " 'lie': 3.302585092994046,\n",
       " 'life': 3.302585092994046,\n",
       " 'like': 1.6931471805599454,\n",
       " 'likes': 3.302585092994046,\n",
       " 'lips': 2.6094379124341005,\n",
       " 'list': 3.302585092994046,\n",
       " 'listen': 3.302585092994046,\n",
       " 'little': 2.203972804325936,\n",
       " 'long': 3.302585092994046,\n",
       " 'look': 3.302585092994046,\n",
       " 'looking': 3.302585092994046,\n",
       " 'love': 1.3566749439387324,\n",
       " 'lover': 3.302585092994046,\n",
       " 'loving': 2.6094379124341005,\n",
       " 'low': 3.302585092994046,\n",
       " 'lucky': 3.302585092994046,\n",
       " 'lullaby': 3.302585092994046,\n",
       " 'magazines': 3.302585092994046,\n",
       " 'magic': 2.6094379124341005,\n",
       " 'make': 2.6094379124341005,\n",
       " 'makes': 3.302585092994046,\n",
       " 'many': 3.302585092994046,\n",
       " 'mate': 3.302585092994046,\n",
       " 'matter': 3.302585092994046,\n",
       " 'may': 3.302585092994046,\n",
       " 'me': 1.2231435513142097,\n",
       " 'meant': 3.302585092994046,\n",
       " 'meet': 2.6094379124341005,\n",
       " 'memory': 3.302585092994046,\n",
       " 'met': 3.302585092994046,\n",
       " 'mine': 2.6094379124341005,\n",
       " 'momma': 3.302585092994046,\n",
       " 'money': 3.302585092994046,\n",
       " 'more': 3.302585092994046,\n",
       " 'mother': 3.302585092994046,\n",
       " 'move': 2.6094379124341005,\n",
       " 'music': 2.6094379124341005,\n",
       " 'my': 1.3566749439387324,\n",
       " \"n't\": 1.6931471805599454,\n",
       " 'na': 3.302585092994046,\n",
       " 'name': 3.302585092994046,\n",
       " 'need': 3.302585092994046,\n",
       " 'needs': 3.302585092994046,\n",
       " 'never': 2.203972804325936,\n",
       " 'night': 2.203972804325936,\n",
       " 'no': 2.203972804325936,\n",
       " 'nobody': 3.302585092994046,\n",
       " 'not': 2.6094379124341005,\n",
       " 'notice': 3.302585092994046,\n",
       " 'now': 2.6094379124341005,\n",
       " 'of': 1.3566749439387324,\n",
       " 'off': 3.302585092994046,\n",
       " 'oh': 3.302585092994046,\n",
       " 'old': 2.6094379124341005,\n",
       " 'on': 1.916290731874155,\n",
       " 'one': 2.6094379124341005,\n",
       " 'only': 2.6094379124341005,\n",
       " 'or': 2.6094379124341005,\n",
       " 'other': 3.302585092994046,\n",
       " 'our': 3.302585092994046,\n",
       " 'out': 2.203972804325936,\n",
       " 'over': 3.302585092994046,\n",
       " 'parade': 3.302585092994046,\n",
       " 'perfect': 2.6094379124341005,\n",
       " 'permission': 3.302585092994046,\n",
       " 'phrase': 3.302585092994046,\n",
       " 'pieces': 3.302585092994046,\n",
       " 'pillow': 3.302585092994046,\n",
       " 'pined': 3.302585092994046,\n",
       " 'pitter-pat': 3.302585092994046,\n",
       " 'places': 3.302585092994046,\n",
       " 'playing': 3.302585092994046,\n",
       " 'plays': 3.302585092994046,\n",
       " 'plenty': 3.302585092994046,\n",
       " 'pray': 3.302585092994046,\n",
       " 'pretty': 3.302585092994046,\n",
       " 'put': 3.302585092994046,\n",
       " 'raise': 3.302585092994046,\n",
       " 'rascal': 3.302585092994046,\n",
       " 'real': 3.302585092994046,\n",
       " 'really': 3.302585092994046,\n",
       " 'reveal': 3.302585092994046,\n",
       " 'rich': 3.302585092994046,\n",
       " 'ride': 3.302585092994046,\n",
       " 'right': 3.302585092994046,\n",
       " 'road': 3.302585092994046,\n",
       " 'romance': 3.302585092994046,\n",
       " 'round': 3.302585092994046,\n",
       " 'rover': 3.302585092994046,\n",
       " 'run': 3.302585092994046,\n",
       " 'running': 3.302585092994046,\n",
       " 'same': 3.302585092994046,\n",
       " 'satisfied': 3.302585092994046,\n",
       " 'says': 3.302585092994046,\n",
       " 'scheme': 3.302585092994046,\n",
       " 'scheming': 3.302585092994046,\n",
       " 'see': 2.203972804325936,\n",
       " 'sell': 3.302585092994046,\n",
       " 'set': 3.302585092994046,\n",
       " 'shade': 3.302585092994046,\n",
       " 'shake': 2.6094379124341005,\n",
       " 'she': 3.302585092994046,\n",
       " 'shit': 3.302585092994046,\n",
       " 'should': 2.203972804325936,\n",
       " 'show': 3.302585092994046,\n",
       " 'shut': 3.302585092994046,\n",
       " 'side': 3.302585092994046,\n",
       " 'sigh': 3.302585092994046,\n",
       " 'silicone': 3.302585092994046,\n",
       " 'sing': 3.302585092994046,\n",
       " 'singin': 3.302585092994046,\n",
       " 'sip': 3.302585092994046,\n",
       " 'size': 3.302585092994046,\n",
       " 'skin': 3.302585092994046,\n",
       " 'skinny': 3.302585092994046,\n",
       " 'sky': 3.302585092994046,\n",
       " 'slow': 3.302585092994046,\n",
       " 'smile': 3.302585092994046,\n",
       " 'so': 1.6931471805599454,\n",
       " 'some': 3.302585092994046,\n",
       " 'someone': 2.6094379124341005,\n",
       " 'something': 3.302585092994046,\n",
       " 'song': 3.302585092994046,\n",
       " 'soul': 3.302585092994046,\n",
       " 'special': 3.302585092994046,\n",
       " 'spell': 3.302585092994046,\n",
       " 'spend': 3.302585092994046,\n",
       " 'spin': 3.302585092994046,\n",
       " 'spine': 3.302585092994046,\n",
       " 'starts': 3.302585092994046,\n",
       " 'stay': 3.302585092994046,\n",
       " 'step': 3.302585092994046,\n",
       " 'stick-figure': 3.302585092994046,\n",
       " 'stop': 3.302585092994046,\n",
       " 'street': 3.302585092994046,\n",
       " 'sunny': 3.302585092994046,\n",
       " 'supposed': 3.302585092994046,\n",
       " 'sure': 3.302585092994046,\n",
       " 'sway': 3.302585092994046,\n",
       " 'sweet': 2.6094379124341005,\n",
       " 'swell': 3.302585092994046,\n",
       " 'swing': 3.302585092994046,\n",
       " 't': 3.302585092994046,\n",
       " 'take': 3.302585092994046,\n",
       " 'tea': 3.302585092994046,\n",
       " 'tell': 2.6094379124341005,\n",
       " 'than': 3.302585092994046,\n",
       " 'that': 1.3566749439387324,\n",
       " 'the': 1.0,\n",
       " 'them': 3.302585092994046,\n",
       " 'themes': 3.302585092994046,\n",
       " 'then': 3.302585092994046,\n",
       " 'there': 3.302585092994046,\n",
       " 'they': 2.203972804325936,\n",
       " 'thing': 2.6094379124341005,\n",
       " 'things': 2.6094379124341005,\n",
       " 'think': 2.6094379124341005,\n",
       " 'those': 2.203972804325936,\n",
       " 'three': 3.302585092994046,\n",
       " 'tide': 3.302585092994046,\n",
       " 'tight': 3.302585092994046,\n",
       " 'time': 3.302585092994046,\n",
       " 'tingle': 3.302585092994046,\n",
       " 'to': 1.1053605156578263,\n",
       " 'told': 3.302585092994046,\n",
       " 'too': 3.302585092994046,\n",
       " 'top': 3.302585092994046,\n",
       " 'treble': 3.302585092994046,\n",
       " 'true': 3.302585092994046,\n",
       " 'tune': 3.302585092994046,\n",
       " 'turtle': 3.302585092994046,\n",
       " 'two': 1.916290731874155,\n",
       " 'understand': 3.302585092994046,\n",
       " 'until': 3.302585092994046,\n",
       " 'up': 1.916290731874155,\n",
       " 'used': 3.302585092994046,\n",
       " 'waited': 2.6094379124341005,\n",
       " 'walk': 3.302585092994046,\n",
       " 'wan': 3.302585092994046,\n",
       " 'want': 3.302585092994046,\n",
       " 'was': 3.302585092994046,\n",
       " 'way': 3.302585092994046,\n",
       " 'we': 1.916290731874155,\n",
       " 'wear': 3.302585092994046,\n",
       " 'weave': 3.302585092994046,\n",
       " 'weepy': 3.302585092994046,\n",
       " 'weirdo': 3.302585092994046,\n",
       " 'weirdo..': 3.302585092994046,\n",
       " 'well': 2.6094379124341005,\n",
       " 'were': 3.302585092994046,\n",
       " 'what': 2.6094379124341005,\n",
       " 'when': 2.203972804325936,\n",
       " 'while': 3.302585092994046,\n",
       " 'whisper': 3.302585092994046,\n",
       " 'who': 3.302585092994046,\n",
       " 'why': 2.6094379124341005,\n",
       " 'will': 3.302585092994046,\n",
       " 'willow': 3.302585092994046,\n",
       " 'wish': 3.302585092994046,\n",
       " 'witchcraft': 3.302585092994046,\n",
       " 'with': 2.203972804325936,\n",
       " 'wo': 3.302585092994046,\n",
       " 'woodland': 3.302585092994046,\n",
       " 'woolworth': 3.302585092994046,\n",
       " 'words': 3.302585092994046,\n",
       " 'working': 3.302585092994046,\n",
       " 'world': 2.6094379124341005,\n",
       " 'worries': 3.302585092994046,\n",
       " 'worry': 2.6094379124341005,\n",
       " 'ya': 3.302585092994046,\n",
       " 'you': 1.1053605156578263,\n",
       " 'your': 1.6931471805599454,\n",
       " 'zay-zoo-za-ze-zo-zay': 3.302585092994046,\n",
       " '’': 3.302585092994046}"
      ]
     },
     "execution_count": 115,
     "metadata": {},
     "output_type": "execute_result"
    }
   ],
   "source": [
    "idf_values"
   ]
  },
  {
   "cell_type": "code",
   "execution_count": 116,
   "metadata": {},
   "outputs": [
    {
     "name": "stdout",
     "output_type": "stream",
     "text": [
      "1.0\n"
     ]
    }
   ],
   "source": [
    "print(idf_values[\"I\"])"
   ]
  },
  {
   "cell_type": "code",
   "execution_count": 117,
   "metadata": {},
   "outputs": [
    {
     "name": "stdout",
     "output_type": "stream",
     "text": [
      "1.3566749439387324\n"
     ]
    }
   ],
   "source": [
    "print(idf_values[\"love\"])"
   ]
  },
  {
   "cell_type": "code",
   "execution_count": 118,
   "metadata": {},
   "outputs": [
    {
     "name": "stdout",
     "output_type": "stream",
     "text": [
      "1.1053605156578263\n"
     ]
    }
   ],
   "source": [
    "print(idf_values[\"you\"])"
   ]
  },
  {
   "cell_type": "code",
   "execution_count": 119,
   "metadata": {},
   "outputs": [
    {
     "name": "stdout",
     "output_type": "stream",
     "text": [
      "3.302585092994046\n"
     ]
    }
   ],
   "source": [
    "print(idf_values[\"sunny\"])"
   ]
  },
  {
   "cell_type": "code",
   "execution_count": 121,
   "metadata": {},
   "outputs": [
    {
     "name": "stdout",
     "output_type": "stream",
     "text": [
      "3.302585092994046\n"
     ]
    }
   ],
   "source": [
    "print(idf_values[\"street\"])"
   ]
  },
  {
   "cell_type": "code",
   "execution_count": 122,
   "metadata": {},
   "outputs": [
    {
     "name": "stdout",
     "output_type": "stream",
     "text": [
      "3.302585092994046\n"
     ]
    }
   ],
   "source": [
    "print(idf_values[\"before\"])"
   ]
  },
  {
   "cell_type": "code",
   "execution_count": 124,
   "metadata": {},
   "outputs": [
    {
     "name": "stdout",
     "output_type": "stream",
     "text": [
      "3.302585092994046\n"
     ]
    }
   ],
   "source": [
    "print(idf_values[\"creep\"])"
   ]
  },
  {
   "cell_type": "code",
   "execution_count": 125,
   "metadata": {},
   "outputs": [
    {
     "name": "stdout",
     "output_type": "stream",
     "text": [
      "3.302585092994046\n"
     ]
    }
   ],
   "source": [
    "print(idf_values[\"lullaby\"])"
   ]
  },
  {
   "cell_type": "markdown",
   "metadata": {},
   "source": [
    "# Result: the last five words with IDF score 3.3 means they are salient words among all the songs"
   ]
  },
  {
   "cell_type": "markdown",
   "metadata": {},
   "source": [
    "# 2. Compute the TF-IDF score of each lyric"
   ]
  },
  {
   "cell_type": "code",
   "execution_count": 94,
   "metadata": {
    "collapsed": true
   },
   "outputs": [],
   "source": [
    "def tfidf(documents):\n",
    "    tokenized_documents = [word_tokenize(d) for d in documents]\n",
    "    idf = inverse_document_frequencies(tokenized_documents)\n",
    "    tfidf_documents = []\n",
    "    for document in tokenized_documents:\n",
    "        doc_tfidf = []\n",
    "        \n",
    "        for term in idf.keys(): \n",
    "            tf = augmented_term_frequency (term, document)\n",
    "            doc_tfidf.append([tf*idf[term], term])\n",
    "        tfidf_documents.append(doc_tfidf)\n",
    "        \n",
    "    return tfidf_documents"
   ]
  },
  {
   "cell_type": "code",
   "execution_count": 98,
   "metadata": {},
   "outputs": [
    {
     "name": "stdout",
     "output_type": "stream",
     "text": [
      "[[1.651292546497023, 'am'], [1.3047189562170503, 'meet'], [1.651292546497023, 'weirdo..'], [1.651292546497023, 'high'], [1.651292546497023, 'knife'], [1.101986402162968, 'those'], [1.651292546497023, 'notice'], [1.6836708317224547, 'playing'], [1.1452015551889667, 'She'], [1.651292546497023, 'dress'], [0.9803921568627452, '.'], [1.651292546497023, 'other'], [1.3047189562170503, 'he'], [1.651292546497023, 'zay-zoo-za-ze-zo-zay'], [1.8131839726241823, 'Because'], [1.651292546497023, 'too'], [1.0145068580510233, 'do'], [0.9581453659370776, 'baby'], [1.3047189562170503, 'around'], [1.651292546497023, 'float'], [1.1235939786759672, 'If'], [1.651292546497023, 'darned'], [1.651292546497023, 'dust'], [1.651292546497023, 'heart'], [0.9769325299750594, 'on'], [1.651292546497023, 'need'], [1.651292546497023, 'wear'], [1.651292546497023, 'fingers'], [1.7160491169478866, 'into'], [1.101986402162968, 'When'], [1.3047189562170503, 'loving'], [1.651292546497023, 'ba-be-do'], [1.651292546497023, 'Who'], [0.8797725546046776, 'You'], [1.3047189562170503, 'kiss'], [1.651292546497023, 'woolworth'], [0.9581453659370776, 'for'], [1.651292546497023, 'Like'], [1.651292546497023, 'spend'], [1.651292546497023, 'weepy'], [1.651292546497023, 'leaf'], [1.3047189562170503, 'ca'], [1.651292546497023, 'beautiful'], [1.651292546497023, 'because'], [1.651292546497023, 'weirdo'], [1.3047189562170503, 'Baby'], [1.6836708317224547, 'places'], [1.3047189562170503, 'sweet'], [1.7160491169478866, 'more'], [1.651292546497023, 'dynamite'], [1.3047189562170503, 'not'], [1.651292546497023, 'time'], [1.651292546497023, 'turtle'], [1.3558844054804642, 'move'], [0.5784313725490196, 'the'], [1.3047189562170503, 'Oh'], [1.7160491169478866, 'beauty'], [1.651292546497023, 'off'], [1.651292546497023, 'hurts'], [1.101986402162968, \"'ve\"], [1.651292546497023, 'Lullaby'], [1.3047189562170503, 'why'], [1.651292546497023, 'weave'], [1.651292546497023, 'plenty'], [1.651292546497023, 'ain'], [1.651292546497023, 'elevator'], [0.9581453659370776, 'but'], [1.651292546497023, 'hell'], [1.651292546497023, 'care'], [1.3047189562170503, 'are'], [0.7554128118829954, 'And'], [1.651292546497023, 'ya'], [1.3047189562170503, 'lips'], [1.3558844054804642, 'perfect'], [1.651292546497023, 'anything'], [1.651292546497023, 'With'], [1.3047189562170503, 'hear'], [1.651292546497023, 'tight'], [1.1452015551889667, 'if'], [1.3047189562170503, 'magic'], [1.651292546497023, 'name'], [1.651292546497023, 'rover'], [1.651292546497023, 'sigh'], [1.1452015551889667, 'night'], [1.651292546497023, 'Flying'], [1.651292546497023, 'really'], [1.330301680848757, 'think'], [1.651292546497023, 'Always'], [1.651292546497023, 'list'], [1.651292546497023, 'step'], [1.651292546497023, 'enough'], [1.101986402162968, 'away'], [1.651292546497023, 'something'], [1.651292546497023, 'before'], [1.7160491169478866, 'silicone'], [1.3047189562170503, 'dream'], [1.651292546497023, 'street'], [1.651292546497023, 'scheme'], [1.651292546497023, 'than'], [1.651292546497023, 'walk'], [1.330301680848757, 'every'], [1.6836708317224547, 'junk'], [1.651292546497023, 'guess'], [1.3047189562170503, 'The'], [1.651292546497023, 'pray'], [1.651292546497023, 'then'], [1.651292546497023, 'tingle'], [1.651292546497023, 'hey'], [1.651292546497023, 'sip'], [1.651292546497023, 'fuckin'], [1.651292546497023, 'fate'], [1.651292546497023, 'Why'], [1.7160491169478866, 'along'], [1.3047189562170503, 'have'], [1.651292546497023, 'spin'], [1.3047189562170503, 'He'], [0.6935595392362832, 'you'], [1.651292546497023, 'many'], [1.651292546497023, 'ever'], [1.651292546497023, 'pieces'], [0.7702248278022698, 'in'], [1.651292546497023, 'Taught'], [1.651292546497023, 'haunt'], [1.1452015551889667, 'is'], [1.101986402162968, \"'d\"], [1.7484274021733184, 'booty'], [1.651292546497023, 'Gee'], [1.651292546497023, 'busted'], [1.7160491169478866, 'inch'], [1.651292546497023, 'running'], [1.651292546497023, 'lucky'], [1.3047189562170503, 'blues'], [1.651292546497023, 'Just'], [1.651292546497023, 'run'], [1.651292546497023, 'ba-be-oh'], [1.1235939786759672, 'No'], [1.651292546497023, 'Goody'], [1.101986402162968, 'My'], [1.6836708317224547, 'clear'], [1.651292546497023, 'above'], [1.651292546497023, 'body'], [0.7448411456918532, \"'s\"], [1.651292546497023, 'dreaming'], [1.651292546497023, 'there'], [1.7160491169478866, 'Barbie'], [1.7484274021733184, 'boys'], [1.330301680848757, 'now'], [1.651292546497023, 'foolish'], [1.651292546497023, 'pillow'], [1.651292546497023, 'Till'], [1.651292546497023, 'Rover'], [0.9461704832540871, \"n't\"], [1.651292546497023, 'sure'], [1.651292546497023, 'look'], [1.651292546497023, 'babe'], [1.651292546497023, 'feather'], [0.9957196940130415, 'be'], [1.651292546497023, 'scheming'], [1.651292546497023, 'Inside'], [1.651292546497023, 'goody'], [1.6836708317224547, 'skinny'], [1.651292546497023, 'burning'], [1.651292546497023, 'until'], [1.651292546497023, 'Down'], [1.651292546497023, 'crazy'], [1.651292546497023, 'afreaid'], [1.3558844054804642, 'tell'], [1.651292546497023, 'eyes'], [1.6836708317224547, 'Hey'], [1.651292546497023, 'don'], [1.651292546497023, 'Caught'], [1.651292546497023, 'find'], [1.651292546497023, 'will'], [1.3558844054804642, 'shake'], [0.8963720367670299, 'like'], [1.3047189562170503, 'as'], [1.6836708317224547, 'real'], [1.651292546497023, 'road'], [1.651292546497023, 'na'], [1.651292546497023, 'kind'], [1.3047189562170503, 'one'], [0.8465735902799727, 'so'], [1.651292546497023, 'coat'], [1.6836708317224547, 'bitches'], [0.9957196940130415, 'go'], [0.9769325299750594, 'All'], [1.651292546497023, 'oh'], [1.3047189562170503, 'had'], [1.651292546497023, 'were'], [1.3558844054804642, 'got'], [1.6836708317224547, 'fat'], [1.651292546497023, 'keep'], [1.651292546497023, 'skin'], [1.651292546497023, 'angel'], [1.8131839726241823, \"'Bout\"], [1.651292546497023, 'Happiness'], [1.651292546497023, 'Still'], [1.651292546497023, 'wish'], [1.651292546497023, 'spine'], [1.7160491169478866, 'Then'], [1.651292546497023, 'plays'], [1.6836708317224547, 'bringing'], [1.651292546497023, 'willow'], [1.3047189562170503, 'things'], [1.651292546497023, 'chance'], [1.651292546497023, 'barrel'], [1.6836708317224547, 'Come'], [1.651292546497023, 'ba-be-bo-ba-bay'], [1.651292546497023, 'doing'], [1.651292546497023, 'bumpy'], [1.651292546497023, 'face'], [1.651292546497023, 'Bill'], [0.9769325299750594, 'can'], [1.6836708317224547, 'Photoshop'], [1.651292546497023, 'Rock-e-fellow'], [1.651292546497023, 'wan'], [1.3047189562170503, 'old'], [1.1053605156578263, ','], [1.651292546497023, 'coo'], [1.651292546497023, 'knows'], [1.651292546497023, 'tune'], [1.7160491169478866, 'right'], [1.651292546497023, 'permission'], [1.651292546497023, 'ba-ba-bo'], [1.651292546497023, 'special'], [1.651292546497023, 'grand'], [0.9769325299750594, 'We'], [1.6836708317224547, \"'em\"], [1.303472004960743, 'that'], [1.651292546497023, '’'], [1.101986402162968, 'should'], [1.6836708317224547, 'them'], [1.651292546497023, 'learn'], [1.651292546497023, 'Nobody'], [1.651292546497023, 'side'], [1.3047189562170503, 'world'], [1.3047189562170503, 'down'], [1.651292546497023, 'Know'], [1.651292546497023, 'long'], [1.651292546497023, 'round'], [1.651292546497023, 'nobody'], [1.651292546497023, 'here..'], [1.651292546497023, 'soul'], [1.651292546497023, 'Get'], [1.651292546497023, 'Scheme'], [1.651292546497023, 'tea'], [1.651292546497023, 'life'], [1.651292546497023, 'class'], [1.651292546497023, 'swell'], [1.651292546497023, 'Cus'], [1.651292546497023, 'cent'], [1.7160491169478866, 'boom'], [1.651292546497023, 'Leave'], [1.101986402162968, 'give'], [1.7484274021733184, 'size'], [1.7484274021733184, 'ahead'], [1.651292546497023, 'afraid'], [1.651292546497023, 'doorstep'], [1.651292546497023, 'rich'], [1.651292546497023, 'Exactly'], [1.651292546497023, 'song'], [1.1452015551889667, 'little'], [1.651292546497023, 'reveal'], [1.3047189562170503, 'music'], [1.3047189562170503, 'cry'], [1.3047189562170503, 'i'], [1.3047189562170503, '!'], [1.1235939786759672, 'see'], [1.3047189562170503, 'again'], [1.651292546497023, 'take'], [1.3047189562170503, 'waited'], [1.651292546497023, 'cares'], [1.7160491169478866, 'stick-figure'], [1.651292546497023, 'tide'], [1.651292546497023, 'Such'], [1.651292546497023, 'shade'], [1.651292546497023, 'created'], [1.651292546497023, 'Icy'], [1.651292546497023, 'some'], [1.3558844054804642, 'what'], [1.651292546497023, 'few'], [1.651292546497023, 'downtown'], [1.651292546497023, 'd'], [1.651292546497023, 'danced'], [1.6836708317224547, 'pretty'], [1.651292546497023, 't'], [1.651292546497023, 'doves'], [1.330301680848757, 'make'], [1.651292546497023, 'gave'], [1.3047189562170503, 'feel'], [1.7160491169478866, 'momma'], [1.651292546497023, 'does'], [1.651292546497023, 'Life'], [1.101986402162968, \"'ll\"], [1.651292546497023, 'There'], [1.651292546497023, 'ay'], [1.651292546497023, 'words'], [1.651292546497023, 'eye'], [1.651292546497023, 'feel..'], [1.651292546497023, 'awake'], [1.651292546497023, 'romance'], [1.651292546497023, 'key'], [1.651292546497023, 'sway'], [1.6836708317224547, 'raise'], [1.651292546497023, 'get'], [1.651292546497023, 'memory'], [1.651292546497023, 'money'], [1.651292546497023, 'mother'], [1.651292546497023, 'looking'], [0.6177014646323147, 'to'], [1.651292546497023, 'gold'], [1.6836708317224547, 'From'], [1.651292546497023, 'our'], [1.651292546497023, 'act'], [1.3047189562170503, 'how'], [1.651292546497023, 'way'], [1.651292546497023, 'groove'], [1.2117621978517257, 'all'], [1.651292546497023, 'pined'], [1.2449611621764305, \"'m\"], [1.651292546497023, 'was'], [1.651292546497023, 'Aflame'], [2.6226411032599777, \"'bout\"], [1.101986402162968, 'never'], [1.651292546497023, 'creep'], [1.651292546497023, 'black'], [1.7160491169478866, 'bottom'], [1.651292546497023, 'rascal'], [1.651292546497023, 'whisper'], [1.1272298422789149, 'know'], [1.651292546497023, 'swing'], [1.330301680848757, 'Every'], [1.651292546497023, 'listen'], [0.9581453659370776, '?'], [1.651292546497023, 'used'], [1.651292546497023, 'parade'], [1.651292546497023, 'has'], [1.4909227793969568, 'no'], [1.3047189562170503, 'heard'], [1.651292546497023, 'Whatever'], [1.651292546497023, 'phrase'], [1.651292546497023, 'shut'], [1.651292546497023, 'singin'], [1.651292546497023, 'Under'], [1.651292546497023, 'each'], [1.651292546497023, 'who'], [1.7160491169478866, 'she'], [1.651292546497023, 'low'], [1.651292546497023, 'dreams'], [1.1235939786759672, 'here'], [0.704938941458361, 'my'], [1.7160491169478866, 'wo'], [1.7160491169478866, 'ai'], [1.6836708317224547, 'chase'], [1.1452015551889667, 'they'], [1.651292546497023, 'sky'], [1.651292546497023, 'heels'], [1.651292546497023, 'lullaby'], [1.651292546497023, 'matter'], [1.3047189562170503, \"'\"], [1.101986402162968, 'In'], [1.1452015551889667, 'hold'], [1.651292546497023, 'Hooray'], [1.7484274021733184, 'Yeah'], [1.6836708317224547, 'stop'], [1.651292546497023, 'been'], [0.6355549825456188, 'me'], [1.651292546497023, 'drive'], [1.651292546497023, 'needs'], [1.651292546497023, 'dance'], [1.651292546497023, 'feels'], [1.651292546497023, 'What'], [1.3047189562170503, 'thing'], [1.651292546497023, 'fire'], [1.651292546497023, 'satisfied'], [1.1235939786759672, 'from'], [1.651292546497023, 'ride'], [1.651292546497023, 'crossed'], [1.651292546497023, 'want'], [1.651292546497023, 'meant'], [1.651292546497023, 'belong'], [1.3047189562170503, 'only'], [1.651292546497023, 'beams'], [0.9581453659370776, 'we'], [1.651292546497023, 'hallelujah'], [1.6836708317224547, 'magazines'], [1.651292546497023, 'hope'], [1.651292546497023, 'called'], [1.651292546497023, 'last'], [1.3558844054804642, 'worry'], [1.651292546497023, 'pitter-pat'], [0.803921568627451, 'I'], [1.7160491169478866, \"'Cause\"], [1.3047189562170503, 'him'], [1.651292546497023, 'starts'], [1.651292546497023, 'sunny'], [1.651292546497023, 'aflame'], [1.3047189562170503, 'always'], [1.651292546497023, 'sell'], [1.3047189562170503, 'someone'], [0.9129715189293822, 'it'], [1.651292546497023, 'witchcraft'], [1.651292546497023, 'likes'], [1.651292546497023, 'same'], [1.651292546497023, 'Grab'], [1.651292546497023, 'Have'], [1.1452015551889667, 'So'], [1.651292546497023, 'Diamond'], [1.651292546497023, 'Never'], [1.7160491169478866, 'doll'], [1.651292546497023, 'bracelets'], [1.6836708317224547, 'working'], [0.8963720367670299, \"'re\"], [1.651292546497023, 'Birdland'], [1.6836708317224547, 'shit'], [1.651292546497023, 'feet'], [1.101986402162968, 'when'], [1.3047189562170503, 'mine'], [1.3047189562170503, 'On'], [1.651292546497023, 'farewell'], [1.651292546497023, 'Ca'], [1.651292546497023, 'better'], [0.9957196940130415, 'just'], [1.651292546497023, 'woodland'], [1.651292546497023, 'themes'], [1.651292546497023, 'May'], [1.651292546497023, 'smile'], [1.651292546497023, 'coming'], [1.651292546497023, 'put'], [1.3047189562170503, 'well'], [1.651292546497023, 'goodbye'], [1.651292546497023, 'its'], [0.5196078431372549, 'a'], [1.651292546497023, 'control'], [1.651292546497023, 'could'], [1.651292546497023, 'changed'], [0.8797725546046776, 'your'], [1.6836708317224547, 'supposed'], [1.4837980286389982, 'about'], [1.1452015551889667, 'But'], [1.7160491169478866, 'top'], [1.651292546497023, 'met'], [0.7998488596408186, 'and'], [1.651292546497023, 'desire'], [1.651292546497023, 'makes'], [1.7160491169478866, 'told'], [1.651292546497023, 'stay'], [0.704938941458361, 'of'], [1.651292546497023, 'bit'], [0.9769325299750594, 'up'], [1.651292546497023, 'slow'], [1.651292546497023, 'joint'], [1.651292546497023, 'blue'], [2.9464239555142955, 'bass'], [1.651292546497023, 'while'], [1.651292546497023, 'mate'], [1.651292546497023, 'day'], [1.7160491169478866, 'says'], [0.6783374719693662, 'love'], [1.651292546497023, 'Your'], [1.651292546497023, 'set'], [1.3047189562170503, 'hat'], [1.3558844054804642, 'at'], [1.651292546497023, 'bike'], [1.101986402162968, 'with'], [1.651292546497023, 'true'], [1.651292546497023, 'direct'], [1.651292546497023, 'sing'], [1.651292546497023, 'lover'], [1.651292546497023, 'over'], [1.651292546497023, 'three'], [2.1369668248785003, 'treble'], [1.651292546497023, 'Kiss'], [0.9769325299750594, 'two'], [0.9581453659370776, 'That'], [1.651292546497023, 'an'], [1.651292546497023, 'broke'], [1.101986402162968, 'out'], [1.651292546497023, 'exactly'], [1.6836708317224547, 'Go'], [1.651292546497023, 'frame'], [1.651292546497023, 'worries'], [1.651292546497023, 'show'], [1.330301680848757, 'back'], [1.3047189562170503, 'happy'], [1.3047189562170503, 'or'], [1.651292546497023, 'spell'], [1.651292546497023, 'Could'], [1.651292546497023, 'lie'], [1.651292546497023, 'understand'], [1.651292546497023, 'may']]\n"
     ]
    }
   ],
   "source": [
    "tfidf_representation = tfidf(all_songs)\n",
    "print(tfidf_representation[0])"
   ]
  },
  {
   "cell_type": "code",
   "execution_count": 106,
   "metadata": {},
   "outputs": [
    {
     "name": "stdout",
     "output_type": "stream",
     "text": [
      "[[1.8282167479074183, 'am'], [1.3047189562170503, 'meet'], [1.769242014103953, 'weirdo..'], [1.651292546497023, 'high'], [1.651292546497023, 'knife'], [1.101986402162968, 'those'], [1.7102672803004881, 'notice'], [1.651292546497023, 'playing'], [1.220056373823286, 'She'], [1.651292546497023, 'dress'], [1.0, '.'], [1.651292546497023, 'other'], [1.3047189562170503, 'he'], [1.651292546497023, 'zay-zoo-za-ze-zo-zay'], [1.651292546497023, 'Because'], [1.651292546497023, 'too'], [1.1292427527115556, 'do'], [0.9581453659370776, 'baby'], [1.3513160617962308, 'around'], [1.7102672803004881, 'float'], [1.101986402162968, 'If'], [1.651292546497023, 'darned'], [1.651292546497023, 'dust'], [1.651292546497023, 'heart'], [0.9581453659370776, 'on'], [1.651292546497023, 'need'], [1.651292546497023, 'wear'], [1.651292546497023, 'fingers'], [1.651292546497023, 'into'], [1.1806997166031798, 'When'], [1.3047189562170503, 'loving'], [1.651292546497023, 'ba-be-do'], [1.651292546497023, 'Who'], [0.9977474456871107, 'You'], [1.3047189562170503, 'kiss'], [1.651292546497023, 'woolworth'], [0.9581453659370776, 'for'], [1.651292546497023, 'Like'], [1.651292546497023, 'spend'], [1.651292546497023, 'weepy'], [1.651292546497023, 'leaf'], [1.3047189562170503, 'ca'], [1.7102672803004881, 'beautiful'], [1.651292546497023, 'because'], [1.7102672803004881, 'weirdo'], [1.3047189562170503, 'Baby'], [1.651292546497023, 'places'], [1.3047189562170503, 'sweet'], [1.651292546497023, 'more'], [1.651292546497023, 'dynamite'], [1.3513160617962308, 'not'], [1.651292546497023, 'time'], [1.651292546497023, 'turtle'], [1.3047189562170503, 'move'], [0.5714285714285714, 'the'], [1.3047189562170503, 'Oh'], [1.651292546497023, 'beauty'], [1.651292546497023, 'off'], [1.7102672803004881, 'hurts'], [1.101986402162968, \"'ve\"], [1.651292546497023, 'Lullaby'], [1.3047189562170503, 'why'], [1.651292546497023, 'weave'], [1.651292546497023, 'plenty'], [1.651292546497023, 'ain'], [1.651292546497023, 'elevator'], [0.9581453659370776, 'but'], [1.8282167479074183, 'hell'], [1.7102672803004881, 'care'], [1.3047189562170503, 'are'], [0.7823918408788167, 'And'], [1.651292546497023, 'ya'], [1.3047189562170503, 'lips'], [1.397913167375411, 'perfect'], [1.651292546497023, 'anything'], [1.651292546497023, 'With'], [1.3047189562170503, 'hear'], [1.651292546497023, 'tight'], [1.141343059383074, 'if'], [1.3047189562170503, 'magic'], [1.651292546497023, 'name'], [1.651292546497023, 'rover'], [1.651292546497023, 'sigh'], [1.101986402162968, 'night'], [1.651292546497023, 'Flying'], [1.651292546497023, 'really'], [1.3047189562170503, 'think'], [1.651292546497023, 'Always'], [1.651292546497023, 'list'], [1.651292546497023, 'step'], [1.651292546497023, 'enough'], [1.101986402162968, 'away'], [1.651292546497023, 'something'], [1.7102672803004881, 'before'], [1.651292546497023, 'silicone'], [1.3047189562170503, 'dream'], [1.651292546497023, 'street'], [1.651292546497023, 'scheme'], [1.651292546497023, 'than'], [1.651292546497023, 'walk'], [1.3047189562170503, 'every'], [1.651292546497023, 'junk'], [1.651292546497023, 'guess'], [1.3047189562170503, 'The'], [1.651292546497023, 'pray'], [1.651292546497023, 'then'], [1.651292546497023, 'tingle'], [1.651292546497023, 'hey'], [1.651292546497023, 'sip'], [1.8282167479074183, 'fuckin'], [1.651292546497023, 'fate'], [1.651292546497023, 'Why'], [1.651292546497023, 'along'], [1.3513160617962308, 'have'], [1.651292546497023, 'spin'], [1.3047189562170503, 'He'], [0.6513731610126476, 'you'], [1.651292546497023, 'many'], [1.651292546497023, 'ever'], [1.651292546497023, 'pieces'], [0.7823918408788167, 'in'], [1.651292546497023, 'Taught'], [1.651292546497023, 'haunt'], [1.101986402162968, 'is'], [1.101986402162968, \"'d\"], [1.651292546497023, 'booty'], [1.651292546497023, 'Gee'], [1.651292546497023, 'busted'], [1.651292546497023, 'inch'], [1.769242014103953, 'running'], [1.651292546497023, 'lucky'], [1.3047189562170503, 'blues'], [1.651292546497023, 'Just'], [1.8871914817108832, 'run'], [1.651292546497023, 'ba-be-oh'], [1.101986402162968, 'No'], [1.651292546497023, 'Goody'], [1.101986402162968, 'My'], [1.651292546497023, 'clear'], [1.651292546497023, 'above'], [1.7102672803004881, 'body'], [0.751016486823227, \"'s\"], [1.651292546497023, 'dreaming'], [1.651292546497023, 'there'], [1.651292546497023, 'Barbie'], [1.651292546497023, 'boys'], [1.3047189562170503, 'now'], [1.651292546497023, 'foolish'], [1.651292546497023, 'pillow'], [1.651292546497023, 'Till'], [1.651292546497023, 'Rover'], [1.0279822167685382, \"n't\"], [1.651292546497023, 'sure'], [1.7102672803004881, 'look'], [1.651292546497023, 'babe'], [1.7102672803004881, 'feather'], [0.9581453659370776, 'be'], [1.651292546497023, 'scheming'], [1.651292546497023, 'Inside'], [1.651292546497023, 'goody'], [1.651292546497023, 'skinny'], [1.651292546497023, 'burning'], [1.651292546497023, 'until'], [1.651292546497023, 'Down'], [1.651292546497023, 'crazy'], [1.651292546497023, 'afreaid'], [1.3047189562170503, 'tell'], [1.651292546497023, 'eyes'], [1.651292546497023, 'Hey'], [1.651292546497023, 'don'], [1.651292546497023, 'Caught'], [1.651292546497023, 'find'], [1.651292546497023, 'will'], [1.3047189562170503, 'shake'], [0.9070431324428279, 'like'], [1.3047189562170503, 'as'], [1.651292546497023, 'real'], [1.651292546497023, 'road'], [1.651292546497023, 'na'], [1.651292546497023, 'kind'], [1.3047189562170503, 'one'], [0.9372779035242556, 'so'], [1.651292546497023, 'coat'], [1.651292546497023, 'bitches'], [0.9581453659370776, 'go'], [0.9581453659370776, 'All'], [1.651292546497023, 'oh'], [1.3047189562170503, 'had'], [1.7102672803004881, 'were'], [1.3047189562170503, 'got'], [1.651292546497023, 'fat'], [1.651292546497023, 'keep'], [1.7102672803004881, 'skin'], [1.7102672803004881, 'angel'], [1.651292546497023, \"'Bout\"], [1.651292546497023, 'Happiness'], [1.651292546497023, 'Still'], [1.8282167479074183, 'wish'], [1.651292546497023, 'spine'], [1.651292546497023, 'Then'], [1.651292546497023, 'plays'], [1.651292546497023, 'bringing'], [1.651292546497023, 'willow'], [1.3047189562170503, 'things'], [1.651292546497023, 'chance'], [1.651292546497023, 'barrel'], [1.651292546497023, 'Come'], [1.651292546497023, 'ba-be-bo-ba-bay'], [1.8282167479074183, 'doing'], [1.651292546497023, 'bumpy'], [1.651292546497023, 'face'], [1.651292546497023, 'Bill'], [0.9581453659370776, 'can'], [1.651292546497023, 'Photoshop'], [1.651292546497023, 'Rock-e-fellow'], [1.651292546497023, 'wan'], [1.3047189562170503, 'old'], [0.6513731610126476, ','], [1.651292546497023, 'coo'], [1.651292546497023, 'knows'], [1.651292546497023, 'tune'], [1.651292546497023, 'right'], [1.651292546497023, 'permission'], [1.651292546497023, 'ba-ba-bo'], [2.0051409493178136, 'special'], [1.651292546497023, 'grand'], [0.9581453659370776, 'We'], [1.651292546497023, \"'em\"], [0.6783374719693662, 'that'], [1.651292546497023, '’'], [1.101986402162968, 'should'], [1.651292546497023, 'them'], [1.651292546497023, 'learn'], [1.651292546497023, 'Nobody'], [1.651292546497023, 'side'], [1.3513160617962308, 'world'], [1.3047189562170503, 'down'], [1.651292546497023, 'Know'], [1.651292546497023, 'long'], [1.651292546497023, 'round'], [1.651292546497023, 'nobody'], [1.8282167479074183, 'here..'], [1.7102672803004881, 'soul'], [1.651292546497023, 'Get'], [1.651292546497023, 'Scheme'], [1.651292546497023, 'tea'], [1.651292546497023, 'life'], [1.651292546497023, 'class'], [1.651292546497023, 'swell'], [1.651292546497023, 'Cus'], [1.651292546497023, 'cent'], [1.651292546497023, 'boom'], [1.651292546497023, 'Leave'], [1.101986402162968, 'give'], [1.651292546497023, 'size'], [1.651292546497023, 'ahead'], [1.651292546497023, 'afraid'], [1.651292546497023, 'doorstep'], [1.651292546497023, 'rich'], [1.651292546497023, 'Exactly'], [1.651292546497023, 'song'], [1.101986402162968, 'little'], [1.651292546497023, 'reveal'], [1.3047189562170503, 'music'], [1.3513160617962308, 'cry'], [1.3047189562170503, 'i'], [1.3047189562170503, '!'], [1.101986402162968, 'see'], [1.3513160617962308, 'again'], [1.651292546497023, 'take'], [1.3047189562170503, 'waited'], [1.651292546497023, 'cares'], [1.651292546497023, 'stick-figure'], [1.651292546497023, 'tide'], [1.651292546497023, 'Such'], [1.651292546497023, 'shade'], [1.651292546497023, 'created'], [1.651292546497023, 'Icy'], [1.651292546497023, 'some'], [1.3047189562170503, 'what'], [1.651292546497023, 'few'], [1.651292546497023, 'downtown'], [1.651292546497023, 'd'], [1.651292546497023, 'danced'], [1.651292546497023, 'pretty'], [1.651292546497023, 't'], [1.651292546497023, 'doves'], [1.3047189562170503, 'make'], [1.651292546497023, 'gave'], [1.3047189562170503, 'feel'], [1.651292546497023, 'momma'], [1.651292546497023, 'does'], [1.651292546497023, 'Life'], [1.101986402162968, \"'ll\"], [1.651292546497023, 'There'], [1.651292546497023, 'ay'], [1.651292546497023, 'words'], [1.7102672803004881, 'eye'], [1.651292546497023, 'feel..'], [1.651292546497023, 'awake'], [1.651292546497023, 'romance'], [1.651292546497023, 'key'], [1.651292546497023, 'sway'], [1.651292546497023, 'raise'], [1.651292546497023, 'get'], [1.651292546497023, 'memory'], [1.651292546497023, 'money'], [1.651292546497023, 'mother'], [1.651292546497023, 'looking'], [0.5921574191024069, 'to'], [1.651292546497023, 'gold'], [1.651292546497023, 'From'], [1.651292546497023, 'our'], [1.651292546497023, 'act'], [1.3047189562170503, 'how'], [1.651292546497023, 'way'], [1.651292546497023, 'groove'], [0.8465735902799727, 'all'], [1.651292546497023, 'pined'], [1.0582169878499659, \"'m\"], [1.8282167479074183, 'was'], [1.651292546497023, 'Aflame'], [1.651292546497023, \"'bout\"], [1.101986402162968, 'never'], [1.8282167479074183, 'creep'], [1.651292546497023, 'black'], [1.651292546497023, 'bottom'], [1.651292546497023, 'rascal'], [1.651292546497023, 'whisper'], [0.9581453659370776, 'know'], [1.651292546497023, 'swing'], [1.3047189562170503, 'Every'], [1.651292546497023, 'listen'], [1.0608037980017644, '?'], [1.651292546497023, 'used'], [1.651292546497023, 'parade'], [1.651292546497023, 'has'], [1.101986402162968, 'no'], [1.3047189562170503, 'heard'], [1.769242014103953, 'Whatever'], [1.651292546497023, 'phrase'], [1.651292546497023, 'shut'], [1.651292546497023, 'singin'], [1.651292546497023, 'Under'], [1.651292546497023, 'each'], [1.651292546497023, 'who'], [1.651292546497023, 'she'], [1.651292546497023, 'low'], [1.651292546497023, 'dreams'], [1.298769688263498, 'here'], [0.6783374719693662, 'my'], [1.651292546497023, 'wo'], [1.651292546497023, 'ai'], [1.651292546497023, 'chase'], [1.101986402162968, 'they'], [1.651292546497023, 'sky'], [1.651292546497023, 'heels'], [1.651292546497023, 'lullaby'], [1.651292546497023, 'matter'], [1.4445102729545913, \"'\"], [1.141343059383074, 'In'], [1.101986402162968, 'hold'], [1.651292546497023, 'Hooray'], [1.651292546497023, 'Yeah'], [1.651292546497023, 'stop'], [1.651292546497023, 'been'], [0.6334136247877158, 'me'], [1.651292546497023, 'drive'], [1.651292546497023, 'needs'], [1.651292546497023, 'dance'], [1.651292546497023, 'feels'], [1.8282167479074183, 'What'], [1.3047189562170503, 'thing'], [1.651292546497023, 'fire'], [1.651292546497023, 'satisfied'], [1.101986402162968, 'from'], [1.651292546497023, 'ride'], [1.651292546497023, 'crossed'], [1.9461662155143484, 'want'], [1.651292546497023, 'meant'], [1.8871914817108832, 'belong'], [1.3047189562170503, 'only'], [1.651292546497023, 'beams'], [0.9581453659370776, 'we'], [1.651292546497023, 'hallelujah'], [1.651292546497023, 'magazines'], [1.651292546497023, 'hope'], [1.651292546497023, 'called'], [1.651292546497023, 'last'], [1.3047189562170503, 'worry'], [1.651292546497023, 'pitter-pat'], [0.9464285714285714, 'I'], [1.651292546497023, \"'Cause\"], [1.3047189562170503, 'him'], [1.651292546497023, 'starts'], [1.651292546497023, 'sunny'], [1.651292546497023, 'aflame'], [1.3047189562170503, 'always'], [1.651292546497023, 'sell'], [1.3047189562170503, 'someone'], [0.8768083613614004, 'it'], [1.651292546497023, 'witchcraft'], [1.651292546497023, 'likes'], [1.651292546497023, 'same'], [1.651292546497023, 'Grab'], [1.651292546497023, 'Have'], [1.101986402162968, 'So'], [1.651292546497023, 'Diamond'], [1.651292546497023, 'Never'], [1.651292546497023, 'doll'], [1.651292546497023, 'bracelets'], [1.651292546497023, 'working'], [0.967512674605683, \"'re\"], [1.651292546497023, 'Birdland'], [1.651292546497023, 'shit'], [1.651292546497023, 'feet'], [1.101986402162968, 'when'], [1.3047189562170503, 'mine'], [1.3047189562170503, 'On'], [1.651292546497023, 'farewell'], [1.651292546497023, 'Ca'], [1.651292546497023, 'better'], [0.9923648432919733, 'just'], [1.651292546497023, 'woodland'], [1.651292546497023, 'themes'], [1.651292546497023, 'May'], [1.651292546497023, 'smile'], [1.651292546497023, 'coming'], [1.651292546497023, 'put'], [1.3047189562170503, 'well'], [1.651292546497023, 'goodbye'], [1.651292546497023, 'its'], [0.6785714285714286, 'a'], [1.7102672803004881, 'control'], [1.651292546497023, 'could'], [1.651292546497023, 'changed'], [0.8465735902799727, 'your'], [1.651292546497023, 'supposed'], [1.3047189562170503, 'about'], [1.220056373823286, 'But'], [1.651292546497023, 'top'], [1.651292546497023, 'met'], [0.7554128118829954, 'and'], [1.651292546497023, 'desire'], [1.769242014103953, 'makes'], [1.651292546497023, 'told'], [1.651292546497023, 'stay'], [0.6783374719693662, 'of'], [1.651292546497023, 'bit'], [0.9581453659370776, 'up'], [1.651292546497023, 'slow'], [1.651292546497023, 'joint'], [1.651292546497023, 'blue'], [1.651292546497023, 'bass'], [1.651292546497023, 'while'], [1.651292546497023, 'mate'], [1.651292546497023, 'day'], [1.651292546497023, 'says'], [0.6783374719693662, 'love'], [1.7102672803004881, 'Your'], [1.651292546497023, 'set'], [1.3047189562170503, 'hat'], [1.3047189562170503, 'at'], [1.651292546497023, 'bike'], [1.101986402162968, 'with'], [1.651292546497023, 'true'], [1.651292546497023, 'direct'], [1.651292546497023, 'sing'], [1.651292546497023, 'lover'], [1.651292546497023, 'over'], [1.651292546497023, 'three'], [1.651292546497023, 'treble'], [1.651292546497023, 'Kiss'], [0.9581453659370776, 'two'], [0.9581453659370776, 'That'], [1.7102672803004881, 'an'], [1.651292546497023, 'broke'], [1.1806997166031798, 'out'], [1.651292546497023, 'exactly'], [1.651292546497023, 'Go'], [1.651292546497023, 'frame'], [1.651292546497023, 'worries'], [1.651292546497023, 'show'], [1.3047189562170503, 'back'], [1.3513160617962308, 'happy'], [1.3047189562170503, 'or'], [1.651292546497023, 'spell'], [1.7102672803004881, 'Could'], [1.651292546497023, 'lie'], [1.651292546497023, 'understand'], [1.651292546497023, 'may']]\n"
     ]
    }
   ],
   "source": [
    "tfidf_representation = tfidf(all_songs)\n",
    "print(tfidf_representation[1])"
   ]
  },
  {
   "cell_type": "code",
   "execution_count": 107,
   "metadata": {},
   "outputs": [
    {
     "name": "stdout",
     "output_type": "stream",
     "text": [
      "[[1.651292546497023, 'am'], [1.4233297704186, 'meet'], [1.651292546497023, 'weirdo..'], [1.651292546497023, 'high'], [1.651292546497023, 'knife'], [1.101986402162968, 'those'], [1.651292546497023, 'notice'], [1.651292546497023, 'playing'], [1.101986402162968, 'She'], [1.651292546497023, 'dress'], [1.0, '.'], [1.651292546497023, 'other'], [1.3047189562170503, 'he'], [1.651292546497023, 'zay-zoo-za-ze-zo-zay'], [1.651292546497023, 'Because'], [1.651292546497023, 'too'], [1.0016974280251265, 'do'], [0.9581453659370776, 'baby'], [1.3640243633178253, 'around'], [1.651292546497023, 'float'], [1.101986402162968, 'If'], [1.651292546497023, 'darned'], [1.651292546497023, 'dust'], [1.651292546497023, 'heart'], [0.9581453659370776, 'on'], [1.651292546497023, 'need'], [1.651292546497023, 'wear'], [1.7263512986105238, 'fingers'], [1.651292546497023, 'into'], [1.1520766931703756, 'When'], [1.3640243633178253, 'loving'], [1.651292546497023, 'ba-be-do'], [1.651292546497023, 'Who'], [0.8850542080199715, 'You'], [1.3640243633178253, 'kiss'], [1.651292546497023, 'woolworth'], [1.0452494901131755, 'for'], [1.7263512986105238, 'Like'], [1.651292546497023, 'spend'], [1.651292546497023, 'weepy'], [1.7263512986105238, 'leaf'], [1.3047189562170503, 'ca'], [1.651292546497023, 'beautiful'], [1.651292546497023, 'because'], [1.651292546497023, 'weirdo'], [1.3640243633178253, 'Baby'], [1.651292546497023, 'places'], [1.3047189562170503, 'sweet'], [1.651292546497023, 'more'], [1.651292546497023, 'dynamite'], [1.3047189562170503, 'not'], [1.7263512986105238, 'time'], [1.651292546497023, 'turtle'], [1.3047189562170503, 'move'], [0.5909090909090909, 'the'], [1.3047189562170503, 'Oh'], [1.651292546497023, 'beauty'], [1.651292546497023, 'off'], [1.651292546497023, 'hurts'], [1.1520766931703756, \"'ve\"], [1.651292546497023, 'Lullaby'], [1.3047189562170503, 'why'], [1.7263512986105238, 'weave'], [1.651292546497023, 'plenty'], [1.651292546497023, 'ain'], [1.7263512986105238, 'elevator'], [1.0016974280251265, 'but'], [1.651292546497023, 'hell'], [1.651292546497023, 'care'], [1.3640243633178253, 'are'], [0.8240867038723585, 'And'], [1.651292546497023, 'ya'], [1.3640243633178253, 'lips'], [1.3047189562170503, 'perfect'], [1.651292546497023, 'anything'], [1.651292546497023, 'With'], [1.3640243633178253, 'hear'], [1.651292546497023, 'tight'], [1.101986402162968, 'if'], [1.4826351775193751, 'magic'], [1.7263512986105238, 'name'], [1.651292546497023, 'rover'], [1.651292546497023, 'sigh'], [1.101986402162968, 'night'], [1.651292546497023, 'Flying'], [1.651292546497023, 'really'], [1.3047189562170503, 'think'], [1.651292546497023, 'Always'], [1.651292546497023, 'list'], [1.651292546497023, 'step'], [1.651292546497023, 'enough'], [1.1520766931703756, 'away'], [1.651292546497023, 'something'], [1.651292546497023, 'before'], [1.651292546497023, 'silicone'], [1.3047189562170503, 'dream'], [1.651292546497023, 'street'], [1.651292546497023, 'scheme'], [1.651292546497023, 'than'], [1.651292546497023, 'walk'], [1.3640243633178253, 'every'], [1.651292546497023, 'junk'], [1.651292546497023, 'guess'], [1.4826351775193751, 'The'], [1.651292546497023, 'pray'], [1.651292546497023, 'then'], [1.7263512986105238, 'tingle'], [1.651292546497023, 'hey'], [1.651292546497023, 'sip'], [1.651292546497023, 'fuckin'], [1.7263512986105238, 'fate'], [1.651292546497023, 'Why'], [1.651292546497023, 'along'], [1.3047189562170503, 'have'], [1.801410050724025, 'spin'], [1.3047189562170503, 'He'], [0.5778020877302273, 'you'], [1.651292546497023, 'many'], [1.651292546497023, 'ever'], [1.651292546497023, 'pieces'], [0.8584236498670401, 'in'], [1.651292546497023, 'Taught'], [1.651292546497023, 'haunt'], [1.101986402162968, 'is'], [1.101986402162968, \"'d\"], [1.651292546497023, 'booty'], [1.651292546497023, 'Gee'], [1.651292546497023, 'busted'], [1.651292546497023, 'inch'], [1.651292546497023, 'running'], [1.651292546497023, 'lucky'], [1.3047189562170503, 'blues'], [1.651292546497023, 'Just'], [1.651292546497023, 'run'], [1.651292546497023, 'ba-be-oh'], [1.101986402162968, 'No'], [1.651292546497023, 'Goody'], [1.101986402162968, 'My'], [1.651292546497023, 'clear'], [1.651292546497023, 'above'], [1.651292546497023, 'body'], [0.7091709934225192, \"'s\"], [1.651292546497023, 'dreaming'], [1.651292546497023, 'there'], [1.651292546497023, 'Barbie'], [1.651292546497023, 'boys'], [1.3047189562170503, 'now'], [1.651292546497023, 'foolish'], [1.651292546497023, 'pillow'], [1.651292546497023, 'Till'], [1.651292546497023, 'Rover'], [0.8465735902799727, \"n't\"], [1.651292546497023, 'sure'], [1.651292546497023, 'look'], [1.651292546497023, 'babe'], [1.651292546497023, 'feather'], [0.9581453659370776, 'be'], [1.651292546497023, 'scheming'], [1.7263512986105238, 'Inside'], [1.651292546497023, 'goody'], [1.651292546497023, 'skinny'], [1.7263512986105238, 'burning'], [1.651292546497023, 'until'], [1.7263512986105238, 'Down'], [1.651292546497023, 'crazy'], [1.651292546497023, 'afreaid'], [1.3047189562170503, 'tell'], [1.7263512986105238, 'eyes'], [1.651292546497023, 'Hey'], [1.651292546497023, 'don'], [1.7263512986105238, 'Caught'], [1.651292546497023, 'find'], [1.651292546497023, 'will'], [1.3047189562170503, 'shake'], [0.8465735902799727, 'like'], [1.3047189562170503, 'as'], [1.651292546497023, 'real'], [1.651292546497023, 'road'], [1.651292546497023, 'na'], [1.651292546497023, 'kind'], [1.3047189562170503, 'one'], [0.8850542080199715, 'so'], [1.651292546497023, 'coat'], [1.651292546497023, 'bitches'], [1.1323536142892736, 'go'], [1.0016974280251265, 'All'], [1.651292546497023, 'oh'], [1.3640243633178253, 'had'], [1.651292546497023, 'were'], [1.3047189562170503, 'got'], [1.651292546497023, 'fat'], [1.651292546497023, 'keep'], [1.651292546497023, 'skin'], [1.651292546497023, 'angel'], [1.651292546497023, \"'Bout\"], [1.651292546497023, 'Happiness'], [1.651292546497023, 'Still'], [1.651292546497023, 'wish'], [1.7263512986105238, 'spine'], [1.651292546497023, 'Then'], [1.651292546497023, 'plays'], [1.651292546497023, 'bringing'], [1.651292546497023, 'willow'], [1.3047189562170503, 'things'], [1.651292546497023, 'chance'], [1.651292546497023, 'barrel'], [1.651292546497023, 'Come'], [1.651292546497023, 'ba-be-bo-ba-bay'], [1.651292546497023, 'doing'], [1.651292546497023, 'bumpy'], [1.651292546497023, 'face'], [1.651292546497023, 'Bill'], [1.0452494901131755, 'can'], [1.651292546497023, 'Photoshop'], [1.651292546497023, 'Rock-e-fellow'], [1.651292546497023, 'wan'], [1.6012459917209254, 'old'], [0.6531675774341701, ','], [1.651292546497023, 'coo'], [1.651292546497023, 'knows'], [1.651292546497023, 'tune'], [1.651292546497023, 'right'], [1.651292546497023, 'permission'], [1.651292546497023, 'ba-ba-bo'], [1.651292546497023, 'special'], [1.651292546497023, 'grand'], [0.9581453659370776, 'We'], [1.651292546497023, \"'em\"], [0.9250056435945904, 'that'], [1.651292546497023, '’'], [1.1520766931703756, 'should'], [1.651292546497023, 'them'], [1.651292546497023, 'learn'], [1.651292546497023, 'Nobody'], [1.651292546497023, 'side'], [1.3047189562170503, 'world'], [1.5419405846201504, 'down'], [1.651292546497023, 'Know'], [1.651292546497023, 'long'], [1.801410050724025, 'round'], [1.651292546497023, 'nobody'], [1.651292546497023, 'here..'], [1.651292546497023, 'soul'], [1.651292546497023, 'Get'], [1.651292546497023, 'Scheme'], [1.651292546497023, 'tea'], [1.651292546497023, 'life'], [1.651292546497023, 'class'], [1.651292546497023, 'swell'], [1.651292546497023, 'Cus'], [1.651292546497023, 'cent'], [1.651292546497023, 'boom'], [1.651292546497023, 'Leave'], [1.101986402162968, 'give'], [1.651292546497023, 'size'], [1.651292546497023, 'ahead'], [1.651292546497023, 'afraid'], [1.651292546497023, 'doorstep'], [1.651292546497023, 'rich'], [1.651292546497023, 'Exactly'], [1.651292546497023, 'song'], [1.101986402162968, 'little'], [1.651292546497023, 'reveal'], [1.3047189562170503, 'music'], [1.3047189562170503, 'cry'], [1.8384676201240255, 'i'], [1.3047189562170503, '!'], [1.101986402162968, 'see'], [1.3047189562170503, 'again'], [1.651292546497023, 'take'], [1.3640243633178253, 'waited'], [1.651292546497023, 'cares'], [1.651292546497023, 'stick-figure'], [1.7263512986105238, 'tide'], [1.7263512986105238, 'Such'], [1.651292546497023, 'shade'], [1.7263512986105238, 'created'], [1.7263512986105238, 'Icy'], [1.651292546497023, 'some'], [1.3640243633178253, 'what'], [1.651292546497023, 'few'], [1.651292546497023, 'downtown'], [1.651292546497023, 'd'], [1.651292546497023, 'danced'], [1.651292546497023, 'pretty'], [1.651292546497023, 't'], [1.651292546497023, 'doves'], [1.3047189562170503, 'make'], [1.651292546497023, 'gave'], [1.3640243633178253, 'feel'], [1.651292546497023, 'momma'], [1.651292546497023, 'does'], [1.651292546497023, 'Life'], [1.101986402162968, \"'ll\"], [1.651292546497023, 'There'], [1.651292546497023, 'ay'], [1.651292546497023, 'words'], [1.651292546497023, 'eye'], [1.651292546497023, 'feel..'], [1.651292546497023, 'awake'], [1.651292546497023, 'romance'], [1.651292546497023, 'key'], [1.651292546497023, 'sway'], [1.651292546497023, 'raise'], [1.651292546497023, 'get'], [1.651292546497023, 'memory'], [1.651292546497023, 'money'], [1.651292546497023, 'mother'], [1.651292546497023, 'looking'], [0.5526802578289132, 'to'], [1.651292546497023, 'gold'], [1.651292546497023, 'From'], [1.651292546497023, 'our'], [1.651292546497023, 'act'], [1.3047189562170503, 'how'], [1.651292546497023, 'way'], [1.651292546497023, 'groove'], [0.8465735902799727, 'all'], [1.651292546497023, 'pined'], [0.9235348257599701, \"'m\"], [1.651292546497023, 'was'], [1.7263512986105238, 'Aflame'], [1.651292546497023, \"'bout\"], [1.101986402162968, 'never'], [1.651292546497023, 'creep'], [1.8764688028375258, 'black'], [1.651292546497023, 'bottom'], [1.651292546497023, 'rascal'], [1.651292546497023, 'whisper'], [0.9581453659370776, 'know'], [1.651292546497023, 'swing'], [1.3047189562170503, 'Every'], [1.651292546497023, 'listen'], [0.9581453659370776, '?'], [1.651292546497023, 'used'], [1.651292546497023, 'parade'], [1.7263512986105238, 'has'], [1.101986402162968, 'no'], [1.3047189562170503, 'heard'], [1.651292546497023, 'Whatever'], [1.651292546497023, 'phrase'], [1.651292546497023, 'shut'], [1.651292546497023, 'singin'], [1.7263512986105238, 'Under'], [1.651292546497023, 'each'], [1.651292546497023, 'who'], [1.651292546497023, 'she'], [1.651292546497023, 'low'], [1.651292546497023, 'dreams'], [1.101986402162968, 'here'], [0.7091709934225192, 'my'], [1.651292546497023, 'wo'], [1.651292546497023, 'ai'], [1.651292546497023, 'chase'], [1.101986402162968, 'they'], [1.651292546497023, 'sky'], [1.651292546497023, 'heels'], [1.651292546497023, 'lullaby'], [1.651292546497023, 'matter'], [1.3047189562170503, \"'\"], [1.1520766931703756, 'In'], [1.101986402162968, 'hold'], [1.651292546497023, 'Hooray'], [1.651292546497023, 'Yeah'], [1.651292546497023, 'stop'], [1.651292546497023, 'been'], [0.6671692098077507, 'me'], [1.651292546497023, 'drive'], [1.651292546497023, 'needs'], [1.651292546497023, 'dance'], [1.651292546497023, 'feels'], [1.651292546497023, 'What'], [1.3047189562170503, 'thing'], [1.7263512986105238, 'fire'], [1.651292546497023, 'satisfied'], [1.101986402162968, 'from'], [1.7263512986105238, 'ride'], [1.651292546497023, 'crossed'], [1.651292546497023, 'want'], [1.651292546497023, 'meant'], [1.651292546497023, 'belong'], [1.3640243633178253, 'only'], [1.651292546497023, 'beams'], [0.9581453659370776, 'we'], [1.651292546497023, 'hallelujah'], [1.651292546497023, 'magazines'], [1.651292546497023, 'hope'], [1.7263512986105238, 'called'], [1.651292546497023, 'last'], [1.3047189562170503, 'worry'], [1.651292546497023, 'pitter-pat'], [0.5454545454545454, 'I'], [1.651292546497023, \"'Cause\"], [1.3047189562170503, 'him'], [1.7263512986105238, 'starts'], [1.651292546497023, 'sunny'], [1.7263512986105238, 'aflame'], [1.3047189562170503, 'always'], [1.651292546497023, 'sell'], [1.3047189562170503, 'someone'], [0.8465735902799727, 'it'], [1.7263512986105238, 'witchcraft'], [1.651292546497023, 'likes'], [1.801410050724025, 'same'], [1.651292546497023, 'Grab'], [1.651292546497023, 'Have'], [1.101986402162968, 'So'], [1.651292546497023, 'Diamond'], [1.651292546497023, 'Never'], [1.651292546497023, 'doll'], [1.651292546497023, 'bracelets'], [1.651292546497023, 'working'], [0.8465735902799727, \"'re\"], [1.651292546497023, 'Birdland'], [1.651292546497023, 'shit'], [1.651292546497023, 'feet'], [1.1520766931703756, 'when'], [1.4233297704186, 'mine'], [1.3047189562170503, 'On'], [1.651292546497023, 'farewell'], [1.651292546497023, 'Ca'], [1.651292546497023, 'better'], [0.9581453659370776, 'just'], [1.651292546497023, 'woodland'], [1.651292546497023, 'themes'], [1.651292546497023, 'May'], [1.651292546497023, 'smile'], [1.651292546497023, 'coming'], [1.7263512986105238, 'put'], [1.3640243633178253, 'well'], [1.651292546497023, 'goodbye'], [1.801410050724025, 'its'], [0.5681818181818181, 'a'], [1.651292546497023, 'control'], [1.651292546497023, 'could'], [1.651292546497023, 'changed'], [1.0004960612399678, 'your'], [1.651292546497023, 'supposed'], [1.3047189562170503, 'about'], [1.101986402162968, 'But'], [1.651292546497023, 'top'], [1.651292546497023, 'met'], [0.8927605958617219, 'and'], [1.7263512986105238, 'desire'], [1.651292546497023, 'makes'], [1.651292546497023, 'told'], [1.7263512986105238, 'stay'], [0.6783374719693662, 'of'], [1.651292546497023, 'bit'], [1.0016974280251265, 'up'], [1.651292546497023, 'slow'], [1.651292546497023, 'joint'], [1.651292546497023, 'blue'], [1.651292546497023, 'bass'], [1.651292546497023, 'while'], [1.7263512986105238, 'mate'], [1.651292546497023, 'day'], [1.651292546497023, 'says'], [0.7091709934225192, 'love'], [1.651292546497023, 'Your'], [1.651292546497023, 'set'], [1.3047189562170503, 'hat'], [1.3047189562170503, 'at'], [1.651292546497023, 'bike'], [1.1520766931703756, 'with'], [1.651292546497023, 'true'], [1.651292546497023, 'direct'], [1.651292546497023, 'sing'], [1.7263512986105238, 'lover'], [1.651292546497023, 'over'], [1.651292546497023, 'three'], [1.651292546497023, 'treble'], [1.651292546497023, 'Kiss'], [0.9581453659370776, 'two'], [1.0888015522012244, 'That'], [1.651292546497023, 'an'], [1.651292546497023, 'broke'], [1.1520766931703756, 'out'], [1.651292546497023, 'exactly'], [1.651292546497023, 'Go'], [1.651292546497023, 'frame'], [1.651292546497023, 'worries'], [1.651292546497023, 'show'], [1.3047189562170503, 'back'], [1.3047189562170503, 'happy'], [1.3047189562170503, 'or'], [1.7263512986105238, 'spell'], [1.651292546497023, 'Could'], [1.651292546497023, 'lie'], [1.651292546497023, 'understand'], [1.651292546497023, 'may']]\n"
     ]
    }
   ],
   "source": [
    "tfidf_representation = tfidf(all_songs)\n",
    "print(tfidf_representation[2])"
   ]
  },
  {
   "cell_type": "code",
   "execution_count": 108,
   "metadata": {},
   "outputs": [
    {
     "name": "stdout",
     "output_type": "stream",
     "text": [
      "[[1.651292546497023, 'am'], [1.3047189562170503, 'meet'], [1.651292546497023, 'weirdo..'], [1.651292546497023, 'high'], [1.651292546497023, 'knife'], [1.166809131701966, 'those'], [1.651292546497023, 'notice'], [1.651292546497023, 'playing'], [1.101986402162968, 'She'], [1.651292546497023, 'dress'], [1.0, '.'], [1.651292546497023, 'other'], [1.3047189562170503, 'he'], [1.6998599743351706, 'zay-zoo-za-ze-zo-zay'], [1.651292546497023, 'Because'], [1.651292546497023, 'too'], [0.9581453659370776, 'do'], [1.042687604107996, 'baby'], [1.3047189562170503, 'around'], [1.651292546497023, 'float'], [1.134397766932467, 'If'], [1.651292546497023, 'darned'], [1.7484274021733184, 'dust'], [1.651292546497023, 'heart'], [1.070868350164969, 'on'], [1.651292546497023, 'need'], [1.651292546497023, 'wear'], [1.651292546497023, 'fingers'], [1.651292546497023, 'into'], [1.101986402162968, 'When'], [1.3047189562170503, 'loving'], [1.6998599743351706, 'ba-be-do'], [1.651292546497023, 'Who'], [0.8465735902799727, 'You'], [1.3047189562170503, 'kiss'], [1.651292546497023, 'woolworth'], [0.9581453659370776, 'for'], [1.651292546497023, 'Like'], [1.651292546497023, 'spend'], [1.651292546497023, 'weepy'], [1.651292546497023, 'leaf'], [1.3047189562170503, 'ca'], [1.651292546497023, 'beautiful'], [1.651292546497023, 'because'], [1.651292546497023, 'weirdo'], [1.3430930431646104, 'Baby'], [1.651292546497023, 'places'], [1.3814671301121708, 'sweet'], [1.651292546497023, 'more'], [1.651292546497023, 'dynamite'], [1.3814671301121708, 'not'], [1.651292546497023, 'time'], [1.651292546497023, 'turtle'], [1.3047189562170503, 'move'], [0.75, 'the'], [1.3814671301121708, 'Oh'], [1.651292546497023, 'beauty'], [1.651292546497023, 'off'], [1.651292546497023, 'hurts'], [1.101986402162968, \"'ve\"], [1.651292546497023, 'Lullaby'], [1.3047189562170503, 'why'], [1.651292546497023, 'weave'], [1.651292546497023, 'plenty'], [1.651292546497023, 'ain'], [1.651292546497023, 'elevator'], [0.9863261119940503, 'but'], [1.651292546497023, 'hell'], [1.651292546497023, 'care'], [1.3047189562170503, 'are'], [0.7998488596408186, 'And'], [1.651292546497023, 'ya'], [1.3047189562170503, 'lips'], [1.3047189562170503, 'perfect'], [1.651292546497023, 'anything'], [1.796994830011466, 'With'], [1.3814671301121708, 'hear'], [1.651292546497023, 'tight'], [1.134397766932467, 'if'], [1.3047189562170503, 'magic'], [1.651292546497023, 'name'], [1.7484274021733184, 'rover'], [1.651292546497023, 'sigh'], [1.101986402162968, 'night'], [1.651292546497023, 'Flying'], [1.651292546497023, 'really'], [1.3047189562170503, 'think'], [1.651292546497023, 'Always'], [1.651292546497023, 'list'], [1.7484274021733184, 'step'], [1.651292546497023, 'enough'], [1.101986402162968, 'away'], [1.651292546497023, 'something'], [1.651292546497023, 'before'], [1.651292546497023, 'silicone'], [1.3047189562170503, 'dream'], [1.9426971135259095, 'street'], [1.651292546497023, 'scheme'], [1.651292546497023, 'than'], [1.7484274021733184, 'walk'], [1.3047189562170503, 'every'], [1.651292546497023, 'junk'], [1.651292546497023, 'guess'], [1.3047189562170503, 'The'], [1.651292546497023, 'pray'], [1.651292546497023, 'then'], [1.651292546497023, 'tingle'], [1.6998599743351706, 'hey'], [1.651292546497023, 'sip'], [1.651292546497023, 'fuckin'], [1.651292546497023, 'fate'], [1.651292546497023, 'Why'], [1.651292546497023, 'along'], [1.3814671301121708, 'have'], [1.651292546497023, 'spin'], [1.3047189562170503, 'He'], [0.5851908612306139, 'you'], [1.651292546497023, 'many'], [1.651292546497023, 'ever'], [1.651292546497023, 'pieces'], [0.7998488596408186, 'in'], [1.651292546497023, 'Taught'], [1.651292546497023, 'haunt'], [1.166809131701966, 'is'], [1.134397766932467, \"'d\"], [1.651292546497023, 'booty'], [1.651292546497023, 'Gee'], [1.651292546497023, 'busted'], [1.651292546497023, 'inch'], [1.651292546497023, 'running'], [1.651292546497023, 'lucky'], [1.3814671301121708, 'blues'], [1.7484274021733184, 'Just'], [1.651292546497023, 'run'], [1.6998599743351706, 'ba-be-oh'], [1.101986402162968, 'No'], [1.651292546497023, 'Goody'], [1.199220496471465, 'My'], [1.651292546497023, 'clear'], [1.651292546497023, 'above'], [1.651292546497023, 'body'], [0.6982885740861122, \"'s\"], [1.651292546497023, 'dreaming'], [1.651292546497023, 'there'], [1.651292546497023, 'Barbie'], [1.651292546497023, 'boys'], [1.3047189562170503, 'now'], [1.651292546497023, 'foolish'], [1.651292546497023, 'pillow'], [1.651292546497023, 'Till'], [1.6998599743351706, 'Rover'], [0.8963720367670299, \"n't\"], [1.651292546497023, 'sure'], [1.651292546497023, 'look'], [1.7484274021733184, 'babe'], [1.651292546497023, 'feather'], [1.070868350164969, 'be'], [1.651292546497023, 'scheming'], [1.651292546497023, 'Inside'], [1.651292546497023, 'goody'], [1.651292546497023, 'skinny'], [1.651292546497023, 'burning'], [1.651292546497023, 'until'], [1.651292546497023, 'Down'], [1.651292546497023, 'crazy'], [1.6998599743351706, 'afreaid'], [1.3047189562170503, 'tell'], [1.651292546497023, 'eyes'], [1.651292546497023, 'Hey'], [1.651292546497023, 'don'], [1.651292546497023, 'Caught'], [1.651292546497023, 'find'], [1.651292546497023, 'will'], [1.3047189562170503, 'shake'], [0.8465735902799727, 'like'], [1.3814671301121708, 'as'], [1.651292546497023, 'real'], [1.651292546497023, 'road'], [1.651292546497023, 'na'], [1.651292546497023, 'kind'], [1.3047189562170503, 'one'], [0.8963720367670299, 'so'], [1.7484274021733184, 'coat'], [1.651292546497023, 'bitches'], [0.9581453659370776, 'go'], [0.9581453659370776, 'All'], [1.6998599743351706, 'oh'], [1.3047189562170503, 'had'], [1.651292546497023, 'were'], [1.3047189562170503, 'got'], [1.651292546497023, 'fat'], [1.651292546497023, 'keep'], [1.651292546497023, 'skin'], [1.651292546497023, 'angel'], [1.651292546497023, \"'Bout\"], [1.651292546497023, 'Happiness'], [1.651292546497023, 'Still'], [1.651292546497023, 'wish'], [1.651292546497023, 'spine'], [1.651292546497023, 'Then'], [1.651292546497023, 'plays'], [1.651292546497023, 'bringing'], [1.651292546497023, 'willow'], [1.3047189562170503, 'things'], [1.651292546497023, 'chance'], [1.651292546497023, 'barrel'], [1.651292546497023, 'Come'], [1.6998599743351706, 'ba-be-bo-ba-bay'], [1.651292546497023, 'doing'], [1.651292546497023, 'bumpy'], [1.651292546497023, 'face'], [1.651292546497023, 'Bill'], [1.0145068580510233, 'can'], [1.651292546497023, 'Photoshop'], [1.7484274021733184, 'Rock-e-fellow'], [1.651292546497023, 'wan'], [1.3047189562170503, 'old'], [0.8127650850425194, ','], [1.651292546497023, 'coo'], [1.651292546497023, 'knows'], [1.7484274021733184, 'tune'], [1.651292546497023, 'right'], [1.651292546497023, 'permission'], [1.6998599743351706, 'ba-ba-bo'], [1.651292546497023, 'special'], [1.651292546497023, 'grand'], [0.9581453659370776, 'We'], [1.651292546497023, \"'em\"], [0.6982885740861122, 'that'], [1.651292546497023, '’'], [1.101986402162968, 'should'], [1.651292546497023, 'them'], [1.651292546497023, 'learn'], [1.651292546497023, 'Nobody'], [1.9426971135259095, 'side'], [1.3047189562170503, 'world'], [1.3047189562170503, 'down'], [1.651292546497023, 'Know'], [1.651292546497023, 'long'], [1.651292546497023, 'round'], [1.651292546497023, 'nobody'], [1.651292546497023, 'here..'], [1.651292546497023, 'soul'], [1.6998599743351706, 'Get'], [1.651292546497023, 'Scheme'], [1.651292546497023, 'tea'], [1.651292546497023, 'life'], [1.651292546497023, 'class'], [1.651292546497023, 'swell'], [1.651292546497023, 'Cus'], [1.7484274021733184, 'cent'], [1.651292546497023, 'boom'], [1.7484274021733184, 'Leave'], [1.101986402162968, 'give'], [1.651292546497023, 'size'], [1.651292546497023, 'ahead'], [1.6998599743351706, 'afraid'], [1.7484274021733184, 'doorstep'], [1.7484274021733184, 'rich'], [1.651292546497023, 'Exactly'], [1.651292546497023, 'song'], [1.101986402162968, 'little'], [1.651292546497023, 'reveal'], [1.3047189562170503, 'music'], [1.3047189562170503, 'cry'], [1.3047189562170503, 'i'], [1.3814671301121708, '!'], [1.101986402162968, 'see'], [1.3047189562170503, 'again'], [1.651292546497023, 'take'], [1.3047189562170503, 'waited'], [1.651292546497023, 'cares'], [1.651292546497023, 'stick-figure'], [1.651292546497023, 'tide'], [1.651292546497023, 'Such'], [1.7484274021733184, 'shade'], [1.651292546497023, 'created'], [1.651292546497023, 'Icy'], [1.651292546497023, 'some'], [1.3047189562170503, 'what'], [1.651292546497023, 'few'], [1.651292546497023, 'downtown'], [1.651292546497023, 'd'], [1.651292546497023, 'danced'], [1.651292546497023, 'pretty'], [1.651292546497023, 't'], [1.651292546497023, 'doves'], [1.3047189562170503, 'make'], [1.651292546497023, 'gave'], [1.3047189562170503, 'feel'], [1.651292546497023, 'momma'], [1.651292546497023, 'does'], [1.7484274021733184, 'Life'], [1.134397766932467, \"'ll\"], [1.651292546497023, 'There'], [1.6998599743351706, 'ay'], [1.651292546497023, 'words'], [1.651292546497023, 'eye'], [1.651292546497023, 'feel..'], [1.651292546497023, 'awake'], [1.651292546497023, 'romance'], [1.651292546497023, 'key'], [1.651292546497023, 'sway'], [1.651292546497023, 'raise'], [1.651292546497023, 'get'], [1.651292546497023, 'memory'], [1.651292546497023, 'money'], [1.651292546497023, 'mother'], [1.651292546497023, 'looking'], [0.5851908612306139, 'to'], [1.7484274021733184, 'gold'], [1.651292546497023, 'From'], [1.651292546497023, 'our'], [1.651292546497023, 'act'], [1.3047189562170503, 'how'], [1.651292546497023, 'way'], [1.651292546497023, 'groove'], [0.8465735902799727, 'all'], [1.651292546497023, 'pined'], [0.8963720367670299, \"'m\"], [1.651292546497023, 'was'], [1.651292546497023, 'Aflame'], [1.651292546497023, \"'bout\"], [1.166809131701966, 'never'], [1.651292546497023, 'creep'], [1.651292546497023, 'black'], [1.651292546497023, 'bottom'], [1.651292546497023, 'rascal'], [1.651292546497023, 'whisper'], [0.9581453659370776, 'know'], [1.651292546497023, 'swing'], [1.3047189562170503, 'Every'], [1.651292546497023, 'listen'], [1.0145068580510233, '?'], [1.7484274021733184, 'used'], [1.7484274021733184, 'parade'], [1.651292546497023, 'has'], [1.101986402162968, 'no'], [1.3047189562170503, 'heard'], [1.651292546497023, 'Whatever'], [1.651292546497023, 'phrase'], [1.651292546497023, 'shut'], [1.651292546497023, 'singin'], [1.651292546497023, 'Under'], [1.651292546497023, 'each'], [1.651292546497023, 'who'], [1.651292546497023, 'she'], [1.651292546497023, 'low'], [1.651292546497023, 'dreams'], [1.101986402162968, 'here'], [0.7182396762028583, 'my'], [1.651292546497023, 'wo'], [1.651292546497023, 'ai'], [1.651292546497023, 'chase'], [1.101986402162968, 'they'], [1.651292546497023, 'sky'], [1.651292546497023, 'heels'], [1.651292546497023, 'lullaby'], [1.651292546497023, 'matter'], [1.3047189562170503, \"'\"], [1.101986402162968, 'In'], [1.101986402162968, 'hold'], [1.651292546497023, 'Hooray'], [1.651292546497023, 'Yeah'], [1.651292546497023, 'stop'], [1.651292546497023, 'been'], [0.6115717756571049, 'me'], [1.651292546497023, 'drive'], [1.651292546497023, 'needs'], [1.651292546497023, 'dance'], [1.651292546497023, 'feels'], [1.651292546497023, 'What'], [1.3047189562170503, 'thing'], [1.651292546497023, 'fire'], [1.651292546497023, 'satisfied'], [1.101986402162968, 'from'], [1.651292546497023, 'ride'], [1.7484274021733184, 'crossed'], [1.651292546497023, 'want'], [1.651292546497023, 'meant'], [1.651292546497023, 'belong'], [1.3047189562170503, 'only'], [1.651292546497023, 'beams'], [0.9581453659370776, 'we'], [1.651292546497023, 'hallelujah'], [1.651292546497023, 'magazines'], [1.651292546497023, 'hope'], [1.651292546497023, 'called'], [1.651292546497023, 'last'], [1.3430930431646104, 'worry'], [1.7484274021733184, 'pitter-pat'], [0.6176470588235294, 'I'], [1.651292546497023, \"'Cause\"], [1.3047189562170503, 'him'], [1.651292546497023, 'starts'], [1.9426971135259095, 'sunny'], [1.651292546497023, 'aflame'], [1.3047189562170503, 'always'], [1.651292546497023, 'sell'], [1.3047189562170503, 'someone'], [0.8465735902799727, 'it'], [1.651292546497023, 'witchcraft'], [1.651292546497023, 'likes'], [1.651292546497023, 'same'], [1.796994830011466, 'Grab'], [1.651292546497023, 'Have'], [1.101986402162968, 'So'], [1.651292546497023, 'Diamond'], [1.651292546497023, 'Never'], [1.651292546497023, 'doll'], [1.651292546497023, 'bracelets'], [1.651292546497023, 'working'], [0.8465735902799727, \"'re\"], [1.651292546497023, 'Birdland'], [1.651292546497023, 'shit'], [1.845562257849614, 'feet'], [1.101986402162968, 'when'], [1.3047189562170503, 'mine'], [1.5349634779024122, 'On'], [1.651292546497023, 'farewell'], [1.7484274021733184, 'Ca'], [1.651292546497023, 'better'], [0.9581453659370776, 'just'], [1.651292546497023, 'woodland'], [1.651292546497023, 'themes'], [1.651292546497023, 'May'], [1.651292546497023, 'smile'], [1.651292546497023, 'coming'], [1.651292546497023, 'put'], [1.3047189562170503, 'well'], [1.651292546497023, 'goodbye'], [1.651292546497023, 'its'], [0.5588235294117647, 'a'], [1.651292546497023, 'control'], [1.651292546497023, 'could'], [1.651292546497023, 'changed'], [1.095565822715259, 'your'], [1.651292546497023, 'supposed'], [1.3047189562170503, 'about'], [1.134397766932467, 'But'], [1.651292546497023, 'top'], [1.651292546497023, 'met'], [0.7554128118829954, 'and'], [1.651292546497023, 'desire'], [1.651292546497023, 'makes'], [1.651292546497023, 'told'], [1.651292546497023, 'stay'], [0.7980440846698427, 'of'], [1.651292546497023, 'bit'], [0.9581453659370776, 'up'], [1.651292546497023, 'slow'], [1.651292546497023, 'joint'], [1.651292546497023, 'blue'], [1.651292546497023, 'bass'], [1.651292546497023, 'while'], [1.651292546497023, 'mate'], [1.651292546497023, 'day'], [1.651292546497023, 'says'], [0.6783374719693662, 'love'], [1.651292546497023, 'Your'], [1.651292546497023, 'set'], [1.3814671301121708, 'hat'], [1.3814671301121708, 'at'], [1.651292546497023, 'bike'], [1.134397766932467, 'with'], [1.651292546497023, 'true'], [1.7484274021733184, 'direct'], [1.651292546497023, 'sing'], [1.651292546497023, 'lover'], [1.7484274021733184, 'over'], [1.651292546497023, 'three'], [1.651292546497023, 'treble'], [1.651292546497023, 'Kiss'], [0.9581453659370776, 'two'], [0.9581453659370776, 'That'], [1.651292546497023, 'an'], [1.651292546497023, 'broke'], [1.101986402162968, 'out'], [1.651292546497023, 'exactly'], [1.651292546497023, 'Go'], [1.651292546497023, 'frame'], [1.6998599743351706, 'worries'], [1.651292546497023, 'show'], [1.3047189562170503, 'back'], [1.3814671301121708, 'happy'], [1.3047189562170503, 'or'], [1.651292546497023, 'spell'], [1.651292546497023, 'Could'], [1.651292546497023, 'lie'], [1.651292546497023, 'understand'], [1.651292546497023, 'may']]\n"
     ]
    }
   ],
   "source": [
    "tfidf_representation = tfidf(all_songs)\n",
    "print(tfidf_representation[3])"
   ]
  },
  {
   "cell_type": "code",
   "execution_count": 109,
   "metadata": {},
   "outputs": [
    {
     "name": "stdout",
     "output_type": "stream",
     "text": [
      "[[1.651292546497023, 'am'], [1.3047189562170503, 'meet'], [1.651292546497023, 'weirdo..'], [1.8959284793113966, 'high'], [1.651292546497023, 'knife'], [1.101986402162968, 'those'], [1.651292546497023, 'notice'], [1.651292546497023, 'playing'], [1.101986402162968, 'She'], [1.651292546497023, 'dress'], [1.0, '.'], [1.651292546497023, 'other'], [1.3047189562170503, 'he'], [1.651292546497023, 'zay-zoo-za-ze-zo-zay'], [1.651292546497023, 'Because'], [1.651292546497023, 'too'], [0.9581453659370776, 'do'], [0.9581453659370776, 'baby'], [1.3047189562170503, 'around'], [1.651292546497023, 'float'], [1.1836150245454098, 'If'], [1.651292546497023, 'darned'], [1.651292546497023, 'dust'], [1.651292546497023, 'heart'], [0.9581453659370776, 'on'], [1.651292546497023, 'need'], [1.651292546497023, 'wear'], [1.651292546497023, 'fingers'], [1.651292546497023, 'into'], [1.1836150245454098, 'When'], [1.3047189562170503, 'loving'], [1.651292546497023, 'ba-be-do'], [1.651292546497023, 'Who'], [0.8465735902799727, 'You'], [1.4013648048257206, 'kiss'], [1.651292546497023, 'woolworth'], [0.9581453659370776, 'for'], [1.651292546497023, 'Like'], [1.651292546497023, 'spend'], [1.7736105129042097, 'weepy'], [1.651292546497023, 'leaf'], [1.3047189562170503, 'ca'], [1.651292546497023, 'beautiful'], [1.7736105129042097, 'because'], [1.651292546497023, 'weirdo'], [1.3047189562170503, 'Baby'], [1.651292546497023, 'places'], [1.4013648048257206, 'sweet'], [1.651292546497023, 'more'], [1.651292546497023, 'dynamite'], [1.3047189562170503, 'not'], [1.651292546497023, 'time'], [1.7736105129042097, 'turtle'], [1.3047189562170503, 'move'], [0.5740740740740741, 'the'], [1.3530418805213853, 'Oh'], [1.651292546497023, 'beauty'], [1.651292546497023, 'off'], [1.651292546497023, 'hurts'], [1.101986402162968, \"'ve\"], [1.8347694961078034, 'Lullaby'], [1.3047189562170503, 'why'], [1.651292546497023, 'weave'], [1.651292546497023, 'plenty'], [1.651292546497023, 'ain'], [1.651292546497023, 'elevator'], [0.9581453659370776, 'but'], [1.651292546497023, 'hell'], [1.651292546497023, 'care'], [1.3047189562170503, 'are'], [0.8393475687588837, 'And'], [1.651292546497023, 'ya'], [1.4013648048257206, 'lips'], [1.3047189562170503, 'perfect'], [1.651292546497023, 'anything'], [1.651292546497023, 'With'], [1.3047189562170503, 'hear'], [1.651292546497023, 'tight'], [1.101986402162968, 'if'], [1.4013648048257206, 'magic'], [1.651292546497023, 'name'], [1.651292546497023, 'rover'], [1.7124515297006162, 'sigh'], [1.101986402162968, 'night'], [1.7736105129042097, 'Flying'], [1.7736105129042097, 'really'], [1.3047189562170503, 'think'], [1.7124515297006162, 'Always'], [1.651292546497023, 'list'], [1.651292546497023, 'step'], [1.651292546497023, 'enough'], [1.101986402162968, 'away'], [1.651292546497023, 'something'], [1.651292546497023, 'before'], [1.651292546497023, 'silicone'], [1.3047189562170503, 'dream'], [1.651292546497023, 'street'], [1.651292546497023, 'scheme'], [1.651292546497023, 'than'], [1.651292546497023, 'walk'], [1.3047189562170503, 'every'], [1.651292546497023, 'junk'], [1.651292546497023, 'guess'], [1.3047189562170503, 'The'], [1.651292546497023, 'pray'], [1.7736105129042097, 'then'], [1.651292546497023, 'tingle'], [1.651292546497023, 'hey'], [1.651292546497023, 'sip'], [1.651292546497023, 'fuckin'], [1.651292546497023, 'fate'], [1.651292546497023, 'Why'], [1.651292546497023, 'along'], [1.3047189562170503, 'have'], [1.651292546497023, 'spin'], [1.4013648048257206, 'He'], [0.6550284537231563, 'you'], [1.651292546497023, 'many'], [1.7736105129042097, 'ever'], [1.651292546497023, 'pieces'], [1.0072170825106603, 'in'], [1.651292546497023, 'Taught'], [1.651292546497023, 'haunt'], [1.101986402162968, 'is'], [1.1836150245454098, \"'d\"], [1.651292546497023, 'booty'], [1.651292546497023, 'Gee'], [1.651292546497023, 'busted'], [1.651292546497023, 'inch'], [1.651292546497023, 'running'], [1.651292546497023, 'lucky'], [1.3047189562170503, 'blues'], [1.651292546497023, 'Just'], [1.651292546497023, 'run'], [1.651292546497023, 'ba-be-oh'], [1.101986402162968, 'No'], [1.651292546497023, 'Goody'], [1.101986402162968, 'My'], [1.651292546497023, 'clear'], [1.7736105129042097, 'above'], [1.651292546497023, 'body'], [0.8542027424799427, \"'s\"], [1.651292546497023, 'dreaming'], [1.8347694961078034, 'there'], [1.651292546497023, 'Barbie'], [1.651292546497023, 'boys'], [1.3047189562170503, 'now'], [1.651292546497023, 'foolish'], [1.7736105129042097, 'pillow'], [1.651292546497023, 'Till'], [1.651292546497023, 'Rover'], [0.8465735902799727, \"n't\"], [1.651292546497023, 'sure'], [1.651292546497023, 'look'], [1.651292546497023, 'babe'], [1.651292546497023, 'feather'], [0.9936322313421544, 'be'], [1.651292546497023, 'scheming'], [1.651292546497023, 'Inside'], [1.651292546497023, 'goody'], [1.651292546497023, 'skinny'], [1.651292546497023, 'burning'], [1.651292546497023, 'until'], [1.651292546497023, 'Down'], [1.651292546497023, 'crazy'], [1.651292546497023, 'afreaid'], [1.4013648048257206, 'tell'], [1.651292546497023, 'eyes'], [1.651292546497023, 'Hey'], [1.651292546497023, 'don'], [1.651292546497023, 'Caught'], [1.651292546497023, 'find'], [1.651292546497023, 'will'], [1.3047189562170503, 'shake'], [0.8465735902799727, 'like'], [1.3047189562170503, 'as'], [1.651292546497023, 'real'], [1.651292546497023, 'road'], [1.651292546497023, 'na'], [1.7736105129042097, 'kind'], [1.3047189562170503, 'one'], [0.8465735902799727, 'so'], [1.651292546497023, 'coat'], [1.651292546497023, 'bitches'], [1.0291190967472312, 'go'], [0.9936322313421544, 'All'], [1.651292546497023, 'oh'], [1.3047189562170503, 'had'], [1.651292546497023, 'were'], [1.3047189562170503, 'got'], [1.651292546497023, 'fat'], [1.651292546497023, 'keep'], [1.651292546497023, 'skin'], [1.651292546497023, 'angel'], [1.651292546497023, \"'Bout\"], [1.651292546497023, 'Happiness'], [1.651292546497023, 'Still'], [1.651292546497023, 'wish'], [1.651292546497023, 'spine'], [1.651292546497023, 'Then'], [1.651292546497023, 'plays'], [1.651292546497023, 'bringing'], [1.7736105129042097, 'willow'], [1.3047189562170503, 'things'], [1.651292546497023, 'chance'], [1.651292546497023, 'barrel'], [1.651292546497023, 'Come'], [1.651292546497023, 'ba-be-bo-ba-bay'], [1.651292546497023, 'doing'], [1.651292546497023, 'bumpy'], [1.651292546497023, 'face'], [1.7736105129042097, 'Bill'], [0.9581453659370776, 'can'], [1.651292546497023, 'Photoshop'], [1.651292546497023, 'Rock-e-fellow'], [1.651292546497023, 'wan'], [1.4013648048257206, 'old'], [0.7164373712597022, ','], [1.7736105129042097, 'coo'], [1.7736105129042097, 'knows'], [1.651292546497023, 'tune'], [1.651292546497023, 'right'], [1.651292546497023, 'permission'], [1.651292546497023, 'ba-ba-bo'], [1.651292546497023, 'special'], [1.651292546497023, 'grand'], [0.9581453659370776, 'We'], [1.651292546497023, \"'em\"], [0.6783374719693662, 'that'], [1.651292546497023, '’'], [1.1836150245454098, 'should'], [1.651292546497023, 'them'], [1.651292546497023, 'learn'], [1.651292546497023, 'Nobody'], [1.651292546497023, 'side'], [1.3047189562170503, 'world'], [1.3047189562170503, 'down'], [1.651292546497023, 'Know'], [1.651292546497023, 'long'], [1.651292546497023, 'round'], [1.651292546497023, 'nobody'], [1.651292546497023, 'here..'], [1.651292546497023, 'soul'], [1.651292546497023, 'Get'], [1.651292546497023, 'Scheme'], [1.651292546497023, 'tea'], [1.651292546497023, 'life'], [1.651292546497023, 'class'], [1.651292546497023, 'swell'], [1.651292546497023, 'Cus'], [1.651292546497023, 'cent'], [1.651292546497023, 'boom'], [1.651292546497023, 'Leave'], [1.101986402162968, 'give'], [1.651292546497023, 'size'], [1.651292546497023, 'ahead'], [1.651292546497023, 'afraid'], [1.651292546497023, 'doorstep'], [1.651292546497023, 'rich'], [1.651292546497023, 'Exactly'], [1.651292546497023, 'song'], [1.101986402162968, 'little'], [1.7124515297006162, 'reveal'], [1.4013648048257206, 'music'], [1.498010653434391, 'cry'], [1.4013648048257206, 'i'], [1.3047189562170503, '!'], [1.101986402162968, 'see'], [1.3047189562170503, 'again'], [1.651292546497023, 'take'], [1.3047189562170503, 'waited'], [1.651292546497023, 'cares'], [1.651292546497023, 'stick-figure'], [1.651292546497023, 'tide'], [1.651292546497023, 'Such'], [1.651292546497023, 'shade'], [1.651292546497023, 'created'], [1.651292546497023, 'Icy'], [1.651292546497023, 'some'], [1.3047189562170503, 'what'], [1.651292546497023, 'few'], [1.651292546497023, 'downtown'], [1.651292546497023, 'd'], [1.651292546497023, 'danced'], [1.651292546497023, 'pretty'], [1.651292546497023, 't'], [1.7736105129042097, 'doves'], [1.3047189562170503, 'make'], [1.651292546497023, 'gave'], [1.3047189562170503, 'feel'], [1.651292546497023, 'momma'], [1.651292546497023, 'does'], [1.651292546497023, 'Life'], [1.1836150245454098, \"'ll\"], [1.651292546497023, 'There'], [1.651292546497023, 'ay'], [1.7124515297006162, 'words'], [1.651292546497023, 'eye'], [1.7124515297006162, 'feel..'], [1.651292546497023, 'awake'], [1.651292546497023, 'romance'], [1.651292546497023, 'key'], [1.651292546497023, 'sway'], [1.651292546497023, 'raise'], [1.7736105129042097, 'get'], [1.651292546497023, 'memory'], [1.651292546497023, 'money'], [1.651292546497023, 'mother'], [1.651292546497023, 'looking'], [0.6140891753654592, 'to'], [1.651292546497023, 'gold'], [1.651292546497023, 'From'], [1.7736105129042097, 'our'], [1.651292546497023, 'act'], [1.5463335777387262, 'how'], [1.651292546497023, 'way'], [1.651292546497023, 'groove'], [0.8779281676977494, 'all'], [1.651292546497023, 'pined'], [0.8465735902799727, \"'m\"], [1.651292546497023, 'was'], [1.651292546497023, 'Aflame'], [1.651292546497023, \"'bout\"], [1.101986402162968, 'never'], [1.651292546497023, 'creep'], [1.651292546497023, 'black'], [1.651292546497023, 'bottom'], [1.651292546497023, 'rascal'], [1.8347694961078034, 'whisper'], [0.9581453659370776, 'know'], [1.651292546497023, 'swing'], [1.3047189562170503, 'Every'], [1.651292546497023, 'listen'], [1.0291190967472312, '?'], [1.651292546497023, 'used'], [1.651292546497023, 'parade'], [1.651292546497023, 'has'], [1.101986402162968, 'no'], [1.4013648048257206, 'heard'], [1.651292546497023, 'Whatever'], [1.7124515297006162, 'phrase'], [1.651292546497023, 'shut'], [1.651292546497023, 'singin'], [1.651292546497023, 'Under'], [1.651292546497023, 'each'], [1.651292546497023, 'who'], [1.651292546497023, 'she'], [1.8347694961078034, 'low'], [1.651292546497023, 'dreams'], [1.1428007133541889, 'here'], [0.7537083021881847, 'my'], [1.651292546497023, 'wo'], [1.651292546497023, 'ai'], [1.651292546497023, 'chase'], [1.1836150245454098, 'they'], [1.7736105129042097, 'sky'], [1.651292546497023, 'heels'], [1.7736105129042097, 'lullaby'], [1.651292546497023, 'matter'], [1.3047189562170503, \"'\"], [1.1428007133541889, 'In'], [1.101986402162968, 'hold'], [1.651292546497023, 'Hooray'], [1.651292546497023, 'Yeah'], [1.651292546497023, 'stop'], [1.651292546497023, 'been'], [0.7021750016803796, 'me'], [1.651292546497023, 'drive'], [1.651292546497023, 'needs'], [1.651292546497023, 'dance'], [1.651292546497023, 'feels'], [1.651292546497023, 'What'], [1.3047189562170503, 'thing'], [1.651292546497023, 'fire'], [1.651292546497023, 'satisfied'], [1.1836150245454098, 'from'], [1.651292546497023, 'ride'], [1.651292546497023, 'crossed'], [1.651292546497023, 'want'], [1.651292546497023, 'meant'], [1.651292546497023, 'belong'], [1.3047189562170503, 'only'], [1.651292546497023, 'beams'], [1.2420402891776932, 'we'], [1.651292546497023, 'hallelujah'], [1.651292546497023, 'magazines'], [1.651292546497023, 'hope'], [1.651292546497023, 'called'], [1.651292546497023, 'last'], [1.3047189562170503, 'worry'], [1.651292546497023, 'pitter-pat'], [0.5185185185185185, 'I'], [1.651292546497023, \"'Cause\"], [1.3047189562170503, 'him'], [1.651292546497023, 'starts'], [1.651292546497023, 'sunny'], [1.651292546497023, 'aflame'], [1.3047189562170503, 'always'], [1.651292546497023, 'sell'], [1.3047189562170503, 'someone'], [0.8779281676977494, 'it'], [1.651292546497023, 'witchcraft'], [1.651292546497023, 'likes'], [1.651292546497023, 'same'], [1.651292546497023, 'Grab'], [1.7736105129042097, 'Have'], [1.101986402162968, 'So'], [1.651292546497023, 'Diamond'], [1.7124515297006162, 'Never'], [1.651292546497023, 'doll'], [1.651292546497023, 'bracelets'], [1.651292546497023, 'working'], [0.9092827451155261, \"'re\"], [1.95708746251499, 'Birdland'], [1.651292546497023, 'shit'], [1.651292546497023, 'feet'], [1.2244293357366312, 'when'], [1.3047189562170503, 'mine'], [1.3047189562170503, 'On'], [1.7736105129042097, 'farewell'], [1.651292546497023, 'Ca'], [1.651292546497023, 'better'], [0.9581453659370776, 'just'], [1.7124515297006162, 'woodland'], [1.651292546497023, 'themes'], [1.651292546497023, 'May'], [1.651292546497023, 'smile'], [1.651292546497023, 'coming'], [1.651292546497023, 'put'], [1.3047189562170503, 'well'], [1.7736105129042097, 'goodbye'], [1.651292546497023, 'its'], [0.5555555555555556, 'a'], [1.651292546497023, 'control'], [1.7124515297006162, 'could'], [1.651292546497023, 'changed'], [0.8465735902799727, 'your'], [1.651292546497023, 'supposed'], [1.3047189562170503, 'about'], [1.101986402162968, 'But'], [1.651292546497023, 'top'], [1.651292546497023, 'met'], [0.8673258210508465, 'and'], [1.651292546497023, 'desire'], [1.651292546497023, 'makes'], [1.651292546497023, 'told'], [1.651292546497023, 'stay'], [0.8039555223340636, 'of'], [1.651292546497023, 'bit'], [1.0291190967472312, 'up'], [1.651292546497023, 'slow'], [1.651292546497023, 'joint'], [1.651292546497023, 'blue'], [1.651292546497023, 'bass'], [1.651292546497023, 'while'], [1.651292546497023, 'mate'], [1.651292546497023, 'day'], [1.651292546497023, 'says'], [0.7788319122611241, 'love'], [1.651292546497023, 'Your'], [1.651292546497023, 'set'], [1.3047189562170503, 'hat'], [1.3047189562170503, 'at'], [1.651292546497023, 'bike'], [1.101986402162968, 'with'], [1.651292546497023, 'true'], [1.651292546497023, 'direct'], [1.651292546497023, 'sing'], [1.651292546497023, 'lover'], [1.651292546497023, 'over'], [1.651292546497023, 'three'], [1.651292546497023, 'treble'], [1.7736105129042097, 'Kiss'], [1.0291190967472312, 'two'], [1.1000928275573854, 'That'], [1.651292546497023, 'an'], [1.651292546497023, 'broke'], [1.101986402162968, 'out'], [1.651292546497023, 'exactly'], [1.651292546497023, 'Go'], [1.651292546497023, 'frame'], [1.651292546497023, 'worries'], [1.651292546497023, 'show'], [1.3047189562170503, 'back'], [1.3047189562170503, 'happy'], [1.3047189562170503, 'or'], [1.651292546497023, 'spell'], [1.651292546497023, 'Could'], [1.651292546497023, 'lie'], [1.651292546497023, 'understand'], [1.651292546497023, 'may']]\n"
     ]
    }
   ],
   "source": [
    "tfidf_representation = tfidf(all_songs)\n",
    "print(tfidf_representation[4])"
   ]
  },
  {
   "cell_type": "code",
   "execution_count": 110,
   "metadata": {},
   "outputs": [
    {
     "name": "stdout",
     "output_type": "stream",
     "text": [
      "[[1.651292546497023, 'am'], [1.3047189562170503, 'meet'], [1.651292546497023, 'weirdo..'], [1.651292546497023, 'high'], [1.651292546497023, 'knife'], [1.2121850423792648, 'those'], [1.651292546497023, 'notice'], [1.651292546497023, 'playing'], [1.101986402162968, 'She'], [1.651292546497023, 'dress'], [1.0, '.'], [1.651292546497023, 'other'], [1.3047189562170503, 'he'], [1.651292546497023, 'zay-zoo-za-ze-zo-zay'], [1.651292546497023, 'Because'], [1.651292546497023, 'too'], [0.9581453659370776, 'do'], [1.4372180489056163, 'baby'], [1.3047189562170503, 'around'], [1.651292546497023, 'float'], [1.101986402162968, 'If'], [1.8164218011467255, 'darned'], [1.651292546497023, 'dust'], [1.651292546497023, 'heart'], [0.9581453659370776, 'on'], [1.651292546497023, 'need'], [1.651292546497023, 'wear'], [1.651292546497023, 'fingers'], [1.651292546497023, 'into'], [1.101986402162968, 'When'], [1.3047189562170503, 'loving'], [1.651292546497023, 'ba-be-do'], [1.651292546497023, 'Who'], [0.93123094930797, 'You'], [1.3047189562170503, 'kiss'], [1.8164218011467255, 'woolworth'], [1.0539599025307853, 'for'], [1.651292546497023, 'Like'], [1.651292546497023, 'spend'], [1.651292546497023, 'weepy'], [1.651292546497023, 'leaf'], [1.5656627474604603, 'ca'], [1.651292546497023, 'beautiful'], [1.651292546497023, 'because'], [1.651292546497023, 'weirdo'], [1.3047189562170503, 'Baby'], [1.651292546497023, 'places'], [1.3047189562170503, 'sweet'], [1.651292546497023, 'more'], [1.651292546497023, 'dynamite'], [1.3047189562170503, 'not'], [1.651292546497023, 'time'], [1.651292546497023, 'turtle'], [1.3047189562170503, 'move'], [0.55, 'the'], [1.3047189562170503, 'Oh'], [1.651292546497023, 'beauty'], [1.651292546497023, 'off'], [1.651292546497023, 'hurts'], [1.3223836825955615, \"'ve\"], [1.651292546497023, 'Lullaby'], [1.3047189562170503, 'why'], [1.651292546497023, 'weave'], [1.8164218011467255, 'plenty'], [1.651292546497023, 'ain'], [1.651292546497023, 'elevator'], [1.149774439124493, 'but'], [1.651292546497023, 'hell'], [1.651292546497023, 'care'], [1.3047189562170503, 'are'], [0.7554128118829954, 'And'], [1.651292546497023, 'ya'], [1.3047189562170503, 'lips'], [1.3047189562170503, 'perfect'], [1.9815510557964275, 'anything'], [1.651292546497023, 'With'], [1.3047189562170503, 'hear'], [1.651292546497023, 'tight'], [1.101986402162968, 'if'], [1.3047189562170503, 'magic'], [1.651292546497023, 'name'], [1.651292546497023, 'rover'], [1.651292546497023, 'sigh'], [1.101986402162968, 'night'], [1.651292546497023, 'Flying'], [1.651292546497023, 'really'], [1.3047189562170503, 'think'], [1.651292546497023, 'Always'], [1.651292546497023, 'list'], [1.651292546497023, 'step'], [1.651292546497023, 'enough'], [1.101986402162968, 'away'], [1.651292546497023, 'something'], [1.651292546497023, 'before'], [1.651292546497023, 'silicone'], [1.4351908518387555, 'dream'], [1.651292546497023, 'street'], [1.651292546497023, 'scheme'], [1.651292546497023, 'than'], [1.651292546497023, 'walk'], [1.3047189562170503, 'every'], [1.651292546497023, 'junk'], [1.8164218011467255, 'guess'], [1.3047189562170503, 'The'], [1.651292546497023, 'pray'], [1.651292546497023, 'then'], [1.651292546497023, 'tingle'], [1.651292546497023, 'hey'], [1.651292546497023, 'sip'], [1.651292546497023, 'fuckin'], [1.651292546497023, 'fate'], [1.651292546497023, 'Why'], [1.651292546497023, 'along'], [1.3047189562170503, 'have'], [1.651292546497023, 'spin'], [1.3047189562170503, 'He'], [0.7737523609604784, 'you'], [1.651292546497023, 'many'], [1.651292546497023, 'ever'], [1.651292546497023, 'pieces'], [0.7554128118829954, 'in'], [1.651292546497023, 'Taught'], [1.651292546497023, 'haunt'], [1.101986402162968, 'is'], [1.2121850423792648, \"'d\"], [1.651292546497023, 'booty'], [1.8164218011467255, 'Gee'], [1.651292546497023, 'busted'], [1.651292546497023, 'inch'], [1.651292546497023, 'running'], [1.8164218011467255, 'lucky'], [1.3047189562170503, 'blues'], [1.651292546497023, 'Just'], [1.651292546497023, 'run'], [1.651292546497023, 'ba-be-oh'], [1.101986402162968, 'No'], [1.651292546497023, 'Goody'], [1.101986402162968, 'My'], [1.651292546497023, 'clear'], [1.651292546497023, 'above'], [1.651292546497023, 'body'], [0.7461712191663029, \"'s\"], [1.651292546497023, 'dreaming'], [1.651292546497023, 'there'], [1.651292546497023, 'Barbie'], [1.651292546497023, 'boys'], [1.3047189562170503, 'now'], [1.651292546497023, 'foolish'], [1.651292546497023, 'pillow'], [1.8164218011467255, 'Till'], [1.651292546497023, 'Rover'], [1.1005456673639646, \"n't\"], [1.8164218011467255, 'sure'], [1.651292546497023, 'look'], [1.651292546497023, 'babe'], [1.651292546497023, 'feather'], [0.9581453659370776, 'be'], [1.651292546497023, 'scheming'], [1.651292546497023, 'Inside'], [1.651292546497023, 'goody'], [1.651292546497023, 'skinny'], [1.651292546497023, 'burning'], [1.651292546497023, 'until'], [1.651292546497023, 'Down'], [1.651292546497023, 'crazy'], [1.651292546497023, 'afreaid'], [1.3047189562170503, 'tell'], [1.651292546497023, 'eyes'], [1.651292546497023, 'Hey'], [1.651292546497023, 'don'], [1.651292546497023, 'Caught'], [1.8164218011467255, 'find'], [1.651292546497023, 'will'], [1.3047189562170503, 'shake'], [0.93123094930797, 'like'], [1.3047189562170503, 'as'], [1.651292546497023, 'real'], [1.651292546497023, 'road'], [1.651292546497023, 'na'], [1.651292546497023, 'kind'], [1.3047189562170503, 'one'], [0.8465735902799727, 'so'], [1.651292546497023, 'coat'], [1.651292546497023, 'bitches'], [0.9581453659370776, 'go'], [1.0539599025307853, 'All'], [1.651292546497023, 'oh'], [1.3047189562170503, 'had'], [1.651292546497023, 'were'], [1.3047189562170503, 'got'], [1.651292546497023, 'fat'], [1.651292546497023, 'keep'], [1.651292546497023, 'skin'], [1.651292546497023, 'angel'], [1.651292546497023, \"'Bout\"], [1.8164218011467255, 'Happiness'], [1.651292546497023, 'Still'], [1.651292546497023, 'wish'], [1.651292546497023, 'spine'], [1.651292546497023, 'Then'], [1.651292546497023, 'plays'], [1.651292546497023, 'bringing'], [1.651292546497023, 'willow'], [1.4351908518387555, 'things'], [1.651292546497023, 'chance'], [1.651292546497023, 'barrel'], [1.651292546497023, 'Come'], [1.651292546497023, 'ba-be-bo-ba-bay'], [1.651292546497023, 'doing'], [1.651292546497023, 'bumpy'], [1.651292546497023, 'face'], [1.651292546497023, 'Bill'], [0.9581453659370776, 'can'], [1.651292546497023, 'Photoshop'], [1.651292546497023, 'Rock-e-fellow'], [1.651292546497023, 'wan'], [1.3047189562170503, 'old'], [0.8842884125262611, ','], [1.651292546497023, 'coo'], [1.651292546497023, 'knows'], [1.651292546497023, 'tune'], [1.651292546497023, 'right'], [1.651292546497023, 'permission'], [1.651292546497023, 'ba-ba-bo'], [1.651292546497023, 'special'], [1.651292546497023, 'grand'], [1.0539599025307853, 'We'], [1.651292546497023, \"'em\"], [0.7461712191663029, 'that'], [1.651292546497023, '’'], [1.101986402162968, 'should'], [1.651292546497023, 'them'], [1.651292546497023, 'learn'], [1.651292546497023, 'Nobody'], [1.651292546497023, 'side'], [1.3047189562170503, 'world'], [1.3047189562170503, 'down'], [1.651292546497023, 'Know'], [1.651292546497023, 'long'], [1.651292546497023, 'round'], [1.651292546497023, 'nobody'], [1.651292546497023, 'here..'], [1.651292546497023, 'soul'], [1.651292546497023, 'Get'], [1.8164218011467255, 'Scheme'], [1.651292546497023, 'tea'], [1.651292546497023, 'life'], [1.651292546497023, 'class'], [1.8164218011467255, 'swell'], [1.651292546497023, 'Cus'], [1.651292546497023, 'cent'], [1.651292546497023, 'boom'], [1.651292546497023, 'Leave'], [1.3223836825955615, 'give'], [1.651292546497023, 'size'], [1.651292546497023, 'ahead'], [1.651292546497023, 'afraid'], [1.651292546497023, 'doorstep'], [1.651292546497023, 'rich'], [1.651292546497023, 'Exactly'], [1.651292546497023, 'song'], [1.101986402162968, 'little'], [1.651292546497023, 'reveal'], [1.3047189562170503, 'music'], [1.3047189562170503, 'cry'], [1.3047189562170503, 'i'], [1.3047189562170503, '!'], [1.2121850423792648, 'see'], [1.3047189562170503, 'again'], [1.651292546497023, 'take'], [1.3047189562170503, 'waited'], [1.651292546497023, 'cares'], [1.651292546497023, 'stick-figure'], [1.651292546497023, 'tide'], [1.651292546497023, 'Such'], [1.651292546497023, 'shade'], [1.651292546497023, 'created'], [1.651292546497023, 'Icy'], [1.651292546497023, 'some'], [1.3047189562170503, 'what'], [1.651292546497023, 'few'], [1.651292546497023, 'downtown'], [1.651292546497023, 'd'], [1.651292546497023, 'danced'], [1.651292546497023, 'pretty'], [1.651292546497023, 't'], [1.651292546497023, 'doves'], [1.3047189562170503, 'make'], [1.651292546497023, 'gave'], [1.3047189562170503, 'feel'], [1.651292546497023, 'momma'], [1.8164218011467255, 'does'], [1.651292546497023, 'Life'], [1.101986402162968, \"'ll\"], [1.651292546497023, 'There'], [1.651292546497023, 'ay'], [1.651292546497023, 'words'], [1.651292546497023, 'eye'], [1.651292546497023, 'feel..'], [1.651292546497023, 'awake'], [1.651292546497023, 'romance'], [1.651292546497023, 'key'], [1.651292546497023, 'sway'], [1.651292546497023, 'raise'], [1.651292546497023, 'get'], [1.651292546497023, 'memory'], [1.651292546497023, 'money'], [1.651292546497023, 'mother'], [1.8164218011467255, 'looking'], [0.6632163093946958, 'to'], [1.651292546497023, 'gold'], [1.651292546497023, 'From'], [1.651292546497023, 'our'], [1.651292546497023, 'act'], [1.3047189562170503, 'how'], [1.651292546497023, 'way'], [1.651292546497023, 'groove'], [0.8465735902799727, 'all'], [1.8164218011467255, 'pined'], [0.8465735902799727, \"'m\"], [1.651292546497023, 'was'], [1.651292546497023, 'Aflame'], [1.651292546497023, \"'bout\"], [1.101986402162968, 'never'], [1.651292546497023, 'creep'], [1.651292546497023, 'black'], [1.651292546497023, 'bottom'], [1.651292546497023, 'rascal'], [1.651292546497023, 'whisper'], [1.0539599025307853, 'know'], [1.651292546497023, 'swing'], [1.3047189562170503, 'Every'], [1.651292546497023, 'listen'], [0.9581453659370776, '?'], [1.651292546497023, 'used'], [1.651292546497023, 'parade'], [1.651292546497023, 'has'], [1.101986402162968, 'no'], [1.3047189562170503, 'heard'], [1.651292546497023, 'Whatever'], [1.651292546497023, 'phrase'], [1.651292546497023, 'shut'], [1.651292546497023, 'singin'], [1.651292546497023, 'Under'], [1.651292546497023, 'each'], [1.651292546497023, 'who'], [1.651292546497023, 'she'], [1.651292546497023, 'low'], [1.651292546497023, 'dreams'], [1.101986402162968, 'here'], [0.6783374719693662, 'my'], [1.651292546497023, 'wo'], [1.651292546497023, 'ai'], [1.651292546497023, 'chase'], [1.101986402162968, 'they'], [1.651292546497023, 'sky'], [1.651292546497023, 'heels'], [1.651292546497023, 'lullaby'], [1.651292546497023, 'matter'], [1.3047189562170503, \"'\"], [1.101986402162968, 'In'], [1.101986402162968, 'hold'], [1.651292546497023, 'Hooray'], [1.651292546497023, 'Yeah'], [1.651292546497023, 'stop'], [1.651292546497023, 'been'], [0.6115717756571049, 'me'], [1.651292546497023, 'drive'], [1.651292546497023, 'needs'], [1.651292546497023, 'dance'], [1.651292546497023, 'feels'], [1.651292546497023, 'What'], [1.4351908518387555, 'thing'], [1.651292546497023, 'fire'], [1.651292546497023, 'satisfied'], [1.101986402162968, 'from'], [1.651292546497023, 'ride'], [1.651292546497023, 'crossed'], [1.651292546497023, 'want'], [1.651292546497023, 'meant'], [1.651292546497023, 'belong'], [1.4351908518387555, 'only'], [1.651292546497023, 'beams'], [0.9581453659370776, 'we'], [1.651292546497023, 'hallelujah'], [1.651292546497023, 'magazines'], [1.651292546497023, 'hope'], [1.651292546497023, 'called'], [1.651292546497023, 'last'], [1.3047189562170503, 'worry'], [1.651292546497023, 'pitter-pat'], [0.75, 'I'], [1.651292546497023, \"'Cause\"], [1.3047189562170503, 'him'], [1.651292546497023, 'starts'], [1.651292546497023, 'sunny'], [1.651292546497023, 'aflame'], [1.4351908518387555, 'always'], [1.8164218011467255, 'sell'], [1.3047189562170503, 'someone'], [0.8465735902799727, 'it'], [1.651292546497023, 'witchcraft'], [1.651292546497023, 'likes'], [1.651292546497023, 'same'], [1.651292546497023, 'Grab'], [1.651292546497023, 'Have'], [1.101986402162968, 'So'], [1.8164218011467255, 'Diamond'], [1.651292546497023, 'Never'], [1.651292546497023, 'doll'], [1.8164218011467255, 'bracelets'], [1.651292546497023, 'working'], [0.93123094930797, \"'re\"], [1.651292546497023, 'Birdland'], [1.651292546497023, 'shit'], [1.651292546497023, 'feet'], [1.101986402162968, 'when'], [1.3047189562170503, 'mine'], [1.3047189562170503, 'On'], [1.651292546497023, 'farewell'], [1.651292546497023, 'Ca'], [1.651292546497023, 'better'], [0.9581453659370776, 'just'], [1.651292546497023, 'woodland'], [1.651292546497023, 'themes'], [1.651292546497023, 'May'], [1.651292546497023, 'smile'], [1.651292546497023, 'coming'], [1.651292546497023, 'put'], [1.4351908518387555, 'well'], [1.651292546497023, 'goodbye'], [1.651292546497023, 'its'], [0.6, 'a'], [1.651292546497023, 'control'], [1.651292546497023, 'could'], [1.651292546497023, 'changed'], [0.8465735902799727, 'your'], [1.651292546497023, 'supposed'], [1.3047189562170503, 'about'], [1.101986402162968, 'But'], [1.651292546497023, 'top'], [1.651292546497023, 'met'], [0.830954093071295, 'and'], [1.651292546497023, 'desire'], [1.651292546497023, 'makes'], [1.651292546497023, 'told'], [1.651292546497023, 'stay'], [0.7461712191663029, 'of'], [1.651292546497023, 'bit'], [0.9581453659370776, 'up'], [1.651292546497023, 'slow'], [1.651292546497023, 'joint'], [1.651292546497023, 'blue'], [1.651292546497023, 'bass'], [1.9815510557964275, 'while'], [1.651292546497023, 'mate'], [1.8164218011467255, 'day'], [1.651292546497023, 'says'], [0.8140049663632395, 'love'], [1.651292546497023, 'Your'], [1.651292546497023, 'set'], [1.3047189562170503, 'hat'], [1.3047189562170503, 'at'], [1.651292546497023, 'bike'], [1.101986402162968, 'with'], [1.651292546497023, 'true'], [1.651292546497023, 'direct'], [1.651292546497023, 'sing'], [1.651292546497023, 'lover'], [1.651292546497023, 'over'], [1.651292546497023, 'three'], [1.651292546497023, 'treble'], [1.651292546497023, 'Kiss'], [0.9581453659370776, 'two'], [1.0539599025307853, 'That'], [1.651292546497023, 'an'], [1.651292546497023, 'broke'], [1.101986402162968, 'out'], [1.651292546497023, 'exactly'], [1.651292546497023, 'Go'], [1.651292546497023, 'frame'], [1.651292546497023, 'worries'], [1.651292546497023, 'show'], [1.3047189562170503, 'back'], [1.3047189562170503, 'happy'], [1.3047189562170503, 'or'], [1.651292546497023, 'spell'], [1.651292546497023, 'Could'], [1.651292546497023, 'lie'], [1.651292546497023, 'understand'], [1.651292546497023, 'may']]\n"
     ]
    }
   ],
   "source": [
    "tfidf_representation = tfidf(all_songs)\n",
    "print(tfidf_representation[5])"
   ]
  },
  {
   "cell_type": "code",
   "execution_count": 111,
   "metadata": {},
   "outputs": [
    {
     "name": "stdout",
     "output_type": "stream",
     "text": [
      "[[1.651292546497023, 'am'], [1.3047189562170503, 'meet'], [1.651292546497023, 'weirdo..'], [1.651292546497023, 'high'], [1.651292546497023, 'knife'], [1.1687734568395114, 'those'], [1.651292546497023, 'notice'], [1.651292546497023, 'playing'], [1.1687734568395114, 'She'], [1.651292546497023, 'dress'], [1.0, '.'], [1.651292546497023, 'other'], [1.3047189562170503, 'he'], [1.651292546497023, 'zay-zoo-za-ze-zo-zay'], [1.651292546497023, 'Because'], [1.651292546497023, 'too'], [0.9581453659370776, 'do'], [0.9871800739957769, 'baby'], [1.3047189562170503, 'around'], [1.651292546497023, 'float'], [1.101986402162968, 'If'], [1.651292546497023, 'darned'], [1.651292546497023, 'dust'], [1.651292546497023, 'heart'], [0.9581453659370776, 'on'], [1.651292546497023, 'need'], [1.651292546497023, 'wear'], [1.651292546497023, 'fingers'], [1.651292546497023, 'into'], [1.101986402162968, 'When'], [1.3047189562170503, 'loving'], [1.651292546497023, 'ba-be-do'], [1.651292546497023, 'Who'], [0.9491885709199693, 'You'], [1.3047189562170503, 'kiss'], [1.651292546497023, 'woolworth'], [1.0742841981718747, 'for'], [1.651292546497023, 'Like'], [1.7513708826483576, 'spend'], [1.651292546497023, 'weepy'], [1.651292546497023, 'leaf'], [1.3047189562170503, 'ca'], [1.651292546497023, 'beautiful'], [1.651292546497023, 'because'], [1.651292546497023, 'weirdo'], [1.3047189562170503, 'Baby'], [1.651292546497023, 'places'], [1.3047189562170503, 'sweet'], [1.651292546497023, 'more'], [1.651292546497023, 'dynamite'], [1.3047189562170503, 'not'], [1.651292546497023, 'time'], [1.651292546497023, 'turtle'], [1.3047189562170503, 'move'], [0.5303030303030303, 'the'], [1.3047189562170503, 'Oh'], [1.651292546497023, 'beauty'], [1.651292546497023, 'off'], [1.651292546497023, 'hurts'], [1.2355605115160548, \"'ve\"], [1.651292546497023, 'Lullaby'], [1.5419405846201504, 'why'], [1.651292546497023, 'weave'], [1.651292546497023, 'plenty'], [1.651292546497023, 'ain'], [1.651292546497023, 'elevator'], [0.9581453659370776, 'but'], [1.651292546497023, 'hell'], [1.651292546497023, 'care'], [1.3047189562170503, 'are'], [0.7554128118829954, 'And'], [1.651292546497023, 'ya'], [1.3047189562170503, 'lips'], [1.3047189562170503, 'perfect'], [1.651292546497023, 'anything'], [1.651292546497023, 'With'], [1.3047189562170503, 'hear'], [1.651292546497023, 'tight'], [1.101986402162968, 'if'], [1.3047189562170503, 'magic'], [1.651292546497023, 'name'], [1.651292546497023, 'rover'], [1.651292546497023, 'sigh'], [1.1687734568395114, 'night'], [1.651292546497023, 'Flying'], [1.651292546497023, 'really'], [1.3047189562170503, 'think'], [1.651292546497023, 'Always'], [1.651292546497023, 'list'], [1.651292546497023, 'step'], [1.651292546497023, 'enough'], [1.101986402162968, 'away'], [1.651292546497023, 'something'], [1.651292546497023, 'before'], [1.651292546497023, 'silicone'], [1.3837928323514168, 'dream'], [1.651292546497023, 'street'], [1.7513708826483576, 'scheme'], [1.651292546497023, 'than'], [1.651292546497023, 'walk'], [1.3047189562170503, 'every'], [1.651292546497023, 'junk'], [1.651292546497023, 'guess'], [1.3047189562170503, 'The'], [1.7513708826483576, 'pray'], [1.651292546497023, 'then'], [1.651292546497023, 'tingle'], [1.651292546497023, 'hey'], [1.651292546497023, 'sip'], [1.651292546497023, 'fuckin'], [1.651292546497023, 'fate'], [1.7513708826483576, 'Why'], [1.651292546497023, 'along'], [1.3047189562170503, 'have'], [1.651292546497023, 'spin'], [1.3047189562170503, 'He'], [0.6866633506359224, 'you'], [1.651292546497023, 'many'], [1.651292546497023, 'ever'], [1.651292546497023, 'pieces'], [0.7554128118829954, 'in'], [1.7513708826483576, 'Taught'], [1.651292546497023, 'haunt'], [1.101986402162968, 'is'], [1.101986402162968, \"'d\"], [1.651292546497023, 'booty'], [1.651292546497023, 'Gee'], [1.651292546497023, 'busted'], [1.651292546497023, 'inch'], [1.651292546497023, 'running'], [1.651292546497023, 'lucky'], [1.3047189562170503, 'blues'], [1.651292546497023, 'Just'], [1.651292546497023, 'run'], [1.651292546497023, 'ba-be-oh'], [1.1687734568395114, 'No'], [1.651292546497023, 'Goody'], [1.1353799295012397, 'My'], [1.651292546497023, 'clear'], [1.651292546497023, 'above'], [1.651292546497023, 'body'], [0.6783374719693662, \"'s\"], [1.7513708826483576, 'dreaming'], [1.651292546497023, 'there'], [1.651292546497023, 'Barbie'], [1.651292546497023, 'boys'], [1.3047189562170503, 'now'], [1.7513708826483576, 'foolish'], [1.651292546497023, 'pillow'], [1.651292546497023, 'Till'], [1.651292546497023, 'Rover'], [0.8465735902799727, \"n't\"], [1.651292546497023, 'sure'], [1.651292546497023, 'look'], [1.651292546497023, 'babe'], [1.651292546497023, 'feather'], [1.0162147820544762, 'be'], [1.7513708826483576, 'scheming'], [1.651292546497023, 'Inside'], [1.651292546497023, 'goody'], [1.651292546497023, 'skinny'], [1.651292546497023, 'burning'], [1.651292546497023, 'until'], [1.651292546497023, 'Down'], [1.651292546497023, 'crazy'], [1.651292546497023, 'afreaid'], [1.3047189562170503, 'tell'], [1.651292546497023, 'eyes'], [1.651292546497023, 'Hey'], [1.651292546497023, 'don'], [1.651292546497023, 'Caught'], [1.651292546497023, 'find'], [1.651292546497023, 'will'], [1.3047189562170503, 'shake'], [1.0004960612399678, 'like'], [1.3047189562170503, 'as'], [1.651292546497023, 'real'], [1.651292546497023, 'road'], [1.7513708826483576, 'na'], [1.651292546497023, 'kind'], [1.3837928323514168, 'one'], [0.897881080599971, 'so'], [1.651292546497023, 'coat'], [1.651292546497023, 'bitches'], [0.9581453659370776, 'go'], [0.9581453659370776, 'All'], [1.651292546497023, 'oh'], [1.3047189562170503, 'had'], [1.651292546497023, 'were'], [1.3047189562170503, 'got'], [1.651292546497023, 'fat'], [1.651292546497023, 'keep'], [1.651292546497023, 'skin'], [1.651292546497023, 'angel'], [1.651292546497023, \"'Bout\"], [1.651292546497023, 'Happiness'], [1.651292546497023, 'Still'], [1.651292546497023, 'wish'], [1.651292546497023, 'spine'], [1.651292546497023, 'Then'], [1.7513708826483576, 'plays'], [1.651292546497023, 'bringing'], [1.651292546497023, 'willow'], [1.3047189562170503, 'things'], [1.651292546497023, 'chance'], [1.651292546497023, 'barrel'], [1.651292546497023, 'Come'], [1.651292546497023, 'ba-be-bo-ba-bay'], [1.651292546497023, 'doing'], [1.651292546497023, 'bumpy'], [1.651292546497023, 'face'], [1.651292546497023, 'Bill'], [0.9581453659370776, 'can'], [1.651292546497023, 'Photoshop'], [1.651292546497023, 'Rock-e-fellow'], [1.7513708826483576, 'wan'], [1.3047189562170503, 'old'], [0.5694281444297893, ','], [1.651292546497023, 'coo'], [1.651292546497023, 'knows'], [1.651292546497023, 'tune'], [1.651292546497023, 'right'], [1.651292546497023, 'permission'], [1.651292546497023, 'ba-ba-bo'], [1.651292546497023, 'special'], [1.7513708826483576, 'grand'], [0.9581453659370776, 'We'], [1.651292546497023, \"'em\"], [0.6783374719693662, 'that'], [1.651292546497023, '’'], [1.1687734568395114, 'should'], [1.651292546497023, 'them'], [1.651292546497023, 'learn'], [1.651292546497023, 'Nobody'], [1.651292546497023, 'side'], [1.3837928323514168, 'world'], [1.3047189562170503, 'down'], [1.7513708826483576, 'Know'], [1.651292546497023, 'long'], [1.651292546497023, 'round'], [1.651292546497023, 'nobody'], [1.651292546497023, 'here..'], [1.651292546497023, 'soul'], [1.651292546497023, 'Get'], [1.651292546497023, 'Scheme'], [1.651292546497023, 'tea'], [1.651292546497023, 'life'], [1.651292546497023, 'class'], [1.651292546497023, 'swell'], [1.651292546497023, 'Cus'], [1.651292546497023, 'cent'], [1.651292546497023, 'boom'], [1.651292546497023, 'Leave'], [1.1687734568395114, 'give'], [1.651292546497023, 'size'], [1.651292546497023, 'ahead'], [1.651292546497023, 'afraid'], [1.651292546497023, 'doorstep'], [1.651292546497023, 'rich'], [1.9014883868753598, 'Exactly'], [1.651292546497023, 'song'], [1.1687734568395114, 'little'], [1.651292546497023, 'reveal'], [1.3047189562170503, 'music'], [1.3047189562170503, 'cry'], [1.3047189562170503, 'i'], [1.3047189562170503, '!'], [1.101986402162968, 'see'], [1.3047189562170503, 'again'], [1.651292546497023, 'take'], [1.3837928323514168, 'waited'], [1.651292546497023, 'cares'], [1.651292546497023, 'stick-figure'], [1.651292546497023, 'tide'], [1.651292546497023, 'Such'], [1.651292546497023, 'shade'], [1.651292546497023, 'created'], [1.651292546497023, 'Icy'], [1.7513708826483576, 'some'], [1.3047189562170503, 'what'], [1.651292546497023, 'few'], [1.651292546497023, 'downtown'], [1.651292546497023, 'd'], [1.651292546497023, 'danced'], [1.651292546497023, 'pretty'], [1.651292546497023, 't'], [1.651292546497023, 'doves'], [1.4628667084857834, 'make'], [1.651292546497023, 'gave'], [1.3837928323514168, 'feel'], [1.651292546497023, 'momma'], [1.651292546497023, 'does'], [1.651292546497023, 'Life'], [1.101986402162968, \"'ll\"], [1.651292546497023, 'There'], [1.651292546497023, 'ay'], [1.651292546497023, 'words'], [1.651292546497023, 'eye'], [1.651292546497023, 'feel..'], [1.651292546497023, 'awake'], [1.651292546497023, 'romance'], [1.651292546497023, 'key'], [1.651292546497023, 'sway'], [1.651292546497023, 'raise'], [1.651292546497023, 'get'], [1.651292546497023, 'memory'], [1.7513708826483576, 'money'], [1.7513708826483576, 'mother'], [1.651292546497023, 'looking'], [0.6196718042324177, 'to'], [1.651292546497023, 'gold'], [1.651292546497023, 'From'], [1.651292546497023, 'our'], [1.651292546497023, 'act'], [1.3047189562170503, 'how'], [1.651292546497023, 'way'], [1.651292546497023, 'groove'], [0.8465735902799727, 'all'], [1.651292546497023, 'pined'], [0.9491885709199693, \"'m\"], [1.651292546497023, 'was'], [1.651292546497023, 'Aflame'], [1.651292546497023, \"'bout\"], [1.101986402162968, 'never'], [1.651292546497023, 'creep'], [1.651292546497023, 'black'], [1.651292546497023, 'bottom'], [1.651292546497023, 'rascal'], [1.651292546497023, 'whisper'], [1.0742841981718747, 'know'], [1.651292546497023, 'swing'], [1.4628667084857834, 'Every'], [1.651292546497023, 'listen'], [0.9581453659370776, '?'], [1.651292546497023, 'used'], [1.651292546497023, 'parade'], [1.651292546497023, 'has'], [1.101986402162968, 'no'], [1.3047189562170503, 'heard'], [1.651292546497023, 'Whatever'], [1.651292546497023, 'phrase'], [1.651292546497023, 'shut'], [1.651292546497023, 'singin'], [1.651292546497023, 'Under'], [1.7513708826483576, 'each'], [1.651292546497023, 'who'], [1.651292546497023, 'she'], [1.651292546497023, 'low'], [1.651292546497023, 'dreams'], [1.101986402162968, 'here'], [0.7194488339069035, 'my'], [1.651292546497023, 'wo'], [1.651292546497023, 'ai'], [1.651292546497023, 'chase'], [1.101986402162968, 'they'], [1.651292546497023, 'sky'], [1.651292546497023, 'heels'], [1.651292546497023, 'lullaby'], [1.651292546497023, 'matter'], [1.3047189562170503, \"'\"], [1.101986402162968, 'In'], [1.101986402162968, 'hold'], [1.651292546497023, 'Hooray'], [1.651292546497023, 'Yeah'], [1.651292546497023, 'stop'], [1.7513708826483576, 'been'], [0.7598316000588272, 'me'], [1.651292546497023, 'drive'], [1.651292546497023, 'needs'], [1.651292546497023, 'dance'], [1.651292546497023, 'feels'], [1.651292546497023, 'What'], [1.3047189562170503, 'thing'], [1.651292546497023, 'fire'], [1.651292546497023, 'satisfied'], [1.101986402162968, 'from'], [1.651292546497023, 'ride'], [1.651292546497023, 'crossed'], [1.651292546497023, 'want'], [1.7513708826483576, 'meant'], [1.651292546497023, 'belong'], [1.3047189562170503, 'only'], [1.651292546497023, 'beams'], [1.0162147820544762, 'we'], [1.651292546497023, 'hallelujah'], [1.651292546497023, 'magazines'], [1.651292546497023, 'hope'], [1.651292546497023, 'called'], [1.651292546497023, 'last'], [1.3047189562170503, 'worry'], [1.651292546497023, 'pitter-pat'], [0.7424242424242424, 'I'], [1.651292546497023, \"'Cause\"], [1.3047189562170503, 'him'], [1.651292546497023, 'starts'], [1.651292546497023, 'sunny'], [1.651292546497023, 'aflame'], [1.3047189562170503, 'always'], [1.651292546497023, 'sell'], [1.4628667084857834, 'someone'], [0.8465735902799727, 'it'], [1.651292546497023, 'witchcraft'], [1.651292546497023, 'likes'], [1.651292546497023, 'same'], [1.651292546497023, 'Grab'], [1.651292546497023, 'Have'], [1.101986402162968, 'So'], [1.651292546497023, 'Diamond'], [1.651292546497023, 'Never'], [1.651292546497023, 'doll'], [1.651292546497023, 'bracelets'], [1.651292546497023, 'working'], [0.8465735902799727, \"'re\"], [1.651292546497023, 'Birdland'], [1.651292546497023, 'shit'], [1.651292546497023, 'feet'], [1.101986402162968, 'when'], [1.3047189562170503, 'mine'], [1.3837928323514168, 'On'], [1.651292546497023, 'farewell'], [1.651292546497023, 'Ca'], [1.651292546497023, 'better'], [0.9581453659370776, 'just'], [1.651292546497023, 'woodland'], [1.7513708826483576, 'themes'], [1.651292546497023, 'May'], [1.651292546497023, 'smile'], [1.651292546497023, 'coming'], [1.651292546497023, 'put'], [1.3047189562170503, 'well'], [1.651292546497023, 'goodbye'], [1.651292546497023, 'its'], [0.5303030303030303, 'a'], [1.651292546497023, 'control'], [1.651292546497023, 'could'], [1.651292546497023, 'changed'], [0.8465735902799727, 'your'], [1.651292546497023, 'supposed'], [1.3047189562170503, 'about'], [1.101986402162968, 'But'], [1.651292546497023, 'top'], [1.651292546497023, 'met'], [0.7554128118829954, 'and'], [1.651292546497023, 'desire'], [1.651292546497023, 'makes'], [1.651292546497023, 'told'], [1.651292546497023, 'stay'], [0.6783374719693662, 'of'], [1.651292546497023, 'bit'], [0.9581453659370776, 'up'], [1.651292546497023, 'slow'], [1.651292546497023, 'joint'], [1.7513708826483576, 'blue'], [1.651292546497023, 'bass'], [1.651292546497023, 'while'], [1.651292546497023, 'mate'], [1.651292546497023, 'day'], [1.651292546497023, 'says'], [0.7194488339069035, 'love'], [1.651292546497023, 'Your'], [1.651292546497023, 'set'], [1.3047189562170503, 'hat'], [1.3047189562170503, 'at'], [1.651292546497023, 'bike'], [1.101986402162968, 'with'], [1.7513708826483576, 'true'], [1.651292546497023, 'direct'], [1.651292546497023, 'sing'], [1.651292546497023, 'lover'], [1.651292546497023, 'over'], [1.651292546497023, 'three'], [1.651292546497023, 'treble'], [1.651292546497023, 'Kiss'], [1.0162147820544762, 'two'], [0.9581453659370776, 'That'], [1.651292546497023, 'an'], [1.651292546497023, 'broke'], [1.101986402162968, 'out'], [1.7013317145726903, 'exactly'], [1.651292546497023, 'Go'], [1.651292546497023, 'frame'], [1.651292546497023, 'worries'], [1.7513708826483576, 'show'], [1.3047189562170503, 'back'], [1.3047189562170503, 'happy'], [1.3837928323514168, 'or'], [1.651292546497023, 'spell'], [1.651292546497023, 'Could'], [1.651292546497023, 'lie'], [1.7513708826483576, 'understand'], [1.651292546497023, 'may']]\n"
     ]
    }
   ],
   "source": [
    "tfidf_representation = tfidf(all_songs)\n",
    "print(tfidf_representation[6])"
   ]
  },
  {
   "cell_type": "code",
   "execution_count": 112,
   "metadata": {},
   "outputs": [
    {
     "name": "stdout",
     "output_type": "stream",
     "text": [
      "[[1.651292546497023, 'am'], [1.377203342673553, 'meet'], [1.651292546497023, 'weirdo..'], [1.651292546497023, 'high'], [1.7430310213024132, 'knife'], [1.101986402162968, 'those'], [1.651292546497023, 'notice'], [1.651292546497023, 'playing'], [1.101986402162968, 'She'], [1.651292546497023, 'dress'], [1.0, '.'], [1.651292546497023, 'other'], [1.3047189562170503, 'he'], [1.651292546497023, 'zay-zoo-za-ze-zo-zay'], [1.651292546497023, 'Because'], [1.651292546497023, 'too'], [0.9581453659370776, 'do'], [0.9581453659370776, 'baby'], [1.3047189562170503, 'around'], [1.651292546497023, 'float'], [1.101986402162968, 'If'], [1.651292546497023, 'darned'], [1.651292546497023, 'dust'], [1.651292546497023, 'heart'], [1.011375664044693, 'on'], [1.651292546497023, 'need'], [1.7430310213024132, 'wear'], [1.651292546497023, 'fingers'], [1.651292546497023, 'into'], [1.101986402162968, 'When'], [1.377203342673553, 'loving'], [1.651292546497023, 'ba-be-do'], [1.651292546497023, 'Who'], [0.8465735902799727, 'You'], [1.3047189562170503, 'kiss'], [1.651292546497023, 'woolworth'], [0.9581453659370776, 'for'], [1.651292546497023, 'Like'], [1.651292546497023, 'spend'], [1.651292546497023, 'weepy'], [1.651292546497023, 'leaf'], [1.5946565020430616, 'ca'], [1.651292546497023, 'beautiful'], [1.651292546497023, 'because'], [1.651292546497023, 'weirdo'], [1.3047189562170503, 'Baby'], [1.651292546497023, 'places'], [1.3047189562170503, 'sweet'], [1.651292546497023, 'more'], [1.651292546497023, 'dynamite'], [1.3047189562170503, 'not'], [1.651292546497023, 'time'], [1.651292546497023, 'turtle'], [1.3047189562170503, 'move'], [0.5277777777777778, 'the'], [1.3047189562170503, 'Oh'], [1.651292546497023, 'beauty'], [1.7430310213024132, 'off'], [1.651292546497023, 'hurts'], [1.101986402162968, \"'ve\"], [1.651292546497023, 'Lullaby'], [1.3047189562170503, 'why'], [1.651292546497023, 'weave'], [1.651292546497023, 'plenty'], [1.651292546497023, 'ain'], [1.651292546497023, 'elevator'], [0.9581453659370776, 'but'], [1.651292546497023, 'hell'], [1.651292546497023, 'care'], [1.377203342673553, 'are'], [0.7973801903209395, 'And'], [1.651292546497023, 'ya'], [1.3047189562170503, 'lips'], [1.3047189562170503, 'perfect'], [1.651292546497023, 'anything'], [1.651292546497023, 'With'], [1.3047189562170503, 'hear'], [1.651292546497023, 'tight'], [1.101986402162968, 'if'], [1.3047189562170503, 'magic'], [1.651292546497023, 'name'], [1.651292546497023, 'rover'], [1.651292546497023, 'sigh'], [1.101986402162968, 'night'], [1.651292546497023, 'Flying'], [1.651292546497023, 'really'], [1.3047189562170503, 'think'], [1.651292546497023, 'Always'], [1.7430310213024132, 'list'], [1.651292546497023, 'step'], [1.651292546497023, 'enough'], [1.3468722693102944, 'away'], [1.651292546497023, 'something'], [1.651292546497023, 'before'], [1.651292546497023, 'silicone'], [1.3047189562170503, 'dream'], [1.651292546497023, 'street'], [1.651292546497023, 'scheme'], [1.651292546497023, 'than'], [1.651292546497023, 'walk'], [1.3047189562170503, 'every'], [1.651292546497023, 'junk'], [1.651292546497023, 'guess'], [1.9570784343255754, 'The'], [1.651292546497023, 'pray'], [1.651292546497023, 'then'], [1.651292546497023, 'tingle'], [1.651292546497023, 'hey'], [1.7430310213024132, 'sip'], [1.651292546497023, 'fuckin'], [1.651292546497023, 'fate'], [1.651292546497023, 'Why'], [1.651292546497023, 'along'], [1.3047189562170503, 'have'], [1.651292546497023, 'spin'], [1.3047189562170503, 'He'], [0.7676114692068238, 'you'], [1.8347694961078034, 'many'], [1.651292546497023, 'ever'], [1.651292546497023, 'pieces'], [0.7554128118829954, 'in'], [1.651292546497023, 'Taught'], [1.7430310213024132, 'haunt'], [1.101986402162968, 'is'], [1.101986402162968, \"'d\"], [1.651292546497023, 'booty'], [1.651292546497023, 'Gee'], [1.651292546497023, 'busted'], [1.651292546497023, 'inch'], [1.651292546497023, 'running'], [1.651292546497023, 'lucky'], [1.3047189562170503, 'blues'], [1.651292546497023, 'Just'], [1.651292546497023, 'run'], [1.651292546497023, 'ba-be-oh'], [1.3468722693102944, 'No'], [1.651292546497023, 'Goody'], [1.101986402162968, 'My'], [1.651292546497023, 'clear'], [1.651292546497023, 'above'], [1.651292546497023, 'body'], [0.6783374719693662, \"'s\"], [1.651292546497023, 'dreaming'], [1.651292546497023, 'there'], [1.651292546497023, 'Barbie'], [1.651292546497023, 'boys'], [1.3047189562170503, 'now'], [1.651292546497023, 'foolish'], [1.651292546497023, 'pillow'], [1.651292546497023, 'Till'], [1.651292546497023, 'Rover'], [1.0347010547866333, \"n't\"], [1.651292546497023, 'sure'], [1.651292546497023, 'look'], [1.651292546497023, 'babe'], [1.651292546497023, 'feather'], [0.9581453659370776, 'be'], [1.651292546497023, 'scheming'], [1.651292546497023, 'Inside'], [1.651292546497023, 'goody'], [1.651292546497023, 'skinny'], [1.651292546497023, 'burning'], [1.7430310213024132, 'until'], [1.651292546497023, 'Down'], [1.7430310213024132, 'crazy'], [1.651292546497023, 'afreaid'], [1.3047189562170503, 'tell'], [1.651292546497023, 'eyes'], [1.651292546497023, 'Hey'], [1.651292546497023, 'don'], [1.651292546497023, 'Caught'], [1.651292546497023, 'find'], [1.7430310213024132, 'will'], [1.3047189562170503, 'shake'], [0.8465735902799727, 'like'], [1.3047189562170503, 'as'], [1.651292546497023, 'real'], [1.7430310213024132, 'road'], [1.651292546497023, 'na'], [1.651292546497023, 'kind'], [1.3047189562170503, 'one'], [0.8465735902799727, 'so'], [1.651292546497023, 'coat'], [1.651292546497023, 'bitches'], [0.9581453659370776, 'go'], [0.9581453659370776, 'All'], [1.651292546497023, 'oh'], [1.3047189562170503, 'had'], [1.651292546497023, 'were'], [1.3047189562170503, 'got'], [1.651292546497023, 'fat'], [1.8347694961078034, 'keep'], [1.651292546497023, 'skin'], [1.651292546497023, 'angel'], [1.651292546497023, \"'Bout\"], [1.651292546497023, 'Happiness'], [1.7430310213024132, 'Still'], [1.651292546497023, 'wish'], [1.651292546497023, 'spine'], [1.651292546497023, 'Then'], [1.651292546497023, 'plays'], [1.651292546497023, 'bringing'], [1.651292546497023, 'willow'], [1.377203342673553, 'things'], [1.651292546497023, 'chance'], [1.651292546497023, 'barrel'], [1.651292546497023, 'Come'], [1.651292546497023, 'ba-be-bo-ba-bay'], [1.651292546497023, 'doing'], [1.7430310213024132, 'bumpy'], [1.651292546497023, 'face'], [1.651292546497023, 'Bill'], [0.9581453659370776, 'can'], [1.651292546497023, 'Photoshop'], [1.651292546497023, 'Rock-e-fellow'], [1.651292546497023, 'wan'], [1.3047189562170503, 'old'], [0.7369070104385509, ','], [1.651292546497023, 'coo'], [1.651292546497023, 'knows'], [1.651292546497023, 'tune'], [1.651292546497023, 'right'], [1.7430310213024132, 'permission'], [1.651292546497023, 'ba-ba-bo'], [1.651292546497023, 'special'], [1.651292546497023, 'grand'], [1.011375664044693, 'We'], [1.651292546497023, \"'em\"], [0.9044499626258216, 'that'], [1.651292546497023, '’'], [1.101986402162968, 'should'], [1.651292546497023, 'them'], [1.651292546497023, 'learn'], [1.651292546497023, 'Nobody'], [1.651292546497023, 'side'], [1.3047189562170503, 'world'], [1.3047189562170503, 'down'], [1.651292546497023, 'Know'], [1.651292546497023, 'long'], [1.651292546497023, 'round'], [1.651292546497023, 'nobody'], [1.651292546497023, 'here..'], [1.651292546497023, 'soul'], [1.651292546497023, 'Get'], [1.651292546497023, 'Scheme'], [1.7430310213024132, 'tea'], [1.7430310213024132, 'life'], [1.651292546497023, 'class'], [1.651292546497023, 'swell'], [1.651292546497023, 'Cus'], [1.651292546497023, 'cent'], [1.651292546497023, 'boom'], [1.651292546497023, 'Leave'], [1.101986402162968, 'give'], [1.651292546497023, 'size'], [1.651292546497023, 'ahead'], [1.651292546497023, 'afraid'], [1.651292546497023, 'doorstep'], [1.651292546497023, 'rich'], [1.651292546497023, 'Exactly'], [1.651292546497023, 'song'], [1.101986402162968, 'little'], [1.651292546497023, 'reveal'], [1.3047189562170503, 'music'], [1.3047189562170503, 'cry'], [1.3047189562170503, 'i'], [1.3047189562170503, '!'], [1.101986402162968, 'see'], [1.377203342673553, 'again'], [2.018246445718584, 'take'], [1.3047189562170503, 'waited'], [1.651292546497023, 'cares'], [1.651292546497023, 'stick-figure'], [1.651292546497023, 'tide'], [1.651292546497023, 'Such'], [1.651292546497023, 'shade'], [1.651292546497023, 'created'], [1.651292546497023, 'Icy'], [1.651292546497023, 'some'], [1.3047189562170503, 'what'], [1.7430310213024132, 'few'], [1.651292546497023, 'downtown'], [1.651292546497023, 'd'], [1.7430310213024132, 'danced'], [1.651292546497023, 'pretty'], [1.651292546497023, 't'], [1.651292546497023, 'doves'], [1.3047189562170503, 'make'], [1.651292546497023, 'gave'], [1.3047189562170503, 'feel'], [1.651292546497023, 'momma'], [1.651292546497023, 'does'], [1.651292546497023, 'Life'], [1.1632078689497996, \"'ll\"], [1.7430310213024132, 'There'], [1.651292546497023, 'ay'], [1.651292546497023, 'words'], [1.651292546497023, 'eye'], [1.651292546497023, 'feel..'], [1.651292546497023, 'awake'], [1.651292546497023, 'romance'], [1.7430310213024132, 'key'], [1.651292546497023, 'sway'], [1.651292546497023, 'raise'], [1.651292546497023, 'get'], [1.8347694961078034, 'memory'], [1.651292546497023, 'money'], [1.651292546497023, 'mother'], [1.651292546497023, 'looking'], [0.5833847165971862, 'to'], [1.651292546497023, 'gold'], [1.651292546497023, 'From'], [1.651292546497023, 'our'], [1.651292546497023, 'act'], [1.3047189562170503, 'how'], [2.385200344940144, 'way'], [1.651292546497023, 'groove'], [0.8936054564066379, 'all'], [1.651292546497023, 'pined'], [0.8465735902799727, \"'m\"], [1.651292546497023, 'was'], [1.651292546497023, 'Aflame'], [1.651292546497023, \"'bout\"], [1.2244293357366312, 'never'], [1.651292546497023, 'creep'], [1.651292546497023, 'black'], [1.651292546497023, 'bottom'], [1.651292546497023, 'rascal'], [1.651292546497023, 'whisper'], [0.9581453659370776, 'know'], [1.651292546497023, 'swing'], [1.3047189562170503, 'Every'], [1.651292546497023, 'listen'], [0.9581453659370776, '?'], [1.651292546497023, 'used'], [1.651292546497023, 'parade'], [1.651292546497023, 'has'], [1.2856508025234628, 'no'], [1.3047189562170503, 'heard'], [1.651292546497023, 'Whatever'], [1.651292546497023, 'phrase'], [1.651292546497023, 'shut'], [1.651292546497023, 'singin'], [1.651292546497023, 'Under'], [1.651292546497023, 'each'], [1.651292546497023, 'who'], [1.651292546497023, 'she'], [1.651292546497023, 'low'], [1.7430310213024132, 'dreams'], [1.101986402162968, 'here'], [0.7537083021881847, 'my'], [1.651292546497023, 'wo'], [1.651292546497023, 'ai'], [1.651292546497023, 'chase'], [1.3468722693102944, 'they'], [1.651292546497023, 'sky'], [1.651292546497023, 'heels'], [1.651292546497023, 'lullaby'], [1.651292546497023, 'matter'], [1.3047189562170503, \"'\"], [1.101986402162968, 'In'], [1.1632078689497996, 'hold'], [1.651292546497023, 'Hooray'], [1.651292546497023, 'Yeah'], [1.651292546497023, 'stop'], [1.651292546497023, 'been'], [0.781452824450745, 'me'], [1.651292546497023, 'drive'], [1.651292546497023, 'needs'], [1.651292546497023, 'dance'], [1.651292546497023, 'feels'], [1.651292546497023, 'What'], [1.3047189562170503, 'thing'], [1.651292546497023, 'fire'], [1.651292546497023, 'satisfied'], [1.3468722693102944, 'from'], [1.651292546497023, 'ride'], [1.651292546497023, 'crossed'], [1.651292546497023, 'want'], [1.651292546497023, 'meant'], [1.651292546497023, 'belong'], [1.3047189562170503, 'only'], [1.7430310213024132, 'beams'], [1.011375664044693, 'we'], [1.651292546497023, 'hallelujah'], [1.651292546497023, 'magazines'], [1.651292546497023, 'hope'], [1.651292546497023, 'called'], [1.651292546497023, 'last'], [1.3047189562170503, 'worry'], [1.651292546497023, 'pitter-pat'], [0.5555555555555556, 'I'], [1.651292546497023, \"'Cause\"], [1.3047189562170503, 'him'], [1.651292546497023, 'starts'], [1.651292546497023, 'sunny'], [1.651292546497023, 'aflame'], [1.4496877291300558, 'always'], [1.651292546497023, 'sell'], [1.3047189562170503, 'someone'], [0.8465735902799727, 'it'], [1.651292546497023, 'witchcraft'], [1.651292546497023, 'likes'], [1.651292546497023, 'same'], [1.651292546497023, 'Grab'], [1.651292546497023, 'Have'], [1.101986402162968, 'So'], [1.651292546497023, 'Diamond'], [1.651292546497023, 'Never'], [1.651292546497023, 'doll'], [1.651292546497023, 'bracelets'], [1.651292546497023, 'working'], [0.8465735902799727, \"'re\"], [1.651292546497023, 'Birdland'], [1.651292546497023, 'shit'], [1.651292546497023, 'feet'], [1.101986402162968, 'when'], [1.3047189562170503, 'mine'], [1.3047189562170503, 'On'], [1.651292546497023, 'farewell'], [1.651292546497023, 'Ca'], [1.651292546497023, 'better'], [1.011375664044693, 'just'], [1.651292546497023, 'woodland'], [1.651292546497023, 'themes'], [1.7430310213024132, 'May'], [1.7430310213024132, 'smile'], [1.651292546497023, 'coming'], [1.651292546497023, 'put'], [1.3047189562170503, 'well'], [1.651292546497023, 'goodbye'], [1.651292546497023, 'its'], [0.5277777777777778, 'a'], [1.651292546497023, 'control'], [1.651292546497023, 'could'], [1.7430310213024132, 'changed'], [1.0817329209132984, 'your'], [1.651292546497023, 'supposed'], [1.3047189562170503, 'about'], [1.101986402162968, 'But'], [1.651292546497023, 'top'], [1.651292546497023, 'met'], [0.7554128118829954, 'and'], [1.651292546497023, 'desire'], [1.651292546497023, 'makes'], [1.651292546497023, 'told'], [1.651292546497023, 'stay'], [0.7537083021881847, 'of'], [1.651292546497023, 'bit'], [0.9581453659370776, 'up'], [1.651292546497023, 'slow'], [1.651292546497023, 'joint'], [1.651292546497023, 'blue'], [1.651292546497023, 'bass'], [1.651292546497023, 'while'], [1.651292546497023, 'mate'], [1.651292546497023, 'day'], [1.651292546497023, 'says'], [0.7160228870787755, 'love'], [1.651292546497023, 'Your'], [1.651292546497023, 'set'], [1.377203342673553, 'hat'], [1.3047189562170503, 'at'], [1.651292546497023, 'bike'], [1.1632078689497996, 'with'], [1.651292546497023, 'true'], [1.651292546497023, 'direct'], [1.7430310213024132, 'sing'], [1.651292546497023, 'lover'], [1.651292546497023, 'over'], [1.7430310213024132, 'three'], [1.651292546497023, 'treble'], [1.651292546497023, 'Kiss'], [0.9581453659370776, 'two'], [1.011375664044693, 'That'], [1.651292546497023, 'an'], [1.651292546497023, 'broke'], [1.101986402162968, 'out'], [1.651292546497023, 'exactly'], [1.651292546497023, 'Go'], [1.651292546497023, 'frame'], [1.651292546497023, 'worries'], [1.651292546497023, 'show'], [1.3047189562170503, 'back'], [1.3047189562170503, 'happy'], [1.3047189562170503, 'or'], [1.651292546497023, 'spell'], [1.651292546497023, 'Could'], [1.651292546497023, 'lie'], [1.651292546497023, 'understand'], [1.7430310213024132, 'may']]\n"
     ]
    }
   ],
   "source": [
    "tfidf_representation = tfidf(all_songs)\n",
    "print(tfidf_representation[7])"
   ]
  },
  {
   "cell_type": "code",
   "execution_count": 113,
   "metadata": {},
   "outputs": [
    {
     "name": "stdout",
     "output_type": "stream",
     "text": [
      "[[1.651292546497023, 'am'], [1.3047189562170503, 'meet'], [1.651292546497023, 'weirdo..'], [1.651292546497023, 'high'], [1.651292546497023, 'knife'], [1.101986402162968, 'those'], [1.651292546497023, 'notice'], [1.651292546497023, 'playing'], [1.101986402162968, 'She'], [1.651292546497023, 'dress'], [0.8076923076923077, '.'], [1.651292546497023, 'other'], [1.405081952849131, 'he'], [1.651292546497023, 'zay-zoo-za-ze-zo-zay'], [1.651292546497023, 'Because'], [1.778315050073717, 'too'], [1.1055523453120124, 'do'], [0.9581453659370776, 'baby'], [1.3047189562170503, 'around'], [1.651292546497023, 'float'], [1.101986402162968, 'If'], [1.651292546497023, 'darned'], [1.651292546497023, 'dust'], [1.778315050073717, 'heart'], [1.031848855624545, 'on'], [1.651292546497023, 'need'], [1.651292546497023, 'wear'], [1.651292546497023, 'fingers'], [1.651292546497023, 'into'], [1.101986402162968, 'When'], [1.3047189562170503, 'loving'], [1.651292546497023, 'ba-be-do'], [1.651292546497023, 'Who'], [0.8465735902799727, 'You'], [1.3047189562170503, 'kiss'], [1.651292546497023, 'woolworth'], [1.1055523453120124, 'for'], [1.651292546497023, 'Like'], [1.651292546497023, 'spend'], [1.651292546497023, 'weepy'], [1.651292546497023, 'leaf'], [1.3047189562170503, 'ca'], [1.651292546497023, 'beautiful'], [1.651292546497023, 'because'], [1.651292546497023, 'weirdo'], [1.3047189562170503, 'Baby'], [1.651292546497023, 'places'], [1.3047189562170503, 'sweet'], [1.651292546497023, 'more'], [1.778315050073717, 'dynamite'], [1.3047189562170503, 'not'], [1.651292546497023, 'time'], [1.651292546497023, 'turtle'], [1.3047189562170503, 'move'], [0.5384615384615384, 'the'], [1.3047189562170503, 'Oh'], [1.651292546497023, 'beauty'], [1.651292546497023, 'off'], [1.651292546497023, 'hurts'], [1.101986402162968, \"'ve\"], [1.651292546497023, 'Lullaby'], [1.3047189562170503, 'why'], [1.651292546497023, 'weave'], [1.651292546497023, 'plenty'], [1.651292546497023, 'ain'], [1.651292546497023, 'elevator'], [0.9581453659370776, 'but'], [1.651292546497023, 'hell'], [1.651292546497023, 'care'], [1.3047189562170503, 'are'], [0.8716301675573023, 'And'], [1.778315050073717, 'ya'], [1.3047189562170503, 'lips'], [1.3047189562170503, 'perfect'], [1.651292546497023, 'anything'], [1.651292546497023, 'With'], [1.3047189562170503, 'hear'], [1.651292546497023, 'tight'], [1.101986402162968, 'if'], [1.3047189562170503, 'magic'], [1.651292546497023, 'name'], [1.651292546497023, 'rover'], [1.651292546497023, 'sigh'], [1.1867545869447347, 'night'], [1.651292546497023, 'Flying'], [1.651292546497023, 'really'], [1.405081952849131, 'think'], [1.651292546497023, 'Always'], [1.651292546497023, 'list'], [1.651292546497023, 'step'], [1.651292546497023, 'enough'], [1.101986402162968, 'away'], [1.651292546497023, 'something'], [1.651292546497023, 'before'], [1.651292546497023, 'silicone'], [1.3047189562170503, 'dream'], [1.651292546497023, 'street'], [1.651292546497023, 'scheme'], [1.651292546497023, 'than'], [1.651292546497023, 'walk'], [1.3047189562170503, 'every'], [1.651292546497023, 'junk'], [1.651292546497023, 'guess'], [1.3047189562170503, 'The'], [1.651292546497023, 'pray'], [1.651292546497023, 'then'], [1.651292546497023, 'tingle'], [1.651292546497023, 'hey'], [1.651292546497023, 'sip'], [1.651292546497023, 'fuckin'], [1.651292546497023, 'fate'], [1.651292546497023, 'Why'], [1.651292546497023, 'along'], [1.3047189562170503, 'have'], [1.651292546497023, 'spin'], [1.3047189562170503, 'He'], [1.1053605156578263, 'you'], [1.651292546497023, 'many'], [1.651292546497023, 'ever'], [1.778315050073717, 'pieces'], [0.8135214897201488, 'in'], [1.651292546497023, 'Taught'], [1.651292546497023, 'haunt'], [1.101986402162968, 'is'], [1.101986402162968, \"'d\"], [1.651292546497023, 'booty'], [1.651292546497023, 'Gee'], [1.651292546497023, 'busted'], [1.651292546497023, 'inch'], [1.651292546497023, 'running'], [1.651292546497023, 'lucky'], [1.405081952849131, 'blues'], [1.651292546497023, 'Just'], [1.651292546497023, 'run'], [1.651292546497023, 'ba-be-oh'], [1.101986402162968, 'No'], [1.778315050073717, 'Goody'], [1.101986402162968, 'My'], [1.651292546497023, 'clear'], [1.651292546497023, 'above'], [1.651292546497023, 'body'], [0.7305172775054712, \"'s\"], [1.651292546497023, 'dreaming'], [1.651292546497023, 'there'], [1.651292546497023, 'Barbie'], [1.651292546497023, 'boys'], [1.5054449494812117, 'now'], [1.651292546497023, 'foolish'], [1.651292546497023, 'pillow'], [1.651292546497023, 'Till'], [1.651292546497023, 'Rover'], [0.8465735902799727, \"n't\"], [1.651292546497023, 'sure'], [1.651292546497023, 'look'], [1.651292546497023, 'babe'], [1.651292546497023, 'feather'], [0.9581453659370776, 'be'], [1.651292546497023, 'scheming'], [1.651292546497023, 'Inside'], [2.7944950786872695, 'goody'], [1.651292546497023, 'skinny'], [1.651292546497023, 'burning'], [1.651292546497023, 'until'], [1.651292546497023, 'Down'], [1.651292546497023, 'crazy'], [1.651292546497023, 'afreaid'], [1.3047189562170503, 'tell'], [1.651292546497023, 'eyes'], [1.651292546497023, 'Hey'], [1.651292546497023, 'don'], [1.651292546497023, 'Caught'], [1.651292546497023, 'find'], [1.651292546497023, 'will'], [1.3047189562170503, 'shake'], [0.8465735902799727, 'like'], [1.405081952849131, 'as'], [1.651292546497023, 'real'], [1.651292546497023, 'road'], [1.651292546497023, 'na'], [1.651292546497023, 'kind'], [1.3047189562170503, 'one'], [0.8465735902799727, 'so'], [1.651292546497023, 'coat'], [1.651292546497023, 'bitches'], [0.9581453659370776, 'go'], [0.9581453659370776, 'All'], [1.651292546497023, 'oh'], [1.405081952849131, 'had'], [1.651292546497023, 'were'], [1.3047189562170503, 'got'], [1.651292546497023, 'fat'], [1.651292546497023, 'keep'], [1.651292546497023, 'skin'], [1.651292546497023, 'angel'], [1.651292546497023, \"'Bout\"], [1.651292546497023, 'Happiness'], [1.651292546497023, 'Still'], [1.651292546497023, 'wish'], [1.651292546497023, 'spine'], [1.651292546497023, 'Then'], [1.651292546497023, 'plays'], [1.651292546497023, 'bringing'], [1.651292546497023, 'willow'], [1.3047189562170503, 'things'], [1.651292546497023, 'chance'], [1.778315050073717, 'barrel'], [1.651292546497023, 'Come'], [1.651292546497023, 'ba-be-bo-ba-bay'], [1.651292546497023, 'doing'], [1.651292546497023, 'bumpy'], [1.651292546497023, 'face'], [1.651292546497023, 'Bill'], [0.9581453659370776, 'can'], [1.651292546497023, 'Photoshop'], [1.651292546497023, 'Rock-e-fellow'], [1.651292546497023, 'wan'], [1.3047189562170503, 'old'], [0.8502773197367894, ','], [1.651292546497023, 'coo'], [1.651292546497023, 'knows'], [1.651292546497023, 'tune'], [1.651292546497023, 'right'], [1.651292546497023, 'permission'], [1.651292546497023, 'ba-ba-bo'], [1.651292546497023, 'special'], [1.651292546497023, 'grand'], [0.9581453659370776, 'We'], [1.651292546497023, \"'em\"], [0.7305172775054712, 'that'], [1.651292546497023, '’'], [1.101986402162968, 'should'], [1.651292546497023, 'them'], [1.651292546497023, 'learn'], [1.651292546497023, 'Nobody'], [1.651292546497023, 'side'], [1.3047189562170503, 'world'], [1.3047189562170503, 'down'], [1.651292546497023, 'Know'], [1.651292546497023, 'long'], [1.651292546497023, 'round'], [1.651292546497023, 'nobody'], [1.651292546497023, 'here..'], [1.651292546497023, 'soul'], [1.651292546497023, 'Get'], [1.651292546497023, 'Scheme'], [1.651292546497023, 'tea'], [1.651292546497023, 'life'], [1.651292546497023, 'class'], [1.651292546497023, 'swell'], [1.651292546497023, 'Cus'], [1.651292546497023, 'cent'], [1.651292546497023, 'boom'], [1.651292546497023, 'Leave'], [1.101986402162968, 'give'], [1.651292546497023, 'size'], [1.651292546497023, 'ahead'], [1.651292546497023, 'afraid'], [1.651292546497023, 'doorstep'], [1.651292546497023, 'rich'], [1.651292546497023, 'Exactly'], [1.651292546497023, 'song'], [1.1867545869447347, 'little'], [1.651292546497023, 'reveal'], [1.3047189562170503, 'music'], [1.3047189562170503, 'cry'], [1.3047189562170503, 'i'], [1.405081952849131, '!'], [1.101986402162968, 'see'], [1.3047189562170503, 'again'], [1.651292546497023, 'take'], [1.3047189562170503, 'waited'], [1.651292546497023, 'cares'], [1.651292546497023, 'stick-figure'], [1.651292546497023, 'tide'], [1.651292546497023, 'Such'], [1.651292546497023, 'shade'], [1.651292546497023, 'created'], [1.651292546497023, 'Icy'], [1.651292546497023, 'some'], [1.3047189562170503, 'what'], [1.651292546497023, 'few'], [1.651292546497023, 'downtown'], [1.651292546497023, 'd'], [1.651292546497023, 'danced'], [1.651292546497023, 'pretty'], [1.651292546497023, 't'], [1.651292546497023, 'doves'], [1.3047189562170503, 'make'], [1.905337553650411, 'gave'], [1.3047189562170503, 'feel'], [1.651292546497023, 'momma'], [1.651292546497023, 'does'], [1.651292546497023, 'Life'], [1.101986402162968, \"'ll\"], [1.651292546497023, 'There'], [1.651292546497023, 'ay'], [1.651292546497023, 'words'], [1.651292546497023, 'eye'], [1.651292546497023, 'feel..'], [1.778315050073717, 'awake'], [1.651292546497023, 'romance'], [1.651292546497023, 'key'], [1.651292546497023, 'sway'], [1.651292546497023, 'raise'], [1.651292546497023, 'get'], [1.651292546497023, 'memory'], [1.651292546497023, 'money'], [1.651292546497023, 'mother'], [1.651292546497023, 'looking'], [0.637707989802592, 'to'], [1.651292546497023, 'gold'], [1.651292546497023, 'From'], [1.651292546497023, 'our'], [1.651292546497023, 'act'], [1.5054449494812117, 'how'], [1.651292546497023, 'way'], [1.651292546497023, 'groove'], [0.9116946356861244, 'all'], [1.651292546497023, 'pined'], [0.8465735902799727, \"'m\"], [1.651292546497023, 'was'], [1.651292546497023, 'Aflame'], [1.651292546497023, \"'bout\"], [1.101986402162968, 'never'], [1.651292546497023, 'creep'], [1.651292546497023, 'black'], [1.651292546497023, 'bottom'], [1.778315050073717, 'rascal'], [1.651292546497023, 'whisper'], [1.031848855624545, 'know'], [1.651292546497023, 'swing'], [1.3047189562170503, 'Every'], [1.651292546497023, 'listen'], [0.9581453659370776, '?'], [1.651292546497023, 'used'], [1.651292546497023, 'parade'], [1.651292546497023, 'has'], [1.101986402162968, 'no'], [1.3047189562170503, 'heard'], [1.651292546497023, 'Whatever'], [1.651292546497023, 'phrase'], [1.651292546497023, 'shut'], [1.778315050073717, 'singin'], [1.651292546497023, 'Under'], [1.651292546497023, 'each'], [1.778315050073717, 'who'], [1.651292546497023, 'she'], [1.651292546497023, 'low'], [1.651292546497023, 'dreams'], [1.101986402162968, 'here'], [0.6783374719693662, 'my'], [1.651292546497023, 'wo'], [1.651292546497023, 'ai'], [1.651292546497023, 'chase'], [1.101986402162968, 'they'], [1.651292546497023, 'sky'], [1.778315050073717, 'heels'], [1.651292546497023, 'lullaby'], [1.651292546497023, 'matter'], [1.405081952849131, \"'\"], [1.101986402162968, 'In'], [1.101986402162968, 'hold'], [1.778315050073717, 'Hooray'], [1.651292546497023, 'Yeah'], [1.651292546497023, 'stop'], [1.651292546497023, 'been'], [0.658615758399959, 'me'], [1.651292546497023, 'drive'], [1.651292546497023, 'needs'], [1.651292546497023, 'dance'], [1.778315050073717, 'feels'], [1.651292546497023, 'What'], [1.3047189562170503, 'thing'], [1.651292546497023, 'fire'], [1.778315050073717, 'satisfied'], [1.101986402162968, 'from'], [1.651292546497023, 'ride'], [1.651292546497023, 'crossed'], [1.651292546497023, 'want'], [1.651292546497023, 'meant'], [1.651292546497023, 'belong'], [1.3047189562170503, 'only'], [1.651292546497023, 'beams'], [0.9581453659370776, 'we'], [1.778315050073717, 'hallelujah'], [1.651292546497023, 'magazines'], [1.778315050073717, 'hope'], [1.651292546497023, 'called'], [1.651292546497023, 'last'], [1.3047189562170503, 'worry'], [1.651292546497023, 'pitter-pat'], [0.5769230769230769, 'I'], [1.651292546497023, \"'Cause\"], [1.5054449494812117, 'him'], [1.651292546497023, 'starts'], [1.651292546497023, 'sunny'], [1.651292546497023, 'aflame'], [1.3047189562170503, 'always'], [1.651292546497023, 'sell'], [1.5054449494812117, 'someone'], [1.041936726498428, 'it'], [1.651292546497023, 'witchcraft'], [1.651292546497023, 'likes'], [1.651292546497023, 'same'], [1.651292546497023, 'Grab'], [1.651292546497023, 'Have'], [1.5258273260718018, 'So'], [1.651292546497023, 'Diamond'], [1.651292546497023, 'Never'], [1.651292546497023, 'doll'], [1.651292546497023, 'bracelets'], [1.651292546497023, 'working'], [0.9116946356861244, \"'re\"], [1.651292546497023, 'Birdland'], [1.651292546497023, 'shit'], [1.651292546497023, 'feet'], [1.101986402162968, 'when'], [1.405081952849131, 'mine'], [1.3047189562170503, 'On'], [1.651292546497023, 'farewell'], [1.651292546497023, 'Ca'], [1.651292546497023, 'better'], [1.1055523453120124, 'just'], [1.651292546497023, 'woodland'], [1.651292546497023, 'themes'], [1.651292546497023, 'May'], [1.651292546497023, 'smile'], [1.778315050073717, 'coming'], [1.651292546497023, 'put'], [1.3047189562170503, 'well'], [1.651292546497023, 'goodbye'], [1.651292546497023, 'its'], [0.5384615384615384, 'a'], [1.651292546497023, 'control'], [1.651292546497023, 'could'], [1.651292546497023, 'changed'], [0.9768156810922761, 'your'], [1.651292546497023, 'supposed'], [1.3047189562170503, 'about'], [1.101986402162968, 'But'], [1.651292546497023, 'top'], [1.905337553650411, 'met'], [0.8716301675573023, 'and'], [1.651292546497023, 'desire'], [1.651292546497023, 'makes'], [1.651292546497023, 'told'], [1.651292546497023, 'stay'], [0.7305172775054712, 'of'], [1.651292546497023, 'bit'], [0.9581453659370776, 'up'], [1.651292546497023, 'slow'], [1.651292546497023, 'joint'], [1.651292546497023, 'blue'], [1.651292546497023, 'bass'], [1.651292546497023, 'while'], [1.651292546497023, 'mate'], [1.651292546497023, 'day'], [1.651292546497023, 'says'], [0.7305172775054712, 'love'], [1.651292546497023, 'Your'], [1.778315050073717, 'set'], [1.3047189562170503, 'hat'], [1.3047189562170503, 'at'], [1.651292546497023, 'bike'], [1.101986402162968, 'with'], [1.651292546497023, 'true'], [1.651292546497023, 'direct'], [1.651292546497023, 'sing'], [1.651292546497023, 'lover'], [1.651292546497023, 'over'], [1.651292546497023, 'three'], [1.651292546497023, 'treble'], [1.651292546497023, 'Kiss'], [0.9581453659370776, 'two'], [0.9581453659370776, 'That'], [1.651292546497023, 'an'], [1.778315050073717, 'broke'], [1.101986402162968, 'out'], [1.651292546497023, 'exactly'], [1.651292546497023, 'Go'], [1.651292546497023, 'frame'], [1.651292546497023, 'worries'], [1.651292546497023, 'show'], [1.405081952849131, 'back'], [1.3047189562170503, 'happy'], [1.3047189562170503, 'or'], [1.651292546497023, 'spell'], [1.651292546497023, 'Could'], [1.778315050073717, 'lie'], [1.651292546497023, 'understand'], [1.651292546497023, 'may']]\n"
     ]
    }
   ],
   "source": [
    "tfidf_representation = tfidf(all_songs)\n",
    "print(tfidf_representation[8])"
   ]
  },
  {
   "cell_type": "code",
   "execution_count": 114,
   "metadata": {},
   "outputs": [
    {
     "name": "stdout",
     "output_type": "stream",
     "text": [
      "[[1.651292546497023, 'am'], [1.3047189562170503, 'meet'], [1.651292546497023, 'weirdo..'], [1.651292546497023, 'high'], [1.651292546497023, 'knife'], [1.101986402162968, 'those'], [1.651292546497023, 'notice'], [1.651292546497023, 'playing'], [1.101986402162968, 'She'], [1.7651747910830244, 'dress'], [1.0, '.'], [1.708233668790024, 'other'], [1.3946995738871915, 'he'], [1.651292546497023, 'zay-zoo-za-ze-zo-zay'], [1.651292546497023, 'Because'], [1.651292546497023, 'too'], [0.9581453659370776, 'do'], [1.3876588058399055, 'baby'], [1.3047189562170503, 'around'], [1.651292546497023, 'float'], [1.101986402162968, 'If'], [1.651292546497023, 'darned'], [1.651292546497023, 'dust'], [1.651292546497023, 'heart'], [0.9581453659370776, 'on'], [1.7651747910830244, 'need'], [1.651292546497023, 'wear'], [1.651292546497023, 'fingers'], [1.651292546497023, 'into'], [1.101986402162968, 'When'], [1.3047189562170503, 'loving'], [1.651292546497023, 'ba-be-do'], [1.708233668790024, 'Who'], [0.8465735902799727, 'You'], [1.3047189562170503, 'kiss'], [1.651292546497023, 'woolworth'], [0.9581453659370776, 'for'], [1.651292546497023, 'Like'], [1.651292546497023, 'spend'], [1.651292546497023, 'weepy'], [1.651292546497023, 'leaf'], [1.3047189562170503, 'ca'], [1.651292546497023, 'beautiful'], [1.651292546497023, 'because'], [1.651292546497023, 'weirdo'], [1.3047189562170503, 'Baby'], [1.651292546497023, 'places'], [1.3047189562170503, 'sweet'], [1.651292546497023, 'more'], [1.651292546497023, 'dynamite'], [1.3047189562170503, 'not'], [1.651292546497023, 'time'], [1.651292546497023, 'turtle'], [1.349709265052121, 'move'], [0.5344827586206896, 'the'], [1.3047189562170503, 'Oh'], [1.651292546497023, 'beauty'], [1.651292546497023, 'off'], [1.651292546497023, 'hurts'], [1.101986402162968, \"'ve\"], [1.651292546497023, 'Lullaby'], [1.349709265052121, 'why'], [1.651292546497023, 'weave'], [1.651292546497023, 'plenty'], [1.708233668790024, 'ain'], [1.651292546497023, 'elevator'], [1.0242243566913587, 'but'], [1.651292546497023, 'hell'], [1.651292546497023, 'care'], [1.3047189562170503, 'are'], [0.7554128118829954, 'And'], [1.651292546497023, 'ya'], [1.3047189562170503, 'lips'], [1.3047189562170503, 'perfect'], [1.651292546497023, 'anything'], [1.651292546497023, 'With'], [1.3047189562170503, 'hear'], [1.7651747910830244, 'tight'], [1.101986402162968, 'if'], [1.3047189562170503, 'magic'], [1.651292546497023, 'name'], [1.651292546497023, 'rover'], [1.651292546497023, 'sigh'], [1.101986402162968, 'night'], [1.651292546497023, 'Flying'], [1.651292546497023, 'really'], [1.3047189562170503, 'think'], [1.651292546497023, 'Always'], [1.651292546497023, 'list'], [1.651292546497023, 'step'], [1.7651747910830244, 'enough'], [1.1779854643811036, 'away'], [1.708233668790024, 'something'], [1.651292546497023, 'before'], [1.651292546497023, 'silicone'], [1.3047189562170503, 'dream'], [1.651292546497023, 'street'], [1.651292546497023, 'scheme'], [1.708233668790024, 'than'], [1.651292546497023, 'walk'], [1.3047189562170503, 'every'], [1.651292546497023, 'junk'], [1.651292546497023, 'guess'], [1.3047189562170503, 'The'], [1.651292546497023, 'pray'], [1.651292546497023, 'then'], [1.651292546497023, 'tingle'], [1.651292546497023, 'hey'], [1.651292546497023, 'sip'], [1.651292546497023, 'fuckin'], [1.651292546497023, 'fate'], [1.651292546497023, 'Why'], [1.651292546497023, 'along'], [1.3047189562170503, 'have'], [1.651292546497023, 'spin'], [1.484680191557333, 'He'], [0.5526802578289132, 'you'], [1.651292546497023, 'many'], [1.651292546497023, 'ever'], [1.651292546497023, 'pieces'], [0.7554128118829954, 'in'], [1.651292546497023, 'Taught'], [1.651292546497023, 'haunt'], [1.139985933272036, 'is'], [1.101986402162968, \"'d\"], [1.651292546497023, 'booty'], [1.651292546497023, 'Gee'], [1.708233668790024, 'busted'], [1.651292546497023, 'inch'], [1.651292546497023, 'running'], [1.651292546497023, 'lucky'], [1.3047189562170503, 'blues'], [1.651292546497023, 'Just'], [1.651292546497023, 'run'], [1.651292546497023, 'ba-be-oh'], [1.101986402162968, 'No'], [1.651292546497023, 'Goody'], [1.5959803065808502, 'My'], [1.651292546497023, 'clear'], [1.651292546497023, 'above'], [1.651292546497023, 'body'], [0.6783374719693662, \"'s\"], [1.651292546497023, 'dreaming'], [1.651292546497023, 'there'], [1.651292546497023, 'Barbie'], [1.651292546497023, 'boys'], [1.3047189562170503, 'now'], [1.651292546497023, 'foolish'], [1.651292546497023, 'pillow'], [1.651292546497023, 'Till'], [1.651292546497023, 'Rover'], [0.8465735902799727, \"n't\"], [1.651292546497023, 'sure'], [1.651292546497023, 'look'], [1.651292546497023, 'babe'], [1.651292546497023, 'feather'], [0.9581453659370776, 'be'], [1.651292546497023, 'scheming'], [1.651292546497023, 'Inside'], [1.651292546497023, 'goody'], [1.651292546497023, 'skinny'], [1.651292546497023, 'burning'], [1.651292546497023, 'until'], [1.651292546497023, 'Down'], [1.651292546497023, 'crazy'], [1.651292546497023, 'afreaid'], [1.3047189562170503, 'tell'], [1.651292546497023, 'eyes'], [1.651292546497023, 'Hey'], [1.8221159133760254, 'don'], [1.651292546497023, 'Caught'], [1.651292546497023, 'find'], [1.651292546497023, 'will'], [1.349709265052121, 'shake'], [0.9049579758165225, 'like'], [1.3047189562170503, 'as'], [1.651292546497023, 'real'], [1.651292546497023, 'road'], [1.651292546497023, 'na'], [1.651292546497023, 'kind'], [1.349709265052121, 'one'], [0.8757657830482477, 'so'], [1.651292546497023, 'coat'], [1.651292546497023, 'bitches'], [0.9911848613142182, 'go'], [0.9581453659370776, 'All'], [1.651292546497023, 'oh'], [1.3047189562170503, 'had'], [1.651292546497023, 'were'], [1.484680191557333, 'got'], [1.651292546497023, 'fat'], [1.651292546497023, 'keep'], [1.651292546497023, 'skin'], [1.651292546497023, 'angel'], [1.651292546497023, \"'Bout\"], [1.651292546497023, 'Happiness'], [1.651292546497023, 'Still'], [1.651292546497023, 'wish'], [1.651292546497023, 'spine'], [1.651292546497023, 'Then'], [1.651292546497023, 'plays'], [1.651292546497023, 'bringing'], [1.651292546497023, 'willow'], [1.3047189562170503, 'things'], [1.708233668790024, 'chance'], [1.651292546497023, 'barrel'], [1.651292546497023, 'Come'], [1.651292546497023, 'ba-be-bo-ba-bay'], [1.651292546497023, 'doing'], [1.651292546497023, 'bumpy'], [1.708233668790024, 'face'], [1.651292546497023, 'Bill'], [1.3876588058399055, 'can'], [1.651292546497023, 'Photoshop'], [1.651292546497023, 'Rock-e-fellow'], [1.651292546497023, 'wan'], [1.3047189562170503, 'old'], [0.5526802578289132, ','], [1.651292546497023, 'coo'], [1.651292546497023, 'knows'], [1.651292546497023, 'tune'], [1.651292546497023, 'right'], [1.651292546497023, 'permission'], [1.651292546497023, 'ba-ba-bo'], [1.651292546497023, 'special'], [1.651292546497023, 'grand'], [0.9911848613142182, 'We'], [1.651292546497023, \"'em\"], [0.7251193665879432, 'that'], [1.9359981579620271, '’'], [1.101986402162968, 'should'], [1.651292546497023, 'them'], [1.708233668790024, 'learn'], [1.708233668790024, 'Nobody'], [1.651292546497023, 'side'], [1.3047189562170503, 'world'], [1.349709265052121, 'down'], [1.651292546497023, 'Know'], [1.708233668790024, 'long'], [1.651292546497023, 'round'], [1.708233668790024, 'nobody'], [1.651292546497023, 'here..'], [1.651292546497023, 'soul'], [1.651292546497023, 'Get'], [1.651292546497023, 'Scheme'], [1.651292546497023, 'tea'], [1.651292546497023, 'life'], [1.708233668790024, 'class'], [1.651292546497023, 'swell'], [1.708233668790024, 'Cus'], [1.651292546497023, 'cent'], [1.651292546497023, 'boom'], [1.651292546497023, 'Leave'], [1.139985933272036, 'give'], [1.651292546497023, 'size'], [1.651292546497023, 'ahead'], [1.651292546497023, 'afraid'], [1.651292546497023, 'doorstep'], [1.651292546497023, 'rich'], [1.651292546497023, 'Exactly'], [1.708233668790024, 'song'], [1.101986402162968, 'little'], [1.651292546497023, 'reveal'], [1.349709265052121, 'music'], [1.3047189562170503, 'cry'], [1.3047189562170503, 'i'], [1.3047189562170503, '!'], [1.139985933272036, 'see'], [1.3047189562170503, 'again'], [1.651292546497023, 'take'], [1.3047189562170503, 'waited'], [1.7651747910830244, 'cares'], [1.651292546497023, 'stick-figure'], [1.651292546497023, 'tide'], [1.651292546497023, 'Such'], [1.651292546497023, 'shade'], [1.651292546497023, 'created'], [1.651292546497023, 'Icy'], [1.651292546497023, 'some'], [1.3047189562170503, 'what'], [1.651292546497023, 'few'], [1.708233668790024, 'downtown'], [1.708233668790024, 'd'], [1.651292546497023, 'danced'], [1.651292546497023, 'pretty'], [1.8790570356690262, 't'], [1.651292546497023, 'doves'], [1.3047189562170503, 'make'], [1.651292546497023, 'gave'], [1.3047189562170503, 'feel'], [1.651292546497023, 'momma'], [1.651292546497023, 'does'], [1.651292546497023, 'Life'], [1.101986402162968, \"'ll\"], [1.651292546497023, 'There'], [1.651292546497023, 'ay'], [1.651292546497023, 'words'], [1.651292546497023, 'eye'], [1.651292546497023, 'feel..'], [1.651292546497023, 'awake'], [1.708233668790024, 'romance'], [1.651292546497023, 'key'], [1.7651747910830244, 'sway'], [1.651292546497023, 'raise'], [1.651292546497023, 'get'], [1.651292546497023, 'memory'], [1.651292546497023, 'money'], [1.651292546497023, 'mother'], [1.651292546497023, 'looking'], [0.6670278973797228, 'to'], [1.651292546497023, 'gold'], [1.651292546497023, 'From'], [1.651292546497023, 'our'], [1.708233668790024, 'act'], [1.3047189562170503, 'how'], [1.651292546497023, 'way'], [1.708233668790024, 'groove'], [0.8757657830482477, 'all'], [1.651292546497023, 'pined'], [0.8465735902799727, \"'m\"], [1.651292546497023, 'was'], [1.651292546497023, 'Aflame'], [1.651292546497023, \"'bout\"], [1.139985933272036, 'never'], [1.651292546497023, 'creep'], [1.651292546497023, 'black'], [1.651292546497023, 'bottom'], [1.651292546497023, 'rascal'], [1.651292546497023, 'whisper'], [0.9581453659370776, 'know'], [1.708233668790024, 'swing'], [1.3047189562170503, 'Every'], [1.708233668790024, 'listen'], [1.0242243566913587, '?'], [1.651292546497023, 'used'], [1.651292546497023, 'parade'], [1.651292546497023, 'has'], [1.139985933272036, 'no'], [1.349709265052121, 'heard'], [1.651292546497023, 'Whatever'], [1.651292546497023, 'phrase'], [1.708233668790024, 'shut'], [1.651292546497023, 'singin'], [1.651292546497023, 'Under'], [1.651292546497023, 'each'], [1.651292546497023, 'who'], [1.651292546497023, 'she'], [1.651292546497023, 'low'], [1.651292546497023, 'dreams'], [1.101986402162968, 'here'], [0.7251193665879432, 'my'], [1.651292546497023, 'wo'], [1.651292546497023, 'ai'], [1.651292546497023, 'chase'], [1.101986402162968, 'they'], [1.651292546497023, 'sky'], [1.651292546497023, 'heels'], [1.651292546497023, 'lullaby'], [1.708233668790024, 'matter'], [1.3047189562170503, \"'\"], [1.101986402162968, 'In'], [1.1779854643811036, 'hold'], [1.651292546497023, 'Hooray'], [1.651292546497023, 'Yeah'], [1.651292546497023, 'stop'], [1.651292546497023, 'been'], [0.7170151852531574, 'me'], [1.7651747910830244, 'drive'], [1.708233668790024, 'needs'], [1.9359981579620271, 'dance'], [1.651292546497023, 'feels'], [1.651292546497023, 'What'], [1.3946995738871915, 'thing'], [1.651292546497023, 'fire'], [1.651292546497023, 'satisfied'], [1.101986402162968, 'from'], [1.651292546497023, 'ride'], [1.651292546497023, 'crossed'], [1.651292546497023, 'want'], [1.651292546497023, 'meant'], [1.651292546497023, 'belong'], [1.3047189562170503, 'only'], [1.651292546497023, 'beams'], [1.0242243566913587, 'we'], [1.651292546497023, 'hallelujah'], [1.651292546497023, 'magazines'], [1.651292546497023, 'hope'], [1.651292546497023, 'called'], [1.708233668790024, 'last'], [1.3047189562170503, 'worry'], [1.651292546497023, 'pitter-pat'], [0.5689655172413793, 'I'], [1.651292546497023, \"'Cause\"], [1.349709265052121, 'him'], [1.651292546497023, 'starts'], [1.651292546497023, 'sunny'], [1.651292546497023, 'aflame'], [1.3047189562170503, 'always'], [1.651292546497023, 'sell'], [1.3047189562170503, 'someone'], [0.8757657830482477, 'it'], [1.651292546497023, 'witchcraft'], [1.708233668790024, 'likes'], [1.651292546497023, 'same'], [1.651292546497023, 'Grab'], [1.651292546497023, 'Have'], [1.1779854643811036, 'So'], [1.651292546497023, 'Diamond'], [1.651292546497023, 'Never'], [1.651292546497023, 'doll'], [1.651292546497023, 'bracelets'], [1.651292546497023, 'working'], [0.8465735902799727, \"'re\"], [1.651292546497023, 'Birdland'], [1.651292546497023, 'shit'], [1.651292546497023, 'feet'], [1.139985933272036, 'when'], [1.3047189562170503, 'mine'], [1.3047189562170503, 'On'], [1.651292546497023, 'farewell'], [1.651292546497023, 'Ca'], [1.708233668790024, 'better'], [0.9581453659370776, 'just'], [1.651292546497023, 'woodland'], [1.651292546497023, 'themes'], [1.651292546497023, 'May'], [1.651292546497023, 'smile'], [1.651292546497023, 'coming'], [1.651292546497023, 'put'], [1.3047189562170503, 'well'], [1.651292546497023, 'goodbye'], [1.651292546497023, 'its'], [0.603448275862069, 'a'], [1.651292546497023, 'control'], [1.651292546497023, 'could'], [1.651292546497023, 'changed'], [0.8465735902799727, 'your'], [1.651292546497023, 'supposed'], [1.349709265052121, 'about'], [1.101986402162968, 'But'], [1.651292546497023, 'top'], [1.651292546497023, 'met'], [0.8335589648364087, 'and'], [1.651292546497023, 'desire'], [1.651292546497023, 'makes'], [1.651292546497023, 'told'], [1.651292546497023, 'stay'], [0.7017284192786548, 'of'], [1.708233668790024, 'bit'], [1.0242243566913587, 'up'], [1.708233668790024, 'slow'], [1.708233668790024, 'joint'], [1.651292546497023, 'blue'], [1.651292546497023, 'bass'], [1.651292546497023, 'while'], [1.651292546497023, 'mate'], [1.651292546497023, 'day'], [1.651292546497023, 'says'], [0.7485103138972317, 'love'], [1.651292546497023, 'Your'], [1.651292546497023, 'set'], [1.3047189562170503, 'hat'], [1.3047189562170503, 'at'], [1.708233668790024, 'bike'], [1.101986402162968, 'with'], [1.651292546497023, 'true'], [1.651292546497023, 'direct'], [1.651292546497023, 'sing'], [1.651292546497023, 'lover'], [1.651292546497023, 'over'], [1.651292546497023, 'three'], [1.651292546497023, 'treble'], [1.651292546497023, 'Kiss'], [0.9911848613142182, 'two'], [0.9581453659370776, 'That'], [1.651292546497023, 'an'], [1.651292546497023, 'broke'], [1.139985933272036, 'out'], [1.651292546497023, 'exactly'], [1.651292546497023, 'Go'], [1.708233668790024, 'frame'], [1.651292546497023, 'worries'], [1.651292546497023, 'show'], [1.3047189562170503, 'back'], [1.3047189562170503, 'happy'], [1.349709265052121, 'or'], [1.651292546497023, 'spell'], [1.651292546497023, 'Could'], [1.651292546497023, 'lie'], [1.651292546497023, 'understand'], [1.651292546497023, 'may']]\n"
     ]
    }
   ],
   "source": [
    "tfidf_representation = tfidf(all_songs)\n",
    "print(tfidf_representation[9])"
   ]
  },
  {
   "cell_type": "code",
   "execution_count": null,
   "metadata": {
    "collapsed": true
   },
   "outputs": [],
   "source": []
  }
 ],
 "metadata": {
  "kernelspec": {
   "display_name": "Python 3",
   "language": "python",
   "name": "python3"
  },
  "language_info": {
   "codemirror_mode": {
    "name": "ipython",
    "version": 3
   },
   "file_extension": ".py",
   "mimetype": "text/x-python",
   "name": "python",
   "nbconvert_exporter": "python",
   "pygments_lexer": "ipython3",
   "version": "3.6.1"
  }
 },
 "nbformat": 4,
 "nbformat_minor": 2
}

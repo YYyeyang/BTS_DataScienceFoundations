{
 "cells": [
  {
   "cell_type": "code",
   "execution_count": 1,
   "metadata": {
    "collapsed": true
   },
   "outputs": [],
   "source": [
    "import nltk\n",
    "from nltk import word_tokenize"
   ]
  },
  {
   "cell_type": "code",
   "execution_count": 2,
   "metadata": {
    "collapsed": true
   },
   "outputs": [
    {
     "ename": "FileNotFoundError",
     "evalue": "[Errno 2] No such file or directory: 'Song1.txt'",
     "output_type": "error",
     "traceback": [
      "\u001b[1;31m---------------------------------------------------------------------------\u001b[0m",
      "\u001b[1;31mFileNotFoundError\u001b[0m                         Traceback (most recent call last)",
      "\u001b[1;32m<ipython-input-2-95b32ee4c8f1>\u001b[0m in \u001b[0;36m<module>\u001b[1;34m()\u001b[0m\n\u001b[1;32m----> 1\u001b[1;33m \u001b[1;32mwith\u001b[0m \u001b[0mopen\u001b[0m\u001b[1;33m(\u001b[0m\u001b[1;34m'Song1.txt'\u001b[0m\u001b[1;33m,\u001b[0m \u001b[1;34m'r'\u001b[0m\u001b[1;33m)\u001b[0m \u001b[1;32mas\u001b[0m \u001b[0mmyfile\u001b[0m\u001b[1;33m:\u001b[0m\u001b[1;33m\u001b[0m\u001b[0m\n\u001b[0m\u001b[0;32m      2\u001b[0m     \u001b[0mSong1\u001b[0m\u001b[1;33m=\u001b[0m\u001b[0mmyfile\u001b[0m\u001b[1;33m.\u001b[0m\u001b[0mread\u001b[0m\u001b[1;33m(\u001b[0m\u001b[1;33m)\u001b[0m\u001b[1;33m.\u001b[0m\u001b[0mreplace\u001b[0m\u001b[1;33m(\u001b[0m\u001b[1;34m'\\n'\u001b[0m\u001b[1;33m,\u001b[0m\u001b[1;34m'. '\u001b[0m\u001b[1;33m)\u001b[0m\u001b[1;33m\u001b[0m\u001b[0m\n",
      "\u001b[1;31mFileNotFoundError\u001b[0m: [Errno 2] No such file or directory: 'Song1.txt'"
     ]
    }
   ],
   "source": [
    "with open('Song1.txt', 'r') as myfile:\n",
    "    Song1=myfile.read().replace('\\n','. ')"
   ]
  },
  {
   "cell_type": "code",
   "execution_count": null,
   "metadata": {
    "collapsed": true
   },
   "outputs": [],
   "source": [
    "with open('Song2.txt', 'r') as myfile:\n",
    "    Song2=myfile.read().replace('\\n','. ')"
   ]
  },
  {
   "cell_type": "code",
   "execution_count": null,
   "metadata": {
    "collapsed": true
   },
   "outputs": [],
   "source": [
    "with open('Song3.txt', 'r') as myfile:\n",
    "    Song3=myfile.read().replace('\\n','. ')"
   ]
  },
  {
   "cell_type": "code",
   "execution_count": null,
   "metadata": {
    "collapsed": true
   },
   "outputs": [],
   "source": [
    "with open('Song4.txt', 'r') as myfile:\n",
    "    Song4=myfile.read().replace('\\n','. ')"
   ]
  },
  {
   "cell_type": "code",
   "execution_count": null,
   "metadata": {
    "collapsed": true
   },
   "outputs": [],
   "source": [
    "with open('Song5.txt', 'r') as myfile:\n",
    "    Song5=myfile.read().replace('\\n','. ')"
   ]
  },
  {
   "cell_type": "code",
   "execution_count": null,
   "metadata": {
    "collapsed": true
   },
   "outputs": [],
   "source": [
    "with open('Song6.txt', 'r') as myfile:\n",
    "    Song6=myfile.read().replace('\\n','. ')"
   ]
  },
  {
   "cell_type": "code",
   "execution_count": null,
   "metadata": {
    "collapsed": true
   },
   "outputs": [],
   "source": [
    "with open('Song7.txt', 'r') as myfile:\n",
    "    Song7=myfile.read().replace('\\n','. ')"
   ]
  },
  {
   "cell_type": "code",
   "execution_count": null,
   "metadata": {
    "collapsed": true
   },
   "outputs": [],
   "source": [
    "with open('Song8.txt', 'r') as myfile:\n",
    "    Song8=myfile.read().replace('\\n','. ')"
   ]
  },
  {
   "cell_type": "code",
   "execution_count": null,
   "metadata": {
    "collapsed": true
   },
   "outputs": [],
   "source": [
    "with open('Song9.txt', 'r') as myfile:\n",
    "    Song9=myfile.read().replace('\\n','. ')"
   ]
  },
  {
   "cell_type": "code",
   "execution_count": null,
   "metadata": {
    "collapsed": true
   },
   "outputs": [],
   "source": [
    "with open('Song10.txt', 'r') as myfile:\n",
    "    Song10=myfile.read().replace('\\n','. ')"
   ]
  },
  {
   "cell_type": "code",
   "execution_count": null,
   "metadata": {
    "collapsed": true
   },
   "outputs": [],
   "source": [
    "all_songs=[Song1,Song2,Song3,Song4,Song5,Song6,Song7,Song8,Song9,Song10]"
   ]
  },
  {
   "cell_type": "code",
   "execution_count": null,
   "metadata": {
    "collapsed": true
   },
   "outputs": [],
   "source": [
    "tokenized_songs=[word_tokenize(d) for d in all_songs]\n",
    "all_tokens_set=set([item for sublist in tokenized_songs for item in sublist])"
   ]
  },
  {
   "cell_type": "markdown",
   "metadata": {},
   "source": [
    "## 1. Calculate similarity"
   ]
  },
  {
   "cell_type": "code",
   "execution_count": null,
   "metadata": {},
   "outputs": [],
   "source": [
    "from sklearn.feature_extraction.text import TfidfVectorizer\n",
    "\n",
    "tokenize = lambda doc: doc.lower().split(\" \")\n",
    "\n",
    "sklearn_tfidf = TfidfVectorizer(norm='l2', min_df=0, use_idf=True, smooth_idf=False, sublinear_tf=True, tokenizer=tokenize)\n",
    "\n",
    "sklearn_representation = sklearn_tfidf.fit_transform(all_songs)\n",
    "print(sklearn_representation.toarray()[0].tolist())"
   ]
  },
  {
   "cell_type": "code",
   "execution_count": null,
   "metadata": {
    "collapsed": true
   },
   "outputs": [],
   "source": [
    "def cosine_similarity(vector1, vector2):\n",
    "        dot_product = sum(p*q for p,q in zip(vector1, vector2))\n",
    "        magnitude = math.sqrt(sum([val**2 for val in vector1])*sum([val**2 for val in vector2]))\n",
    "        if not magnitude:\n",
    "            return 0\n",
    "        return dot_product/magnitude"
   ]
  },
  {
   "cell_type": "code",
   "execution_count": null,
   "metadata": {},
   "outputs": [],
   "source": [
    "cosine_similarity(sklearn_representation.toarray()[0],sklearn_representation.toarray()[1])"
   ]
  },
  {
   "cell_type": "code",
   "execution_count": null,
   "metadata": {},
   "outputs": [],
   "source": [
    "for doc1 in range(0,10):\n",
    "    for doc2 in range(0,10):\n",
    "        print (cosine_similarity(sklearn_representation.toarray()[doc1],sklearn_representation.toarray()[doc2]))   "
   ]
  },
  {
   "cell_type": "markdown",
   "metadata": {},
   "source": [
    "## 2. Recompute similarity"
   ]
  },
  {
   "cell_type": "code",
   "execution_count": null,
   "metadata": {
    "collapsed": true
   },
   "outputs": [],
   "source": [
    "import nltk"
   ]
  },
  {
   "cell_type": "code",
   "execution_count": null,
   "metadata": {
    "collapsed": true
   },
   "outputs": [],
   "source": [
    "porter = nltk.PorterStemmer()\n",
    "\n",
    "text_stemmed=[porter.stem(t) for t in all_tokens_set]\n",
    "print(text_stemmed)"
   ]
  },
  {
   "cell_type": "code",
   "execution_count": null,
   "metadata": {
    "collapsed": true
   },
   "outputs": [],
   "source": [
    "from nltk.corpus import stopwords"
   ]
  },
  {
   "cell_type": "code",
   "execution_count": null,
   "metadata": {
    "collapsed": true
   },
   "outputs": [],
   "source": [
    "tokenize1=word_tokenize(Song1)\n",
    "Remove1=[w for w in tokenize1 if w not in stopwords.words('english')]\n",
    "result1 = ' '.join(Remove1)\n",
    "\n",
    "tokenize2=word_tokenize(Song2)\n",
    "Remove2=[w for w in tokenize2 if w not in stopwords.words('english')]\n",
    "result2 = ' '.join(Remove2)\n",
    "\n",
    "tokenize3=word_tokenize(Song3)\n",
    "Remove3=[w for w in tokenize3 if w not in stopwords.words('english')]\n",
    "result3 = ' '.join(Remove3)\n",
    "\n",
    "tokenize4=word_tokenize(Song4)\n",
    "Remove4=[w for w in tokenize4 if w not in stopwords.words('english')]\n",
    "result4 = ' '.join(Remove4)\n",
    "\n",
    "tokenize5=word_tokenize(Song5)\n",
    "Remove5=[w for w in tokenize5 if w not in stopwords.words('english')]\n",
    "result5 = ' '.join(Remove5)\n",
    "\n",
    "tokenize6=word_tokenize(Song6)\n",
    "Remove6=[w for w in tokenize6 if w not in stopwords.words('english')]\n",
    "result6 = ' '.join(Remove6)\n",
    "\n",
    "tokenize7=word_tokenize(Song7)\n",
    "Remove7=[w for w in tokenize7 if w not in stopwords.words('english')]\n",
    "result7 = ' '.join(Remove7)\n",
    "\n",
    "tokenize8=word_tokenize(Song8)\n",
    "Remove8=[w for w in tokenize8 if w not in stopwords.words('english')]\n",
    "result8 = ' '.join(Remove8)\n",
    "\n",
    "tokenize9=word_tokenize(Song9)\n",
    "Remove9=[w for w in tokenize9 if w not in stopwords.words('english')]\n",
    "result9 = ' '.join(Remove9)\n",
    "\n",
    "tokenize10=word_tokenize(Song10)\n",
    "Remove10=[w for w in tokenize10 if w not in stopwords.words('english')]\n",
    "result10 = ' '.join(Remove10)"
   ]
  },
  {
   "cell_type": "code",
   "execution_count": null,
   "metadata": {
    "collapsed": true
   },
   "outputs": [],
   "source": [
    "all_no_stopwords=[result1,result2,result3,result4,result5,result6,result7,result8,result9,result10]"
   ]
  },
  {
   "cell_type": "code",
   "execution_count": null,
   "metadata": {},
   "outputs": [],
   "source": [
    "from sklearn.feature_extraction.text import TfidfVectorizer\n",
    "\n",
    "tokenize = lambda doc: doc.lower().split(\" \")\n",
    "\n",
    "sklearn_tfidf = TfidfVectorizer(norm='l2', min_df=0, use_idf=True, smooth_idf=False, sublinear_tf=True, tokenizer=tokenize)\n",
    "\n",
    "sklearn_representation2 = sklearn_tfidf.fit_transform(all_no_stopwords)\n",
    "print(sklearn_representation2.toarray()[0].tolist())"
   ]
  },
  {
   "cell_type": "code",
   "execution_count": null,
   "metadata": {},
   "outputs": [],
   "source": [
    "for doc1 in range(0,10):\n",
    "    for doc2 in range(0,10):\n",
    "        print (cosine_similarity(sklearn_representation2.toarray()[doc1],sklearn_representation2.toarray()[doc2]))"
   ]
  },
  {
   "cell_type": "markdown",
   "metadata": {},
   "source": [
    "### Comment: comparing the two similarities with and without stopwords, the similarity changed quite a lot. The highest similarities before with stopwords was only 0.12, and the without stopwords the highest is 0.17."
   ]
  },
  {
   "cell_type": "markdown",
   "metadata": {},
   "source": [
    "## 3. Word association"
   ]
  },
  {
   "cell_type": "code",
   "execution_count": null,
   "metadata": {},
   "outputs": [],
   "source": [
    "from nltk.corpus import treebank\n",
    "print (treebank)"
   ]
  },
  {
   "cell_type": "code",
   "execution_count": null,
   "metadata": {
    "collapsed": true
   },
   "outputs": [],
   "source": [
    "from nltk import FreqDist, ConditionalFreqDist\n",
    "from nltk.corpus import stopwords\n",
    "\n",
    "cfd = ConditionalFreqDist()\n",
    "stopwords_list = stopwords.words('english')\n",
    "\n",
    "def is_noun(tag):\n",
    "    return tag.lower() in ['nn','nns','nn$','nn-tl','nn+bez', 'nn+hvz', \n",
    "                           'nns$','np','np$','np+bez','nps', 'nps$','nr',\n",
    "                           'np-tl','nrs','nr$']\n",
    "\n",
    "for sentence in treebank.tagged_sents():\n",
    "    for (index, tagtuple) in enumerate(sentence):\n",
    "        (token, tag) = tagtuple\n",
    "        token = token.lower()\n",
    "        if token not in stopwords_list and is_noun(tag):\n",
    "            window = sentence[index+1:index+5]\n",
    "            for (window_token, window_tag) in window:\n",
    "                window_token = window_token.lower()\n",
    "                if window_token not in stopwords_list and is_noun(window_tag):\n",
    "                    cfd[token][window_token] += 1"
   ]
  },
  {
   "cell_type": "code",
   "execution_count": null,
   "metadata": {},
   "outputs": [],
   "source": [
    "print(cfd['chairman'].max())"
   ]
  },
  {
   "cell_type": "code",
   "execution_count": null,
   "metadata": {},
   "outputs": [],
   "source": [
    "print(cfd['profit'].max())"
   ]
  },
  {
   "cell_type": "code",
   "execution_count": null,
   "metadata": {},
   "outputs": [],
   "source": [
    "print(cfd['president'].max())"
   ]
  },
  {
   "cell_type": "code",
   "execution_count": null,
   "metadata": {},
   "outputs": [],
   "source": [
    "print(cfd['investors'].max())"
   ]
  },
  {
   "cell_type": "code",
   "execution_count": null,
   "metadata": {},
   "outputs": [],
   "source": [
    "print(cfd['city'].max())"
   ]
  },
  {
   "cell_type": "code",
   "execution_count": null,
   "metadata": {},
   "outputs": [],
   "source": [
    "print(cfd['chief'].max())"
   ]
  }
 ],
 "metadata": {
  "kernelspec": {
   "display_name": "Python 3",
   "language": "python",
   "name": "python3"
  },
  "language_info": {
   "codemirror_mode": {
    "name": "ipython",
    "version": 3
   },
   "file_extension": ".py",
   "mimetype": "text/x-python",
   "name": "python",
   "nbconvert_exporter": "python",
   "pygments_lexer": "ipython3",
   "version": "3.6.1"
  }
 },
 "nbformat": 4,
 "nbformat_minor": 2
}
